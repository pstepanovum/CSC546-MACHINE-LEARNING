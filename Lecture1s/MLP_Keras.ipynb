{
 "cells": [
  {
   "cell_type": "markdown",
   "metadata": {
    "id": "VvsL9f5ld1sR"
   },
   "source": [
    "## Multiclass Classification using a neural network (MLP) with Keras\n"
   ]
  },
  {
   "cell_type": "code",
   "execution_count": 1,
   "metadata": {
    "id": "wiyNzvkGd1sX"
   },
   "outputs": [],
   "source": [
    "#select GPU\n",
    "import os\n",
    "os.environ[\"CUDA_DEVICE_ORDER\"] = \"PCI_BUS_ID\"\n",
    "os.environ[\"CUDA_VISIBLE_DEVICES\"] = \"0\""
   ]
  },
  {
   "cell_type": "code",
   "execution_count": 2,
   "metadata": {
    "id": "XU-N9hwFd1sZ"
   },
   "outputs": [
    {
     "name": "stdout",
     "output_type": "stream",
     "text": [
      "WARNING:tensorflow:From C:\\Users\\liang\\anaconda3\\envs\\tensorflow\\Lib\\site-packages\\keras\\src\\losses.py:2976: The name tf.losses.sparse_softmax_cross_entropy is deprecated. Please use tf.compat.v1.losses.sparse_softmax_cross_entropy instead.\n",
      "\n"
     ]
    }
   ],
   "source": [
    "from tensorflow.keras.models import Sequential\n",
    "from tensorflow.keras.layers import Dense\n",
    "from tensorflow.keras.optimizers import SGD\n",
    "from tensorflow.keras.datasets import mnist\n",
    "import matplotlib.pyplot as plt\n",
    "from IPython import display\n",
    "import numpy as np"
   ]
  },
  {
   "cell_type": "markdown",
   "metadata": {
    "id": "Sp0xWs5Vd1sa"
   },
   "source": [
    "### Load the data"
   ]
  },
  {
   "cell_type": "code",
   "execution_count": 3,
   "metadata": {
    "colab": {
     "base_uri": "https://localhost:8080/"
    },
    "id": "wnPvas0Gd1sa",
    "outputId": "bf7ba46d-79b3-457e-ebb4-229a04787c8f"
   },
   "outputs": [],
   "source": [
    "(x_train, y_train), (x_test, y_test) = mnist.load_data()"
   ]
  },
  {
   "cell_type": "code",
   "execution_count": 4,
   "metadata": {
    "colab": {
     "base_uri": "https://localhost:8080/"
    },
    "id": "oCYs_n3Wd1sb",
    "outputId": "767c25d5-467b-4f07-8c27-ff9936147a66"
   },
   "outputs": [
    {
     "data": {
      "text/plain": [
       "(28, 28)"
      ]
     },
     "execution_count": 4,
     "metadata": {},
     "output_type": "execute_result"
    }
   ],
   "source": [
    "x_train[0].shape"
   ]
  },
  {
   "cell_type": "code",
   "execution_count": 5,
   "metadata": {
    "colab": {
     "base_uri": "https://localhost:8080/"
    },
    "id": "L2VmAqCQd1sc",
    "outputId": "d2fefda0-364a-4700-f345-8fe4d1a022a1"
   },
   "outputs": [
    {
     "data": {
      "text/plain": [
       "255"
      ]
     },
     "execution_count": 5,
     "metadata": {},
     "output_type": "execute_result"
    }
   ],
   "source": [
    "x_train[0].max()"
   ]
  },
  {
   "cell_type": "code",
   "execution_count": 6,
   "metadata": {
    "colab": {
     "base_uri": "https://localhost:8080/"
    },
    "id": "56YEgxaHd1sd",
    "outputId": "99456d0a-668c-471c-89a1-cb3eee4f2775"
   },
   "outputs": [
    {
     "name": "stdout",
     "output_type": "stream",
     "text": [
      "60000 training samples\n",
      "10000 test samples\n"
     ]
    }
   ],
   "source": [
    "#reshape\n",
    "x_train = x_train.reshape(60000, 784)\n",
    "x_test = x_test.reshape(10000, 784)\n",
    "x_train = x_train.astype('float32')\n",
    "x_test = x_test.astype('float32')\n",
    "#normalize the value of every pixel into the range of 0 to 1\n",
    "x_train /= 255\n",
    "x_test /= 255\n",
    "print(x_train.shape[0], 'training samples')\n",
    "print(x_test.shape[0], 'test samples')"
   ]
  },
  {
   "cell_type": "markdown",
   "metadata": {
    "id": "s-N1KKQId1se"
   },
   "source": [
    "create a validation set"
   ]
  },
  {
   "cell_type": "code",
   "execution_count": 7,
   "metadata": {
    "colab": {
     "base_uri": "https://localhost:8080/"
    },
    "id": "6TRcebNdd1sf",
    "outputId": "ba98607f-3b01-4f35-bc30-2aef7f8e3669"
   },
   "outputs": [
    {
     "name": "stdout",
     "output_type": "stream",
     "text": [
      "train: (54000, 784) (54000,)\n",
      "validation: (6000, 784) (6000,)\n",
      "test: (10000, 784) (10000,)\n"
     ]
    }
   ],
   "source": [
    "from sklearn.model_selection import train_test_split\n",
    "x_train, x_val, y_train, y_val = train_test_split(x_train, y_train, test_size=0.1, random_state=0)\n",
    "print('train:', x_train.shape, y_train.shape)\n",
    "print('validation:', x_val.shape, y_val.shape)\n",
    "print('test:', x_test.shape, y_test.shape)"
   ]
  },
  {
   "cell_type": "markdown",
   "metadata": {
    "id": "kbFhibzzd1sf"
   },
   "source": [
    "### Show the digit images"
   ]
  },
  {
   "cell_type": "code",
   "execution_count": 8,
   "metadata": {
    "colab": {
     "base_uri": "https://localhost:8080/",
     "height": 229
    },
    "id": "vYw68Oxzd1sg",
    "outputId": "7d32b9dc-590c-4937-96af-75771012d48c"
   },
   "outputs": [
    {
     "data": {
      "image/png": "[encoded data removed]",
      "text/plain": [
       "<Figure size 300x300 with 1 Axes>"
      ]
     },
     "metadata": {},
     "output_type": "display_data"
    },
    {
     "data": {
      "text/plain": [
       "<Figure size 640x480 with 0 Axes>"
      ]
     },
     "metadata": {},
     "output_type": "display_data"
    }
   ],
   "source": [
    "fig, ax = plt.subplots(figsize=(3, 3))\n",
    "for n in range(0, x_train.shape[0], 1000):\n",
    "    I = x_train[n,:].reshape(28,28)\n",
    "    ax.imshow(I, cmap='gray')\n",
    "    ax.set_title('label: ' + str(int(y_train[n])), fontsize=16)\n",
    "    ax.axis('off')\n",
    "    plt.draw()\n",
    "    display.clear_output(wait=True)\n",
    "    display.display(fig)\n",
    "    plt.pause(0.1) "
   ]
  },
  {
   "cell_type": "code",
   "execution_count": 9,
   "metadata": {
    "colab": {
     "base_uri": "https://localhost:8080/",
     "height": 282
    },
    "id": "LD5Tj9cNd1sg",
    "outputId": "431e50a6-5a4a-4aac-8c1b-8e50bbb0b2e7"
   },
   "outputs": [
    {
     "data": {
      "text/plain": [
       "<matplotlib.image.AxesImage at 0x25100907b10>"
      ]
     },
     "execution_count": 9,
     "metadata": {},
     "output_type": "execute_result"
    },
    {
     "data": {
      "image/png": "[encoded data removed]",
      "text/plain": [
       "<Figure size 640x480 with 1 Axes>"
      ]
     },
     "metadata": {},
     "output_type": "display_data"
    }
   ],
   "source": [
    "#the first image in the training set\n",
    "plt.imshow(x_train[0].reshape(28,28), cmap='gray')"
   ]
  },
  {
   "cell_type": "code",
   "execution_count": 10,
   "metadata": {
    "colab": {
     "base_uri": "https://localhost:8080/"
    },
    "id": "ImStn2xQd1sh",
    "outputId": "30924e9f-586c-4506-b379-91227944e380"
   },
   "outputs": [
    {
     "data": {
      "text/plain": [
       "7"
      ]
     },
     "execution_count": 10,
     "metadata": {},
     "output_type": "execute_result"
    }
   ],
   "source": [
    "#the class label of the first training sample\n",
    "y_train[0]"
   ]
  },
  {
   "cell_type": "markdown",
   "metadata": {
    "id": "ewk_2Iwld1si"
   },
   "source": [
    "### Define the MLP model"
   ]
  },
  {
   "cell_type": "code",
   "execution_count": 11,
   "metadata": {
    "colab": {
     "base_uri": "https://localhost:8080/"
    },
    "id": "UZ4oZSY3d1si",
    "outputId": "2ca14356-a6ae-4f02-e144-b5287c341466"
   },
   "outputs": [
    {
     "name": "stdout",
     "output_type": "stream",
     "text": [
      "WARNING:tensorflow:From C:\\Users\\liang\\anaconda3\\envs\\tensorflow\\Lib\\site-packages\\keras\\src\\backend.py:873: The name tf.get_default_graph is deprecated. Please use tf.compat.v1.get_default_graph instead.\n",
      "\n",
      "Model: \"sequential\"\n",
      "_________________________________________________________________\n",
      " Layer (type)                Output Shape              Param #   \n",
      "=================================================================\n",
      " dense (Dense)               (None, 256)               200960    \n",
      "                                                                 \n",
      " dense_1 (Dense)             (None, 256)               65792     \n",
      "                                                                 \n",
      " dense_2 (Dense)             (None, 10)                2570      \n",
      "                                                                 \n",
      "=================================================================\n",
      "Total params: 269322 (1.03 MB)\n",
      "Trainable params: 269322 (1.03 MB)\n",
      "Non-trainable params: 0 (0.00 Byte)\n",
      "_________________________________________________________________\n"
     ]
    }
   ],
   "source": [
    "model = Sequential()\n",
    "model.add(Dense(units=256, activation='relu', input_shape=(784,)))\n",
    "model.add(Dense(units=256, activation='relu'))\n",
    "model.add(Dense(units=10,  activation='softmax'))\n",
    "model.compile(loss='sparse_categorical_crossentropy', optimizer=SGD(learning_rate=0.01, momentum=0.9),\n",
    "              metrics=['accuracy'])\n",
    "model.summary()"
   ]
  },
  {
   "cell_type": "code",
   "execution_count": 12,
   "metadata": {
    "id": "WEc0bIzyd1si"
   },
   "outputs": [],
   "source": [
    "loss_train_list=[]\n",
    "loss_val_list=[]\n",
    "acc_train_list=[]\n",
    "acc_val_list=[]"
   ]
  },
  {
   "cell_type": "markdown",
   "metadata": {
    "id": "Gx1Zv0J5d1si"
   },
   "source": [
    "### Train the model"
   ]
  },
  {
   "cell_type": "code",
   "execution_count": 13,
   "metadata": {
    "colab": {
     "base_uri": "https://localhost:8080/"
    },
    "id": "V9MwS-_zd1sj",
    "outputId": "7fc2658a-f1c2-42cc-f370-538f42276ee0"
   },
   "outputs": [
    {
     "name": "stdout",
     "output_type": "stream",
     "text": [
      "epoch 0\n",
      "WARNING:tensorflow:From C:\\Users\\liang\\anaconda3\\envs\\tensorflow\\Lib\\site-packages\\keras\\src\\utils\\tf_utils.py:492: The name tf.ragged.RaggedTensorValue is deprecated. Please use tf.compat.v1.ragged.RaggedTensorValue instead.\n",
      "\n",
      "WARNING:tensorflow:From C:\\Users\\liang\\anaconda3\\envs\\tensorflow\\Lib\\site-packages\\keras\\src\\engine\\base_layer_utils.py:384: The name tf.executing_eagerly_outside_functions is deprecated. Please use tf.compat.v1.executing_eagerly_outside_functions instead.\n",
      "\n",
      "844/844 [==============================] - 7s 7ms/step - loss: 0.3709 - accuracy: 0.8931 - val_loss: 0.1772 - val_accuracy: 0.9513\n",
      "epoch 1\n",
      "844/844 [==============================] - 6s 7ms/step - loss: 0.1580 - accuracy: 0.9534 - val_loss: 0.1296 - val_accuracy: 0.9603\n",
      "epoch 2\n",
      "844/844 [==============================] - 5s 6ms/step - loss: 0.1107 - accuracy: 0.9671 - val_loss: 0.1007 - val_accuracy: 0.9700\n",
      "epoch 3\n",
      "844/844 [==============================] - 5s 6ms/step - loss: 0.0835 - accuracy: 0.9749 - val_loss: 0.0901 - val_accuracy: 0.9737\n",
      "epoch 4\n",
      "844/844 [==============================] - 5s 6ms/step - loss: 0.0652 - accuracy: 0.9805 - val_loss: 0.0816 - val_accuracy: 0.9738\n",
      "epoch 5\n",
      "844/844 [==============================] - 6s 7ms/step - loss: 0.0530 - accuracy: 0.9842 - val_loss: 0.0737 - val_accuracy: 0.9775\n",
      "epoch 6\n",
      "844/844 [==============================] - 6s 7ms/step - loss: 0.0423 - accuracy: 0.9881 - val_loss: 0.0802 - val_accuracy: 0.9753\n",
      "epoch 7\n",
      "844/844 [==============================] - 6s 8ms/step - loss: 0.0349 - accuracy: 0.9899 - val_loss: 0.0683 - val_accuracy: 0.9787\n",
      "epoch 8\n",
      "844/844 [==============================] - 6s 7ms/step - loss: 0.0285 - accuracy: 0.9921 - val_loss: 0.0699 - val_accuracy: 0.9792\n",
      "epoch 9\n",
      "844/844 [==============================] - 6s 7ms/step - loss: 0.0226 - accuracy: 0.9942 - val_loss: 0.0714 - val_accuracy: 0.9795\n",
      "epoch 10\n",
      "844/844 [==============================] - 6s 7ms/step - loss: 0.0191 - accuracy: 0.9952 - val_loss: 0.0671 - val_accuracy: 0.9797\n",
      "epoch 11\n",
      "844/844 [==============================] - 6s 8ms/step - loss: 0.0159 - accuracy: 0.9960 - val_loss: 0.0664 - val_accuracy: 0.9805\n",
      "epoch 12\n",
      "844/844 [==============================] - 6s 7ms/step - loss: 0.0122 - accuracy: 0.9975 - val_loss: 0.0646 - val_accuracy: 0.9813\n",
      "epoch 13\n",
      "844/844 [==============================] - 5s 6ms/step - loss: 0.0099 - accuracy: 0.9984 - val_loss: 0.0642 - val_accuracy: 0.9812\n",
      "epoch 14\n",
      "844/844 [==============================] - 6s 7ms/step - loss: 0.0078 - accuracy: 0.9989 - val_loss: 0.0652 - val_accuracy: 0.9813\n",
      "epoch 15\n",
      "844/844 [==============================] - 6s 7ms/step - loss: 0.0065 - accuracy: 0.9991 - val_loss: 0.0689 - val_accuracy: 0.9802\n",
      "epoch 16\n",
      "844/844 [==============================] - 6s 7ms/step - loss: 0.0053 - accuracy: 0.9995 - val_loss: 0.0660 - val_accuracy: 0.9815\n",
      "epoch 17\n",
      "844/844 [==============================] - 7s 8ms/step - loss: 0.0042 - accuracy: 0.9997 - val_loss: 0.0683 - val_accuracy: 0.9810\n",
      "epoch 18\n",
      "844/844 [==============================] - 6s 7ms/step - loss: 0.0033 - accuracy: 0.9999 - val_loss: 0.0689 - val_accuracy: 0.9807\n",
      "epoch 19\n",
      "844/844 [==============================] - 7s 8ms/step - loss: 0.0029 - accuracy: 0.9998 - val_loss: 0.0677 - val_accuracy: 0.9820\n"
     ]
    }
   ],
   "source": [
    "for epoch in range(0, 20):   \n",
    "    print('epoch', epoch)\n",
    "    #set epochs=1\n",
    "    history=model.fit(x_train, y_train, batch_size=64, epochs=1, validation_data=(x_val, y_val))\n",
    "    loss_train_list.extend(history.history['loss'])\n",
    "    loss_val_list.extend(history.history['val_loss'])\n",
    "    acc_train_list.extend(history.history['accuracy'])\n",
    "    acc_val_list.extend(history.history['val_accuracy'])\n",
    "    #save the model to a file \n",
    "    if (epoch+1)%10 == 0:\n",
    "        model.save('MLP_Keras_e'+str(epoch)+'.keras')"
   ]
  },
  {
   "cell_type": "markdown",
   "metadata": {
    "id": "1UOc-KdBd1sj"
   },
   "source": [
    "### Plot training histroy: loss vs epoch and accuracy vs epoch"
   ]
  },
  {
   "cell_type": "code",
   "execution_count": 14,
   "metadata": {
    "colab": {
     "base_uri": "https://localhost:8080/"
    },
    "id": "nGHh9Tnad1sk",
    "outputId": "c5ab1d39-14cb-4b73-a276-e471f1724cf7"
   },
   "outputs": [
    {
     "data": {
      "text/plain": [
       "dict_keys(['loss', 'accuracy', 'val_loss', 'val_accuracy'])"
      ]
     },
     "execution_count": 14,
     "metadata": {},
     "output_type": "execute_result"
    }
   ],
   "source": [
    "history.history.keys()"
   ]
  },
  {
   "cell_type": "code",
   "execution_count": 15,
   "metadata": {
    "colab": {
     "base_uri": "https://localhost:8080/",
     "height": 393
    },
    "id": "HDRj2QI7d1sl",
    "outputId": "b2deacfe-4487-4b0f-a2d5-08656fb93a15"
   },
   "outputs": [
    {
     "data": {
      "image/png": "[encoded data removed]",
      "text/plain": [
       "<Figure size 1200x600 with 2 Axes>"
      ]
     },
     "metadata": {},
     "output_type": "display_data"
    }
   ],
   "source": [
    "fig, ax = plt.subplots(1, 2, figsize=(12,6))\n",
    "ax[0].plot(np.arange(0,len(loss_train_list)), loss_train_list, '-b', label='training loss')\n",
    "ax[0].plot(np.arange(0,len(loss_val_list)), loss_val_list, '-r', label='validation loss')\n",
    "ax[0].set_xlabel('epoch',fontsize=16)\n",
    "ax[0].legend(fontsize=16)\n",
    "ax[0].grid(True)\n",
    "ax[1].plot(np.arange(0,len(acc_train_list)), acc_train_list, '-b', label='training accuracy')\n",
    "ax[1].plot(np.arange(0,len(acc_val_list)), acc_val_list, '-r', label='validation accuracy')\n",
    "ax[1].set_xlabel('epoch',fontsize=16)\n",
    "ax[1].legend(fontsize=16)\n",
    "ax[1].grid(True)"
   ]
  },
  {
   "cell_type": "markdown",
   "metadata": {
    "id": "4LDAWMjyd1sm"
   },
   "source": [
    "after training, we load the best model"
   ]
  },
  {
   "cell_type": "code",
   "execution_count": 16,
   "metadata": {
    "id": "BxuJVce1d1sm"
   },
   "outputs": [],
   "source": [
    "from keras.models import load_model\n",
    "model = load_model('MLP_Keras_e9.keras')"
   ]
  },
  {
   "cell_type": "markdown",
   "metadata": {
    "id": "3XWWnyvgd1sm"
   },
   "source": [
    "### Test the model"
   ]
  },
  {
   "cell_type": "code",
   "execution_count": 17,
   "metadata": {
    "colab": {
     "base_uri": "https://localhost:8080/"
    },
    "id": "ir2pJ8fLd1sn",
    "outputId": "9e30c6e0-4ca6-4ca3-f982-964897de6e49"
   },
   "outputs": [
    {
     "data": {
      "text/plain": [
       "(10000, 784)"
      ]
     },
     "execution_count": 17,
     "metadata": {},
     "output_type": "execute_result"
    }
   ],
   "source": [
    "x_test.shape"
   ]
  },
  {
   "cell_type": "code",
   "execution_count": 18,
   "metadata": {
    "colab": {
     "base_uri": "https://localhost:8080/"
    },
    "id": "UhXWD53wd1sn",
    "outputId": "07a0cf13-90c0-47bc-c8bc-328b5e9f5016"
   },
   "outputs": [
    {
     "data": {
      "text/plain": [
       "(10000,)"
      ]
     },
     "execution_count": 18,
     "metadata": {},
     "output_type": "execute_result"
    }
   ],
   "source": [
    "y_test.shape"
   ]
  },
  {
   "cell_type": "code",
   "execution_count": 19,
   "metadata": {
    "colab": {
     "base_uri": "https://localhost:8080/"
    },
    "id": "-7FtcQLBd1sn",
    "outputId": "7e5411c8-1dda-4318-94b1-145a9420cc39"
   },
   "outputs": [
    {
     "name": "stdout",
     "output_type": "stream",
     "text": [
      "Test loss: 0.0740596279501915\n",
      "Test accuracy: 0.9772999882698059\n"
     ]
    }
   ],
   "source": [
    "score = model.evaluate(x_test, y_test, batch_size=64, verbose=0)\n",
    "print('Test loss:', score[0])\n",
    "print('Test accuracy:', score[1])"
   ]
  },
  {
   "cell_type": "markdown",
   "metadata": {
    "id": "pdsE1iOTd1sn"
   },
   "source": [
    "### Make Prediction on the test set"
   ]
  },
  {
   "cell_type": "code",
   "execution_count": 20,
   "metadata": {
    "id": "S07EJCz_d1sn"
   },
   "outputs": [
    {
     "name": "stdout",
     "output_type": "stream",
     "text": [
      "157/157 [==============================] - 1s 5ms/step\n"
     ]
    }
   ],
   "source": [
    "y_test_pred=model.predict(x_test, batch_size=64)"
   ]
  },
  {
   "cell_type": "code",
   "execution_count": 21,
   "metadata": {
    "colab": {
     "base_uri": "https://localhost:8080/",
     "height": 282
    },
    "id": "wMjjUCqQd1sn",
    "outputId": "b9f8cc91-3bff-4436-cca9-0265fdbdc069"
   },
   "outputs": [
    {
     "data": {
      "text/plain": [
       "<matplotlib.image.AxesImage at 0x25104f9c4d0>"
      ]
     },
     "execution_count": 21,
     "metadata": {},
     "output_type": "execute_result"
    },
    {
     "data": {
      "image/png": "[encoded data removed]",
      "text/plain": [
       "<Figure size 640x480 with 1 Axes>"
      ]
     },
     "metadata": {},
     "output_type": "display_data"
    }
   ],
   "source": [
    "#the first image in the test set\n",
    "plt.imshow(x_test[0].reshape(28,28), cmap='gray')"
   ]
  },
  {
   "cell_type": "code",
   "execution_count": 22,
   "metadata": {
    "colab": {
     "base_uri": "https://localhost:8080/"
    },
    "id": "6x5Tx_FMd1so",
    "outputId": "be32f4b2-1a78-43df-d3ec-7c5fb82d6446"
   },
   "outputs": [
    {
     "data": {
      "text/plain": [
       "array([2.1378962e-07, 1.0399558e-07, 3.2818192e-05, 5.0286134e-04,\n",
       "       9.4742081e-10, 2.7804598e-08, 3.7534685e-12, 9.9944049e-01,\n",
       "       5.5370301e-06, 1.7812185e-05], dtype=float32)"
      ]
     },
     "execution_count": 22,
     "metadata": {},
     "output_type": "execute_result"
    }
   ],
   "source": [
    "y_test_pred[0]"
   ]
  },
  {
   "cell_type": "code",
   "execution_count": 23,
   "metadata": {
    "colab": {
     "base_uri": "https://localhost:8080/"
    },
    "id": "uNn7aSLhd1so",
    "outputId": "e4590227-92cc-42bd-92f1-f7b427d42e64"
   },
   "outputs": [
    {
     "data": {
      "text/plain": [
       "7"
      ]
     },
     "execution_count": 23,
     "metadata": {},
     "output_type": "execute_result"
    }
   ],
   "source": [
    "np.argmax(y_test_pred[0])"
   ]
  },
  {
   "cell_type": "code",
   "execution_count": 24,
   "metadata": {
    "colab": {
     "base_uri": "https://localhost:8080/"
    },
    "id": "GW91eAi9d1so",
    "outputId": "4c46d119-b7e7-49f8-efc1-0bb4c82310b5"
   },
   "outputs": [
    {
     "data": {
      "text/plain": [
       "7"
      ]
     },
     "execution_count": 24,
     "metadata": {},
     "output_type": "execute_result"
    }
   ],
   "source": [
    "y_test[0]"
   ]
  },
  {
   "cell_type": "code",
   "execution_count": 25,
   "metadata": {
    "colab": {
     "base_uri": "https://localhost:8080/"
    },
    "id": "igfknLNGd1so",
    "outputId": "ba950edf-c069-43c6-ec7c-240cf2d696a8"
   },
   "outputs": [
    {
     "data": {
      "text/plain": [
       "0"
      ]
     },
     "execution_count": 25,
     "metadata": {},
     "output_type": "execute_result"
    }
   ],
   "source": [
    "np.argmax(y_test[0])"
   ]
  },
  {
   "cell_type": "markdown",
   "metadata": {
    "id": "s-aafkq3d1so"
   },
   "source": [
    "## Make Prediction on an image from the user"
   ]
  },
  {
   "cell_type": "code",
   "execution_count": 26,
   "metadata": {
    "colab": {
     "base_uri": "https://localhost:8080/"
    },
    "id": "hVYTDJ6Kd1sp",
    "outputId": "1cfdc106-1e09-43d5-efb1-8b582511b86d"
   },
   "outputs": [
    {
     "data": {
      "text/plain": [
       "(30, 27)"
      ]
     },
     "execution_count": 26,
     "metadata": {},
     "output_type": "execute_result"
    }
   ],
   "source": [
    "# upload the image digit_a to colab before running this cell\n",
    "from skimage.io import imread\n",
    "from skimage.color import rgb2gray\n",
    "I=imread('digit_a.bmp')\n",
    "I=rgb2gray(I)\n",
    "I.shape"
   ]
  },
  {
   "cell_type": "code",
   "execution_count": 27,
   "metadata": {
    "colab": {
     "base_uri": "https://localhost:8080/",
     "height": 283
    },
    "id": "DwJgLJcvd1sp",
    "outputId": "b71a6355-e78b-49da-c637-0cb63b82ec08"
   },
   "outputs": [
    {
     "data": {
      "text/plain": [
       "<matplotlib.image.AxesImage at 0x2510654c650>"
      ]
     },
     "execution_count": 27,
     "metadata": {},
     "output_type": "execute_result"
    },
    {
     "data": {
      "image/png": "[encoded data removed]",
      "text/plain": [
       "<Figure size 640x480 with 1 Axes>"
      ]
     },
     "metadata": {},
     "output_type": "display_data"
    }
   ],
   "source": [
    "plt.imshow(I, cmap='gray')"
   ]
  },
  {
   "cell_type": "code",
   "execution_count": 28,
   "metadata": {
    "colab": {
     "base_uri": "https://localhost:8080/"
    },
    "id": "90F4UXJfd1sp",
    "outputId": "107f0692-ea08-49d9-ab36-9ba3f84dcf3f"
   },
   "outputs": [
    {
     "data": {
      "text/plain": [
       "(28, 28)"
      ]
     },
     "execution_count": 28,
     "metadata": {},
     "output_type": "execute_result"
    }
   ],
   "source": [
    "#resize the image to 28x28\n",
    "from skimage.transform import resize\n",
    "x=resize(I, [28,28])\n",
    "x.shape"
   ]
  },
  {
   "cell_type": "code",
   "execution_count": 29,
   "metadata": {
    "colab": {
     "base_uri": "https://localhost:8080/"
    },
    "id": "Jc-_et1kd1sp",
    "outputId": "9670ac16-9a1a-4e58-a7ec-b46950cb2a16"
   },
   "outputs": [
    {
     "data": {
      "text/plain": [
       "1.0"
      ]
     },
     "execution_count": 29,
     "metadata": {},
     "output_type": "execute_result"
    }
   ],
   "source": [
    "x.max()"
   ]
  },
  {
   "cell_type": "code",
   "execution_count": 30,
   "metadata": {
    "colab": {
     "base_uri": "https://localhost:8080/"
    },
    "id": "4F7hrp07d1sp",
    "outputId": "6d4c70e6-e5cb-45d7-e3d2-2de1ec6b9900"
   },
   "outputs": [
    {
     "name": "stdout",
     "output_type": "stream",
     "text": [
      "1/1 [==============================] - 0s 32ms/step\n",
      "the predicted class label is  0\n"
     ]
    }
   ],
   "source": [
    "y_pred=model.predict(x.reshape(1,784))\n",
    "print('the predicted class label is ', np.argmax(y_pred[0]))"
   ]
  },
  {
   "cell_type": "code",
   "execution_count": null,
   "metadata": {
    "id": "L1jt1Aaid1sp"
   },
   "outputs": [],
   "source": []
  }
 ],
 "metadata": {
  "colab": {
   "collapsed_sections": [],
   "name": "MLP_Keras.ipynb",
   "provenance": []
  },
  "kernelspec": {
   "display_name": "Python 3 (ipykernel)",
   "language": "python",
   "name": "python3"
  },
  "language_info": {
   "codemirror_mode": {
    "name": "ipython",
    "version": 3
   },
   "file_extension": ".py",
   "mimetype": "text/x-python",
   "name": "python",
   "nbconvert_exporter": "python",
   "pygments_lexer": "ipython3",
   "version": "3.11.7"
  }
 },
 "nbformat": 4,
 "nbformat_minor": 4
}
