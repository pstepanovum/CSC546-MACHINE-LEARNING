{
 "cells": [
  {
   "cell_type": "markdown",
   "metadata": {},
   "source": [
    "the first step is to import the numpy package <br>\n",
    "we then change the package name from numpy to np"
   ]
  },
  {
   "cell_type": "code",
   "execution_count": 1,
   "metadata": {},
   "outputs": [],
   "source": [
    "import numpy as np"
   ]
  },
  {
   "cell_type": "markdown",
   "metadata": {},
   "source": [
    "now, we create a numpy array from a list"
   ]
  },
  {
   "cell_type": "code",
   "execution_count": 4,
   "metadata": {},
   "outputs": [
    {
     "name": "stdout",
     "output_type": "stream",
     "text": [
      "[0, 1, 2, 3, 4, 5, 6, 7, 8, 9]\n"
     ]
    }
   ],
   "source": [
    "A_list = [0, 1, 2, 3, 4, 5, 6, 7, 8, 9]\n",
    "print(A_list)"
   ]
  },
  {
   "cell_type": "code",
   "execution_count": 5,
   "metadata": {
    "scrolled": true
   },
   "outputs": [
    {
     "name": "stdout",
     "output_type": "stream",
     "text": [
      "[0 1 2 3 4 5 6 7 8 9]\n"
     ]
    }
   ],
   "source": [
    "A = np.array(A_list, dtype='int32')\n",
    "print(A)"
   ]
  },
  {
   "cell_type": "markdown",
   "metadata": {},
   "source": [
    "We can directly use a list as the first argument to the function np.array "
   ]
  },
  {
   "cell_type": "code",
   "execution_count": 6,
   "metadata": {},
   "outputs": [
    {
     "name": "stdout",
     "output_type": "stream",
     "text": [
      "[0 1 2 3 4 5 6 7 8 9]\n"
     ]
    }
   ],
   "source": [
    "A = np.array([0, 1, 2, 3, 4, 5, 6, 7, 8, 9], dtype='int32')\n",
    "print(A)"
   ]
  },
  {
   "cell_type": "code",
   "execution_count": 7,
   "metadata": {
    "scrolled": true
   },
   "outputs": [
    {
     "data": {
      "text/plain": [
       "array([0, 1, 2, 3, 4, 5, 6, 7, 8, 9])"
      ]
     },
     "execution_count": 7,
     "metadata": {},
     "output_type": "execute_result"
    }
   ],
   "source": [
    "A"
   ]
  },
  {
   "cell_type": "markdown",
   "metadata": {},
   "source": [
    "a numpy array is an object, so it has a type and an id"
   ]
  },
  {
   "cell_type": "code",
   "execution_count": 8,
   "metadata": {},
   "outputs": [
    {
     "data": {
      "text/plain": [
       "numpy.ndarray"
      ]
     },
     "execution_count": 8,
     "metadata": {},
     "output_type": "execute_result"
    }
   ],
   "source": [
    "type(A)"
   ]
  },
  {
   "cell_type": "code",
   "execution_count": 9,
   "metadata": {},
   "outputs": [
    {
     "data": {
      "text/plain": [
       "99054336"
      ]
     },
     "execution_count": 9,
     "metadata": {},
     "output_type": "execute_result"
    }
   ],
   "source": [
    "id(A)"
   ]
  },
  {
   "cell_type": "markdown",
   "metadata": {},
   "source": [
    "use the function len to get the length of the array"
   ]
  },
  {
   "cell_type": "code",
   "execution_count": 10,
   "metadata": {},
   "outputs": [
    {
     "data": {
      "text/plain": [
       "10"
      ]
     },
     "execution_count": 10,
     "metadata": {},
     "output_type": "execute_result"
    }
   ],
   "source": [
    "len(A)"
   ]
  },
  {
   "cell_type": "markdown",
   "metadata": {},
   "source": [
    "use ArrayName.shape to get the shape/length of the array"
   ]
  },
  {
   "cell_type": "code",
   "execution_count": 11,
   "metadata": {},
   "outputs": [
    {
     "data": {
      "text/plain": [
       "(10,)"
      ]
     },
     "execution_count": 11,
     "metadata": {},
     "output_type": "execute_result"
    }
   ],
   "source": [
    "A.shape"
   ]
  },
  {
   "cell_type": "code",
   "execution_count": 12,
   "metadata": {},
   "outputs": [
    {
     "data": {
      "text/plain": [
       "tuple"
      ]
     },
     "execution_count": 12,
     "metadata": {},
     "output_type": "execute_result"
    }
   ],
   "source": [
    "type(A.shape)  # it is a tuple with one element"
   ]
  },
  {
   "cell_type": "code",
   "execution_count": 13,
   "metadata": {},
   "outputs": [
    {
     "name": "stdout",
     "output_type": "stream",
     "text": [
      "10\n"
     ]
    }
   ],
   "source": [
    "LenA = A.shape[0] # get the first/only element in the tuple\n",
    "print(LenA)"
   ]
  },
  {
   "cell_type": "markdown",
   "metadata": {},
   "source": [
    "A is array([0, 1, 2, 3, 4, 5, 6, 7, 8, 9]) <br>\n",
    "get an element of an array using ArrayName[index] <br>\n",
    "index >=0, index < len(ArrayName)"
   ]
  },
  {
   "cell_type": "code",
   "execution_count": 14,
   "metadata": {},
   "outputs": [
    {
     "data": {
      "text/plain": [
       "0"
      ]
     },
     "execution_count": 14,
     "metadata": {},
     "output_type": "execute_result"
    }
   ],
   "source": [
    "A[0] # the first element"
   ]
  },
  {
   "cell_type": "code",
   "execution_count": 15,
   "metadata": {
    "scrolled": true
   },
   "outputs": [
    {
     "data": {
      "text/plain": [
       "1"
      ]
     },
     "execution_count": 15,
     "metadata": {},
     "output_type": "execute_result"
    }
   ],
   "source": [
    "A[1] # the second element"
   ]
  },
  {
   "cell_type": "code",
   "execution_count": 16,
   "metadata": {},
   "outputs": [
    {
     "data": {
      "text/plain": [
       "9"
      ]
     },
     "execution_count": 16,
     "metadata": {},
     "output_type": "execute_result"
    }
   ],
   "source": [
    "A[LenA-1] # the last element"
   ]
  },
  {
   "cell_type": "markdown",
   "metadata": {},
   "source": [
    "A is array([0, 1, 2, 3, 4, 5, 6, 7, 8, 9]) <br>\n",
    "get a sub-array using the notation ArrayName[start: end], <br>\n",
    "where start >= 0, end >= 0, end > start  <br>\n",
    "a.k.a array slicing"
   ]
  },
  {
   "cell_type": "code",
   "execution_count": 17,
   "metadata": {},
   "outputs": [
    {
     "data": {
      "text/plain": [
       "array([0, 1, 2])"
      ]
     },
     "execution_count": 17,
     "metadata": {},
     "output_type": "execute_result"
    }
   ],
   "source": [
    "A[0:3] # start from A[0], then A[1], A[2], up to but not inluding A[3]"
   ]
  },
  {
   "cell_type": "code",
   "execution_count": 18,
   "metadata": {},
   "outputs": [
    {
     "data": {
      "text/plain": [
       "array([1, 2, 3, 4, 5, 6, 7, 8, 9])"
      ]
     },
     "execution_count": 18,
     "metadata": {},
     "output_type": "execute_result"
    }
   ],
   "source": [
    "A[1:LenA] # get elements from A[1] to A[LenA-1]"
   ]
  },
  {
   "cell_type": "code",
   "execution_count": 19,
   "metadata": {},
   "outputs": [
    {
     "data": {
      "text/plain": [
       "array([1, 2, 3, 4, 5, 6, 7, 8, 9])"
      ]
     },
     "execution_count": 19,
     "metadata": {},
     "output_type": "execute_result"
    }
   ],
   "source": [
    "A[1:] # omit end, we get elements from A[1] to A[LenA-1]"
   ]
  },
  {
   "cell_type": "code",
   "execution_count": 20,
   "metadata": {},
   "outputs": [
    {
     "data": {
      "text/plain": [
       "array([], dtype=int32)"
      ]
     },
     "execution_count": 20,
     "metadata": {},
     "output_type": "execute_result"
    }
   ],
   "source": [
    "A[0:0] # start == end"
   ]
  },
  {
   "cell_type": "code",
   "execution_count": 21,
   "metadata": {},
   "outputs": [
    {
     "data": {
      "text/plain": [
       "array([], dtype=int32)"
      ]
     },
     "execution_count": 21,
     "metadata": {},
     "output_type": "execute_result"
    }
   ],
   "source": [
    "A[3:0] # start < end"
   ]
  },
  {
   "cell_type": "markdown",
   "metadata": {},
   "source": [
    "A is array([0, 1, 2, 3, 4, 5, 6, 7, 8, 9]) <br>\n",
    "get a sub-array using the notation ArrayName[start: end: step], <br>\n",
    "where start >= 0, end >= 0, end > start and step > 0 "
   ]
  },
  {
   "cell_type": "code",
   "execution_count": 22,
   "metadata": {},
   "outputs": [
    {
     "ename": "ValueError",
     "evalue": "slice step cannot be zero",
     "output_type": "error",
     "traceback": [
      "\u001b[1;31m---------------------------------------------------------------------------\u001b[0m",
      "\u001b[1;31mValueError\u001b[0m                                Traceback (most recent call last)",
      "\u001b[1;32m<ipython-input-22-55f98967e263>\u001b[0m in \u001b[0;36m<module>\u001b[1;34m\u001b[0m\n\u001b[1;32m----> 1\u001b[1;33m \u001b[0mA\u001b[0m\u001b[1;33m[\u001b[0m\u001b[1;36m0\u001b[0m\u001b[1;33m:\u001b[0m\u001b[1;36m3\u001b[0m\u001b[1;33m:\u001b[0m\u001b[1;36m0\u001b[0m\u001b[1;33m]\u001b[0m \u001b[1;31m# error, step is 0\u001b[0m\u001b[1;33m\u001b[0m\u001b[1;33m\u001b[0m\u001b[0m\n\u001b[0m",
      "\u001b[1;31mValueError\u001b[0m: slice step cannot be zero"
     ]
    }
   ],
   "source": [
    "A[0:3:0] # error, step is 0"
   ]
  },
  {
   "cell_type": "code",
   "execution_count": 23,
   "metadata": {},
   "outputs": [
    {
     "data": {
      "text/plain": [
       "array([0, 1, 2])"
      ]
     },
     "execution_count": 23,
     "metadata": {},
     "output_type": "execute_result"
    }
   ],
   "source": [
    "A[0:3:1] # step is 1, this is the same as A[0:3]"
   ]
  },
  {
   "cell_type": "code",
   "execution_count": 24,
   "metadata": {},
   "outputs": [
    {
     "data": {
      "text/plain": [
       "array([0, 2])"
      ]
     },
     "execution_count": 24,
     "metadata": {},
     "output_type": "execute_result"
    }
   ],
   "source": [
    "A[0:3:2] # step is 2, A[0], A[2], A[4](not included, 4 > 3 in 0:3:2)"
   ]
  },
  {
   "cell_type": "code",
   "execution_count": 25,
   "metadata": {},
   "outputs": [
    {
     "data": {
      "text/plain": [
       "array([0])"
      ]
     },
     "execution_count": 25,
     "metadata": {},
     "output_type": "execute_result"
    }
   ],
   "source": [
    "A[0:3:10] # step is 10, A[0], A[10](not exist)"
   ]
  },
  {
   "cell_type": "markdown",
   "metadata": {},
   "source": [
    "A is array([0, 1, 2, 3, 4, 5, 6, 7, 8, 9]) <br>\n",
    "get a sub-array using the notation ArrayName[start: end: step], <br>\n",
    "where start >= 0, end >= 0, start > end and step < 0 "
   ]
  },
  {
   "cell_type": "code",
   "execution_count": 26,
   "metadata": {},
   "outputs": [
    {
     "data": {
      "text/plain": [
       "array([3, 2, 1])"
      ]
     },
     "execution_count": 26,
     "metadata": {},
     "output_type": "execute_result"
    }
   ],
   "source": [
    "A[3:0:-1] # start is 3, end is 0, step is -1"
   ]
  },
  {
   "cell_type": "markdown",
   "metadata": {},
   "source": [
    "A is array([0, 1, 2, 3, 4, 5, 6, 7, 8, 9]) <br>\n",
    "Now, we will use negative indexes ... <br>"
   ]
  },
  {
   "cell_type": "code",
   "execution_count": 27,
   "metadata": {},
   "outputs": [
    {
     "data": {
      "text/plain": [
       "9"
      ]
     },
     "execution_count": 27,
     "metadata": {},
     "output_type": "execute_result"
    }
   ],
   "source": [
    "A[-1] # the last element, A[LenA-1] => A[(LenA-1)-LenA]"
   ]
  },
  {
   "cell_type": "code",
   "execution_count": 28,
   "metadata": {},
   "outputs": [
    {
     "data": {
      "text/plain": [
       "1"
      ]
     },
     "execution_count": 28,
     "metadata": {},
     "output_type": "execute_result"
    }
   ],
   "source": [
    "A[-9] # A[1] => A[1-LenA]"
   ]
  },
  {
   "cell_type": "code",
   "execution_count": 29,
   "metadata": {},
   "outputs": [
    {
     "data": {
      "text/plain": [
       "0"
      ]
     },
     "execution_count": 29,
     "metadata": {},
     "output_type": "execute_result"
    }
   ],
   "source": [
    "A[-LenA] # A[0] => A[0-LenA]"
   ]
  },
  {
   "cell_type": "markdown",
   "metadata": {},
   "source": [
    "get a sub-array using the notation ArrayName[start: end], <br>\n",
    "where start < 0, end < 0, end > start "
   ]
  },
  {
   "cell_type": "code",
   "execution_count": 30,
   "metadata": {},
   "outputs": [
    {
     "data": {
      "text/plain": [
       "array([1, 2, 3, 4, 5, 6, 7, 8])"
      ]
     },
     "execution_count": 30,
     "metadata": {},
     "output_type": "execute_result"
    }
   ],
   "source": [
    "A[-9:-1] # get elements: A[-9],A[-8],A[-7],A[-6],\n",
    "         #               A[-5],A[-4],A[-3],A[-2]\n",
    "         # up to but not including A[-1]"
   ]
  },
  {
   "cell_type": "code",
   "execution_count": 31,
   "metadata": {},
   "outputs": [
    {
     "data": {
      "text/plain": [
       "array([1, 2, 3, 4, 5, 6, 7, 8, 9])"
      ]
     },
     "execution_count": 31,
     "metadata": {},
     "output_type": "execute_result"
    }
   ],
   "source": [
    "A[-9:] # omit end, now the last element is included in the sub-array "
   ]
  },
  {
   "cell_type": "code",
   "execution_count": 32,
   "metadata": {},
   "outputs": [
    {
     "data": {
      "text/plain": [
       "array([1, 2, 3, 4, 5, 6, 7, 8, 9])"
      ]
     },
     "execution_count": 32,
     "metadata": {},
     "output_type": "execute_result"
    }
   ],
   "source": [
    "A[1:]"
   ]
  },
  {
   "cell_type": "markdown",
   "metadata": {},
   "source": [
    "get a sub-array using the notation ArrayName[start: end: step], <br>\n",
    "where start < 0, end < 0, end > start and step > 0 "
   ]
  },
  {
   "cell_type": "code",
   "execution_count": 33,
   "metadata": {},
   "outputs": [
    {
     "data": {
      "text/plain": [
       "array([1, 4, 7])"
      ]
     },
     "execution_count": 33,
     "metadata": {},
     "output_type": "execute_result"
    }
   ],
   "source": [
    "A[-9:-1:3] # start is -9, end is -1, step is 3\n",
    "           # A[-9], A[-6], A[-3], A[0](not included) "
   ]
  },
  {
   "cell_type": "markdown",
   "metadata": {},
   "source": [
    "get a sub-array using the notation ArrayName[start: end: step], <br>\n",
    "where start < 0, end < 0, end < start and step < 0 "
   ]
  },
  {
   "cell_type": "code",
   "execution_count": 34,
   "metadata": {},
   "outputs": [
    {
     "data": {
      "text/plain": [
       "array([9, 6, 3])"
      ]
     },
     "execution_count": 34,
     "metadata": {},
     "output_type": "execute_result"
    }
   ],
   "source": [
    "A[-1:-9:-3]# start is -1, end is -9, step is -3\n",
    "           # A[-1], A[-4], A[-7], A[-10](not exist)"
   ]
  },
  {
   "cell_type": "markdown",
   "metadata": {},
   "source": [
    "create an array with a predefined length <br>\n",
    "initialize it with zeros or ones"
   ]
  },
  {
   "cell_type": "code",
   "execution_count": 35,
   "metadata": {
    "scrolled": true
   },
   "outputs": [
    {
     "name": "stdout",
     "output_type": "stream",
     "text": [
      "[0. 0. 0. 0. 0. 0. 0. 0. 0. 0.]\n"
     ]
    }
   ],
   "source": [
    "A0 = np.zeros(10, dtype='float32')\n",
    "print(A0)"
   ]
  },
  {
   "cell_type": "code",
   "execution_count": 36,
   "metadata": {},
   "outputs": [
    {
     "name": "stdout",
     "output_type": "stream",
     "text": [
      "[1. 1. 1. 1. 1. 1. 1. 1. 1. 1.]\n"
     ]
    }
   ],
   "source": [
    "A1 = np.ones(10, dtype='float32')\n",
    "print(A1)"
   ]
  },
  {
   "cell_type": "markdown",
   "metadata": {},
   "source": [
    "create an array with a predefined length <br>\n",
    "we do not care about the initial values of the elements"
   ]
  },
  {
   "cell_type": "code",
   "execution_count": 37,
   "metadata": {},
   "outputs": [
    {
     "name": "stdout",
     "output_type": "stream",
     "text": [
      "[2.20178655e-316 1.82804289e-322 0.00000000e+000 0.00000000e+000\n",
      " 2.44029516e-312 1.16095484e-028 4.29875484e-096 9.78750380e+199\n",
      " 6.97843734e+252 2.65665585e-312]\n"
     ]
    }
   ],
   "source": [
    "A2 = np.empty(10)\n",
    "print(A2)"
   ]
  },
  {
   "cell_type": "code",
   "execution_count": 38,
   "metadata": {},
   "outputs": [
    {
     "data": {
      "text/plain": [
       "dtype('float64')"
      ]
     },
     "execution_count": 38,
     "metadata": {},
     "output_type": "execute_result"
    }
   ],
   "source": [
    "A2.dtype"
   ]
  },
  {
   "cell_type": "markdown",
   "metadata": {},
   "source": [
    "create an array with a predefined length <br>\n",
    "initialize it with random numbers that follow a probability distribution<br>\n",
    "use the functions in the module 'random' to generate random numbers <br>\n",
    "rand: uniform distribution in 0~1 <br>\n",
    "randn: normal distribution mean=0, std=1 <br>\n",
    "(many functions in the module)"
   ]
  },
  {
   "cell_type": "code",
   "execution_count": 39,
   "metadata": {
    "scrolled": true
   },
   "outputs": [
    {
     "name": "stdout",
     "output_type": "stream",
     "text": [
      "[0.222625   0.32768059 0.17087265 0.95754324 0.50299804 0.02521101\n",
      " 0.03098518 0.43967857 0.16482905 0.73261601]\n"
     ]
    }
   ],
   "source": [
    "A_rand = np.random.rand(10)\n",
    "print(A_rand)"
   ]
  },
  {
   "cell_type": "code",
   "execution_count": 40,
   "metadata": {
    "collapsed": true
   },
   "outputs": [
    {
     "name": "stdout",
     "output_type": "stream",
     "text": [
      "[-5.19148621e-01 -1.49206311e+00 -9.78408017e-01  2.16243064e-02\n",
      "  7.58779298e-01  1.52187916e-02  2.04463112e-01 -3.53130236e-02\n",
      " -4.26890409e-01  1.37903610e+00 -7.96562773e-01  3.56708442e-01\n",
      " -9.95274946e-01  1.40945743e+00 -1.22097893e+00 -2.75795702e+00\n",
      "  1.39578207e+00 -1.20171616e+00 -7.48136697e-01 -5.62624746e-02\n",
      " -1.69390326e+00 -2.38637989e+00 -1.47576824e-03 -3.58460883e-01\n",
      "  1.06773814e+00 -1.31571538e+00 -1.27772216e-01 -1.02768162e+00\n",
      " -7.49251610e-01  9.35259628e-01  1.59882422e+00  2.67916809e-01\n",
      "  6.31202299e-01  1.11954976e+00 -2.36478039e+00  1.18194283e+00\n",
      "  7.82519108e-02 -6.15236491e-01  1.12332383e+00  2.06416558e-01\n",
      " -7.33360670e-01 -1.53860060e-01 -5.45697759e-01  9.85314240e-01\n",
      " -9.46753421e-03 -2.94976272e-02 -6.94484848e-02 -6.87879348e-01\n",
      "  7.34678905e-02  6.44969750e-01 -5.85716776e-01 -1.66960944e-02\n",
      "  9.71904696e-02 -8.20860952e-01  1.39334061e+00  5.82125552e-01\n",
      "  2.03478371e+00  1.40801723e+00 -4.86288542e-02  1.28180726e+00\n",
      " -3.50939397e-01 -6.73572815e-01  9.89008095e-01  6.46699763e-01\n",
      "  1.53632475e+00 -1.22099995e-01 -1.95515407e-01  4.07929435e-01\n",
      "  2.77895519e+00 -1.36942544e+00 -4.34630049e-01  3.02235366e-01\n",
      " -1.99439836e-01 -1.77797219e-01  5.10833778e-01  3.44079061e-01\n",
      "  8.33497704e-02 -5.22871150e-02 -9.29426211e-01 -1.62303132e+00\n",
      " -1.07821126e+00 -4.40877900e-01 -6.53319905e-01 -1.39974622e+00\n",
      "  1.97698264e+00  1.19010320e+00  1.86148845e-01  1.77300068e+00\n",
      " -4.01296057e-01 -1.67303313e-01  2.14874947e+00  3.10196835e+00\n",
      " -6.97945666e-01  8.41572180e-01 -3.37830945e-01  1.36245335e-01\n",
      "  8.54199479e-01  3.68017999e-01 -5.62622893e-01 -6.97715000e-01\n",
      "  6.45255040e-01  1.18519181e-01  1.25484128e+00  5.18770410e-01\n",
      "  1.14411535e+00  8.66500431e-01  1.25086880e-01 -5.25433294e-03\n",
      " -1.52407511e-01  1.03189857e+00 -1.27781276e+00  5.49848400e-01\n",
      "  7.74150619e-01  1.13670470e+00 -7.00623283e-01 -4.80458931e-01\n",
      "  1.96848992e-01  6.13924581e-01  1.75748370e+00  1.14430728e-01\n",
      " -7.47331111e-02  8.11898309e-01 -3.88823778e-01 -9.24832309e-01\n",
      " -1.78520490e-02 -2.69610422e-01  7.33403211e-01  5.79816423e-01\n",
      " -2.41971759e-01  2.25491887e+00 -2.35749090e-01 -1.43793597e-01\n",
      " -1.19345837e+00  1.78189089e+00  1.21703045e+00 -3.99166492e-01\n",
      " -8.94671944e-01  2.93487160e-01 -8.36097877e-01  1.53919751e+00\n",
      " -5.24699902e-01  6.59820109e-01 -1.69070292e-02 -7.61716470e-03\n",
      "  6.92692955e-01  3.82923213e-02 -1.39229360e+00  7.58628112e-01\n",
      " -1.25179143e+00 -6.24905648e-01  1.53784950e+00  7.50436960e-01\n",
      " -1.31365103e+00  1.77080420e-01  1.80013236e-01 -6.07738462e-01\n",
      " -4.36889153e-01  7.60350724e-03  1.52404324e+00  8.87005094e-01\n",
      " -3.63883873e-01  8.97941060e-01  1.13024510e+00 -3.02381321e-01\n",
      "  1.76550919e+00  2.00676920e-01 -6.09805856e-01 -4.99849547e-01\n",
      "  8.69338668e-01 -1.17028276e-01 -1.30645043e+00 -2.51311781e-01\n",
      "  2.12218625e-01 -8.17663031e-01 -5.33506098e-01  1.92925932e+00\n",
      "  1.57128051e-01 -7.64914449e-01 -7.00332008e-01 -1.46582233e+00\n",
      "  2.27949826e+00  1.34331876e+00  1.62369031e+00 -1.49001368e+00\n",
      "  2.70235094e+00  2.92453442e-02  6.60719833e-01 -9.66488803e-01\n",
      " -3.96088628e-01  2.02680457e+00  1.10195795e+00 -8.81499781e-01\n",
      "  1.24606393e-02  3.74542476e-03  1.56388201e-01 -2.20907055e-01\n",
      "  5.25668433e-01 -1.41932258e+00  4.39033857e-01 -6.25883831e-01\n",
      " -1.49420211e+00 -7.36778600e-01 -1.12694402e+00  8.19091918e-01\n",
      "  1.17677517e+00 -5.32331814e-01  1.61782986e-01 -1.81738277e+00\n",
      "  6.33563950e-01  7.31052864e-01  2.85056403e+00 -7.49456483e-01\n",
      " -3.10917808e-01 -1.82505941e+00 -2.53971817e+00  5.67588242e-02\n",
      " -9.14862690e-01 -2.00152632e+00  7.67857585e-01  1.86694890e+00\n",
      " -2.68337768e-01 -7.97699394e-01  1.01240559e+00  1.48403137e+00\n",
      "  9.12130001e-03 -1.76520641e+00 -1.51635153e+00 -6.59141430e-01\n",
      " -2.91417778e+00 -7.64712631e-01  1.27976847e-01  8.69267031e-01\n",
      "  6.04418833e-01  4.53014887e-01  1.75975954e-01 -1.00909668e+00\n",
      " -1.42286154e-01 -5.08658762e-01 -7.65376404e-01  2.14256460e+00\n",
      "  6.64333127e-01 -1.36112165e+00 -1.63480635e-01  7.84279589e-01\n",
      "  9.78079893e-01  5.47748296e-01 -3.11417222e-01  1.07477524e+00\n",
      " -1.40346755e+00 -2.48447688e-01 -1.15597544e+00  7.65756240e-01\n",
      " -8.54323683e-04  5.28326900e-01  5.31431937e-01  4.30694713e-01\n",
      " -1.34861789e+00 -5.10304416e-01  1.44737655e+00 -2.29958436e+00\n",
      "  6.62320976e-01  4.83609165e-02 -2.41658059e-02  1.28318891e-01\n",
      "  2.98069390e-01 -8.98122177e-01 -1.61161749e+00  2.07098570e+00\n",
      " -1.65024053e-01 -3.60436188e-01  3.60613880e-01 -1.35669119e+00\n",
      " -6.38292358e-01 -2.01383782e-01 -1.56544511e+00  1.23847698e-01\n",
      " -1.22027570e+00  2.20631464e-01  3.34530638e-01  1.19554501e+00\n",
      " -7.82517915e-01  3.22643606e-01  5.38648186e-01 -1.60389781e+00\n",
      " -5.78911541e-01  1.03101788e+00  4.53678434e-01 -7.58459682e-01\n",
      "  4.75251448e-01 -2.56910649e-01  1.39919405e-01  5.31777496e-01\n",
      " -1.36153437e+00  5.04781892e-01 -8.98904083e-01  8.16493597e-01\n",
      " -6.82792778e-01  5.82008177e-02 -8.83977614e-02 -4.52886353e-01\n",
      " -1.91884323e+00  5.23020265e-01 -1.06654181e-01 -1.27225875e+00\n",
      " -3.69341439e-01 -4.55126589e-01  1.85871601e+00 -1.09545546e-01\n",
      "  1.50721468e-01 -1.28762959e-01  1.66723060e+00  1.24378156e+00\n",
      "  2.15355355e+00  8.96515653e-01  1.20977305e+00 -1.11815777e+00\n",
      " -2.27261898e-01 -4.29383707e-01  1.44107217e+00 -2.52116218e-01\n",
      " -4.70765311e-01  3.19514404e-01  9.64115111e-01  2.56776568e-01\n",
      " -2.95600977e+00  2.05191763e+00  5.18837229e-01  2.71612936e-01\n",
      "  8.92428402e-01 -6.21595677e-01  9.52704921e-01 -1.22535318e+00\n",
      "  2.08520588e+00  8.15234744e-01  5.96316486e-01  2.00508468e-01\n",
      "  2.91175306e-01  1.09040644e+00  2.66207175e-01  8.79933894e-01\n",
      "  1.11902525e-02  1.74712253e+00  1.23661031e-01  2.72775762e-01\n",
      "  3.69156649e-01 -4.88228554e-01  8.65263261e-01 -9.00790647e-01\n",
      "  3.88066579e-01 -3.50774716e-01  1.90407088e+00 -1.35612223e+00\n",
      "  8.68275516e-01  1.18839908e-01 -1.23785877e-01  8.81360518e-02\n",
      " -2.88255863e-01  9.35913532e-01 -7.40458215e-01  2.61134385e-01\n",
      " -8.02763523e-01  7.28774244e-01 -7.00054361e-01 -6.53499376e-01\n",
      "  5.37907300e-01 -1.52751358e-01 -1.73017261e+00 -1.33339898e+00\n",
      " -4.11960034e-01 -2.57732797e-01  1.83325400e-01 -3.01725298e-02\n",
      "  5.64150764e-01  5.01766449e-01  4.09559286e-01  4.08350504e-01\n",
      "  1.13595055e+00  5.14296396e-01  8.96023454e-01 -3.56289723e-01\n",
      "  4.66837847e-01  1.82736895e+00 -9.15535607e-01 -1.04073947e+00\n",
      "  8.23096716e-01  1.11458909e+00 -8.26573619e-01  1.09202909e+00\n",
      " -2.15925924e-01 -6.22822040e-01  1.07442363e-01  1.34304570e+00\n",
      " -3.84075260e-01 -9.59534149e-01  9.11037142e-01 -4.11555298e-01\n",
      " -2.52666723e-01 -9.53752846e-01  9.77258222e-01  8.46777870e-01\n",
      "  3.32018236e-01  7.55020611e-01  8.09865407e-01  2.27904928e-01\n",
      "  5.12206691e-01 -4.12376224e-01  1.29772594e-01 -5.57026987e-01\n",
      " -1.77401286e+00  4.96635770e-01 -1.22813836e+00 -1.30252920e+00\n",
      "  6.16010694e-02  4.74819036e-01 -1.06296394e+00 -1.70458114e+00\n",
      "  1.21286674e+00 -8.09198251e-01 -1.72415864e-01 -7.86071948e-01\n",
      "  7.44847237e-01 -4.57887982e-01 -1.89279481e+00 -8.66383768e-01\n",
      " -1.49553279e-01  2.33788513e+00 -2.17848276e-01  1.11256185e-01\n",
      "  2.59406013e-01  9.85733793e-01 -1.48689745e+00 -3.18418953e+00\n",
      "  1.33590212e-01  8.97070096e-01  2.22091647e-01  6.14452885e-01\n",
      " -1.50045751e+00  1.30049630e+00  1.89460260e-01 -9.59182176e-01\n",
      "  1.26358449e+00  8.85051233e-01 -6.93528933e-01  1.16317787e-01\n",
      "  2.26670213e-01 -1.35235965e-01 -5.79680233e-01  3.88095593e-01\n",
      "  4.63191391e-01  1.62584679e-01  5.07862608e-01  3.56634235e-01\n",
      "  8.46357300e-01 -7.54808983e-01 -1.23992170e+00 -1.14517603e+00\n",
      " -4.52817974e-01 -4.75577681e-01 -8.07216045e-01  8.92701789e-01\n",
      "  1.56118490e+00  9.36900243e-02 -1.09762078e+00  3.81191163e-01\n",
      " -1.91525905e-01  1.71644201e+00  1.88716777e+00 -2.10688241e+00\n",
      " -1.75482668e+00 -1.18128627e+00  1.16056859e+00 -1.33525228e+00\n",
      " -1.74544323e-01  8.07981635e-01 -1.00359682e+00 -1.20282158e-01\n",
      " -8.51194888e-01 -1.24031078e+00 -1.47532467e-01  1.54460083e+00\n",
      "  2.23071834e-01 -5.43257590e-01 -1.11944234e+00  1.62427607e+00\n",
      "  5.43431574e-01 -7.56024927e-01 -5.92649545e-01 -1.53840697e+00\n",
      "  8.53733876e-02  1.41027235e-01  3.22009985e-01  9.01234342e-01\n",
      "  9.73635261e-01 -8.45512370e-03 -2.57479072e-01 -2.42248301e+00\n",
      "  4.46816257e-01 -1.27873705e+00 -1.92633497e-01 -1.20380322e+00\n",
      " -1.63790845e+00 -3.00241952e-01  1.39567363e+00  1.40796491e+00\n",
      "  6.00473707e-02 -1.66134519e+00  1.57933158e+00 -9.34165815e-01\n",
      "  4.89255964e-01  4.88914426e-01  2.38839007e-01 -1.48700994e+00\n",
      " -1.23291893e+00 -3.28227280e-01 -7.73232898e-01 -1.39555108e+00\n",
      " -1.43342084e+00  6.64175174e-02  1.59861416e-01 -1.14333908e+00\n",
      "  8.71004967e-01  5.07365762e-02  6.60532058e-01  8.75868964e-01\n",
      "  8.97320356e-01  5.01367670e-01  1.58264022e+00 -5.27928320e-02\n",
      " -1.04942206e+00 -5.28459830e-01  9.64080573e-01 -4.36394465e-01\n",
      "  1.30524853e+00  1.16372891e+00 -1.81730149e-01  6.68052740e-01\n",
      "  4.57474764e-02  2.04068839e-01  8.78999132e-01  9.35648830e-01\n",
      " -9.26893361e-02  8.43173451e-01  2.20997190e-01 -9.83834657e-01\n",
      " -3.96818094e-01 -2.17067041e-01 -1.20587515e+00 -1.36326306e+00\n",
      "  1.02430254e-01  7.36803014e-01  1.55632290e+00  6.59270355e-02\n",
      " -3.37078308e-01 -4.92947758e-01 -9.21315906e-02  1.04065242e+00\n",
      "  4.09604767e-01 -4.16502230e-01 -1.53256645e+00 -6.43157501e-01\n",
      "  1.20603263e+00 -2.21431320e+00 -1.76634760e+00  1.37448901e+00\n",
      "  7.42845050e-01  2.10671550e+00  1.24324088e+00 -2.49137443e-01\n",
      " -3.00985474e-01 -1.80689873e+00 -7.42567634e-02 -5.93273683e-01\n",
      "  3.30143856e-01  1.42937974e+00 -4.12316018e-01  1.15762889e+00\n",
      " -1.90047844e-01 -1.01749376e-01 -1.38465147e+00  1.50141349e+00\n",
      "  2.91915193e-01 -2.29935936e+00  4.80662877e-01  1.26700667e+00\n",
      "  2.67071873e-01 -1.63767986e-01 -2.66347300e-01 -1.45894454e+00\n",
      "  8.35073760e-01 -8.09159334e-02  5.96212759e-01 -1.32657632e-01\n",
      " -1.33433960e+00 -4.09597110e-01  1.57706122e-01  2.24196035e+00\n",
      "  2.98043869e-01 -6.90119860e-01 -1.02090617e+00 -1.87032406e-01\n",
      "  3.08779837e-02  6.69796232e-01  1.51990805e+00  1.39245998e-01\n",
      "  2.49044652e+00 -9.52978742e-01  1.99474467e+00 -1.23245235e+00\n",
      "  2.66868224e-01  1.75853982e+00 -5.55107125e-01 -1.26084253e+00\n",
      " -7.01092465e-01 -1.61544785e+00  1.82340993e+00 -1.48231185e+00\n",
      "  4.06482368e-01  7.31595264e-01  2.13394632e+00  3.37027828e-02\n",
      " -7.83499411e-02  7.84737187e-01  1.33639033e+00  8.33982034e-01\n",
      "  6.67384821e-01  1.64650433e+00 -3.68021751e-01 -1.19061491e+00\n",
      "  1.75459537e-01  8.75424138e-01 -1.30464222e+00 -1.57068800e-01\n",
      "  7.67191702e-01 -6.45989702e-01 -1.02378477e+00  1.06772898e+00\n",
      " -1.06417217e-01 -1.55692002e-01 -2.65160585e-02  1.15135919e+00\n",
      " -7.33572068e-01 -4.25636155e-01  1.20544163e+00 -7.38909679e-01\n",
      " -1.01435721e+00  3.21341826e-01  3.22346972e-01 -2.43636029e-01\n",
      " -2.59874507e+00  9.09832445e-01  1.94311338e-01  9.01168314e-01\n",
      "  3.77684727e-01 -4.09707949e-01  1.26559773e+00 -2.31292848e+00\n",
      "  1.74822989e+00 -1.46632759e+00 -2.72090805e-01 -1.92592824e+00\n",
      " -1.52646470e+00  1.06947753e+00  6.06719036e-01 -1.14506713e+00\n",
      " -6.56652438e-01 -1.74320876e-01 -9.27441763e-01  1.74811250e+00\n",
      "  1.30857940e+00 -7.94701665e-01 -3.85630192e-01  6.50919454e-01\n",
      " -6.98561272e-01  6.54568960e-01  1.03567821e+00  4.61131642e-01\n",
      " -6.32316973e-02 -1.37928944e+00  1.97031989e-02  4.71989920e-01\n",
      "  2.50263827e-01  3.31376900e-01 -2.74979019e+00  4.26343848e-01\n",
      " -4.86776243e-01 -1.14152036e+00 -8.98159304e-02  2.42638610e-01\n",
      "  7.56085193e-02  2.34001276e-01  4.85221780e-01  2.95472432e-01\n",
      "  8.43092416e-01 -2.16517781e+00  7.53846512e-02  8.30311581e-01\n",
      " -6.77334101e-01 -1.16460147e-01 -1.58418299e+00  1.94499777e-01\n",
      "  1.28152075e+00 -1.73546191e+00 -1.72700314e+00  3.12620919e-01\n",
      " -5.86627175e-02 -9.50176528e-01 -7.26298973e-02  1.35834141e-01\n",
      "  1.50474441e+00  8.38498985e-01  6.55423974e-01 -2.10505126e+00\n",
      "  9.89837807e-01 -5.65845517e-02  1.68627672e+00  5.18046236e-01\n",
      "  2.86974466e-01 -2.64413771e-01 -2.04728093e+00  1.26151794e+00\n",
      "  2.03208156e+00 -1.31226347e+00  1.44857119e+00 -3.78447610e-01\n",
      " -1.53077664e+00 -1.71519958e+00 -1.09855689e+00 -4.19320998e-01\n",
      " -3.09115839e-01 -1.78679294e+00 -4.20782682e-01 -5.07926421e-01\n",
      " -1.07471924e+00 -8.48172350e-01 -8.25508193e-01 -1.86094004e-01\n",
      "  8.40979680e-01  5.17791300e-01 -5.51630264e-01 -3.73223967e-01\n",
      " -7.42443883e-01  2.19228182e+00 -1.60322469e+00 -2.00946692e-01\n",
      "  1.99524367e+00  8.01099406e-01 -9.48839416e-01 -3.63024879e-02\n",
      "  9.12022154e-01 -9.15294734e-01  2.30261736e-01 -3.11529777e-01\n",
      " -9.27108633e-01 -1.11779790e-02  2.06140641e-01 -3.63993020e-01\n",
      " -7.28286833e-01 -2.88481743e-01  5.46926634e-01 -2.07116396e-01\n",
      " -7.42447366e-01 -2.58922662e-01  3.04319906e-01  4.58042644e-01\n",
      "  2.20027433e+00 -7.37599160e-01 -5.74381725e-01 -5.07213985e-01\n",
      "  3.25977334e+00  1.31004967e-01 -3.04267844e-01  1.47783178e+00\n",
      "  1.49310210e-01 -1.23493678e+00  1.07144069e-01 -2.38956204e+00\n",
      "  1.12339521e-01 -5.60130437e-01  8.51528041e-02 -1.16464708e+00\n",
      "  8.21497191e-01 -1.11350253e+00  1.05191521e-02  7.06537062e-01\n",
      " -2.26538963e+00 -5.27012083e-01  4.58255017e-01 -3.42013134e+00\n",
      "  6.78137422e-01 -5.60046670e-01  6.48328470e-01  6.51140793e-02\n",
      "  6.05510002e-01  1.79334763e-01  5.11475868e-01  7.75906320e-02\n",
      " -1.50522732e-01 -9.63771055e-02 -1.22580466e+00  3.18963818e-01\n",
      "  3.87482115e-01  2.91194728e-01  1.66652697e+00 -5.20085047e-01\n",
      " -4.51956306e-01  2.68677147e+00  2.71233933e-01 -2.88299224e+00\n",
      "  1.31453040e-01 -1.03211314e+00 -1.49001953e-01 -1.00000732e+00\n",
      "  1.93272688e-02  1.87247992e+00 -8.84172560e-01 -6.50361516e-01\n",
      " -1.51352507e+00  1.63160002e+00  4.63891277e-01 -1.84739059e+00\n",
      " -5.19700722e-01  4.68808745e-01  1.12728416e-01 -5.78370534e-03\n",
      " -1.35219736e+00 -1.38063723e+00  5.86991312e-01 -1.14430694e-01\n",
      "  7.57493557e-01  1.06143121e-01 -4.13882088e-01  3.76700729e-01\n",
      " -1.85982609e-01  1.24965457e+00 -2.51513217e-01 -1.93269239e+00\n",
      " -6.41468509e-01  1.85895927e+00  1.35600493e-01 -8.30659983e-02\n",
      " -7.27343261e-01  1.05192232e+00 -3.90883667e-01 -1.20976616e+00\n",
      " -7.90331065e-01  1.79271715e-01  1.54563292e+00  7.82853846e-01\n",
      "  7.26512797e-01 -2.39097565e+00  2.95323392e-01 -6.45976906e-01\n",
      " -2.09540636e+00  6.35000003e-01  6.71765535e-01 -4.41316342e-01\n",
      " -8.78365947e-01  3.26571164e-01  6.83175442e-01  9.05423327e-01\n",
      " -7.23630798e-01 -7.93421586e-01  2.10928551e-01  1.33083579e+00\n",
      " -1.26735901e+00 -8.14910570e-01 -1.24816001e-01  7.85703925e-01\n",
      " -3.07996451e+00 -7.41396179e-02  1.26662992e+00 -8.43315458e-01\n",
      "  6.90899534e-01 -3.24613276e-01 -1.19023883e+00 -6.39229943e-01\n",
      " -5.42196426e-01  3.48989501e-01  2.05543263e-01  1.52597456e+00\n",
      " -1.14928739e+00  3.53034299e-01  1.76240230e-01  1.14029026e+00\n",
      " -5.77957292e-02  6.77401442e-01  4.93004741e-02 -4.68217799e-01\n",
      " -1.20450086e+00 -3.93371086e-01 -1.27478031e+00  8.99660554e-01\n",
      "  1.22468882e+00 -6.27565129e-01 -3.22258878e-01 -1.20110222e+00\n",
      "  1.30674739e+00  3.36917668e-01 -5.52210715e-01 -2.28429863e-01\n",
      "  2.75861363e-01 -1.92731771e-01  1.27037754e+00 -2.52955571e-01\n",
      "  2.17790575e+00 -2.58416151e-01  1.09877580e+00  2.50163942e-01\n",
      "  1.50526992e+00  3.23691859e-01  5.04592089e-01  6.07259686e-01\n",
      "  4.48245302e-01 -5.38357299e-01  1.55819881e+00 -6.36192859e-02\n",
      "  8.57123384e-01  5.40190345e-02 -3.52952206e+00 -1.15656305e-01\n",
      "  1.01625980e-01 -2.13960895e-01 -2.37881034e-01  7.56922346e-01\n",
      " -1.94482830e+00 -8.76425595e-01  1.74730640e+00 -1.06865761e+00\n",
      " -1.24533184e+00  3.89823557e-01  2.35232958e-01  2.79631348e-01\n",
      " -5.78402426e-01  5.81181834e-01  2.30712919e+00 -1.02643177e+00\n",
      " -3.72880622e-01  1.64736772e-01 -4.98359565e-02 -2.68738771e-01\n",
      "  5.91570957e-03 -6.25638100e-01  2.43912378e-01 -2.83157123e-02\n",
      " -1.34575384e+00  2.10538911e+00  4.71658119e-01 -9.30035159e-01\n",
      "  1.19542190e+00  1.82672562e-01  2.37337991e-01  9.25141635e-01\n",
      " -8.42948286e-01  1.90637455e-02 -1.52062155e-02  7.72208460e-01\n",
      "  9.29465261e-01  1.78668442e+00  6.75595675e-01 -1.18844228e+00\n",
      "  7.44503035e-02  4.42089148e-01  2.39655610e-01 -1.91264235e-01\n",
      "  1.14830950e+00 -9.03287682e-01  9.40037308e-01 -1.06223326e+00\n",
      "  1.55626554e+00  3.23209373e-01  1.21069117e-01 -4.11617860e-01\n",
      " -3.52332230e-01 -4.18667058e-01  7.77621553e-02 -3.10707542e-01\n",
      "  1.59877883e+00  1.62997978e-01  2.56854486e+00  1.46927250e+00\n",
      "  5.21499163e-01 -6.33819304e-01  1.03739736e+00  1.05961395e+00\n",
      "  1.74510576e+00 -6.27322035e-01 -7.77571606e-02 -7.00836494e-01\n",
      " -3.51832127e-01 -2.86880477e-01 -1.60849698e+00 -1.64248404e+00\n",
      "  4.96878668e-01 -6.54079745e-01 -1.02325876e+00  6.49772580e-02\n",
      "  9.25126960e-01  5.47830045e-01 -1.12711585e+00  4.05059179e-01]\n"
     ]
    }
   ],
   "source": [
    "A_randn = np.random.randn(1000)\n",
    "print(A_randn)"
   ]
  },
  {
   "cell_type": "markdown",
   "metadata": {},
   "source": [
    "math functions (methods) associated with a numpy array"
   ]
  },
  {
   "cell_type": "code",
   "execution_count": 41,
   "metadata": {},
   "outputs": [
    {
     "name": "stdout",
     "output_type": "stream",
     "text": [
      "0.004652284217030367\n"
     ]
    }
   ],
   "source": [
    "m1=A_randn.mean()\n",
    "print(m1)"
   ]
  },
  {
   "cell_type": "code",
   "execution_count": 42,
   "metadata": {},
   "outputs": [
    {
     "name": "stdout",
     "output_type": "stream",
     "text": [
      "1.0218637936523909\n"
     ]
    }
   ],
   "source": [
    "s1=A_randn.std()\n",
    "print(s1)"
   ]
  },
  {
   "cell_type": "markdown",
   "metadata": {},
   "source": [
    "save a numpy array to hard drive"
   ]
  },
  {
   "cell_type": "code",
   "execution_count": 43,
   "metadata": {},
   "outputs": [],
   "source": [
    "A = np.array([0, 1, 2, 3, 4, 5, 6, 7, 8, 9], dtype='int32')\n",
    "np.save('array_A.npy',A)"
   ]
  },
  {
   "cell_type": "markdown",
   "metadata": {},
   "source": [
    "load the numpy array A from hard drive"
   ]
  },
  {
   "cell_type": "code",
   "execution_count": 44,
   "metadata": {},
   "outputs": [
    {
     "data": {
      "text/plain": [
       "array([0, 1, 2, 3, 4, 5, 6, 7, 8, 9])"
      ]
     },
     "execution_count": 44,
     "metadata": {},
     "output_type": "execute_result"
    }
   ],
   "source": [
    "A1 = np.load('array_A.npy')\n",
    "A1"
   ]
  },
  {
   "cell_type": "markdown",
   "metadata": {},
   "source": [
    "get a list of such methods using the function dir"
   ]
  },
  {
   "cell_type": "code",
   "execution_count": 45,
   "metadata": {},
   "outputs": [
    {
     "data": {
      "text/plain": [
       "['T',\n",
       " '__abs__',\n",
       " '__add__',\n",
       " '__and__',\n",
       " '__array__',\n",
       " '__array_finalize__',\n",
       " '__array_interface__',\n",
       " '__array_prepare__',\n",
       " '__array_priority__',\n",
       " '__array_struct__',\n",
       " '__array_ufunc__',\n",
       " '__array_wrap__',\n",
       " '__bool__',\n",
       " '__class__',\n",
       " '__complex__',\n",
       " '__contains__',\n",
       " '__copy__',\n",
       " '__deepcopy__',\n",
       " '__delattr__',\n",
       " '__delitem__',\n",
       " '__dir__',\n",
       " '__divmod__',\n",
       " '__doc__',\n",
       " '__eq__',\n",
       " '__float__',\n",
       " '__floordiv__',\n",
       " '__format__',\n",
       " '__ge__',\n",
       " '__getattribute__',\n",
       " '__getitem__',\n",
       " '__gt__',\n",
       " '__hash__',\n",
       " '__iadd__',\n",
       " '__iand__',\n",
       " '__ifloordiv__',\n",
       " '__ilshift__',\n",
       " '__imatmul__',\n",
       " '__imod__',\n",
       " '__imul__',\n",
       " '__index__',\n",
       " '__init__',\n",
       " '__init_subclass__',\n",
       " '__int__',\n",
       " '__invert__',\n",
       " '__ior__',\n",
       " '__ipow__',\n",
       " '__irshift__',\n",
       " '__isub__',\n",
       " '__iter__',\n",
       " '__itruediv__',\n",
       " '__ixor__',\n",
       " '__le__',\n",
       " '__len__',\n",
       " '__lshift__',\n",
       " '__lt__',\n",
       " '__matmul__',\n",
       " '__mod__',\n",
       " '__mul__',\n",
       " '__ne__',\n",
       " '__neg__',\n",
       " '__new__',\n",
       " '__or__',\n",
       " '__pos__',\n",
       " '__pow__',\n",
       " '__radd__',\n",
       " '__rand__',\n",
       " '__rdivmod__',\n",
       " '__reduce__',\n",
       " '__reduce_ex__',\n",
       " '__repr__',\n",
       " '__rfloordiv__',\n",
       " '__rlshift__',\n",
       " '__rmatmul__',\n",
       " '__rmod__',\n",
       " '__rmul__',\n",
       " '__ror__',\n",
       " '__rpow__',\n",
       " '__rrshift__',\n",
       " '__rshift__',\n",
       " '__rsub__',\n",
       " '__rtruediv__',\n",
       " '__rxor__',\n",
       " '__setattr__',\n",
       " '__setitem__',\n",
       " '__setstate__',\n",
       " '__sizeof__',\n",
       " '__str__',\n",
       " '__sub__',\n",
       " '__subclasshook__',\n",
       " '__truediv__',\n",
       " '__xor__',\n",
       " 'all',\n",
       " 'any',\n",
       " 'argmax',\n",
       " 'argmin',\n",
       " 'argpartition',\n",
       " 'argsort',\n",
       " 'astype',\n",
       " 'base',\n",
       " 'byteswap',\n",
       " 'choose',\n",
       " 'clip',\n",
       " 'compress',\n",
       " 'conj',\n",
       " 'conjugate',\n",
       " 'copy',\n",
       " 'ctypes',\n",
       " 'cumprod',\n",
       " 'cumsum',\n",
       " 'data',\n",
       " 'diagonal',\n",
       " 'dot',\n",
       " 'dtype',\n",
       " 'dump',\n",
       " 'dumps',\n",
       " 'fill',\n",
       " 'flags',\n",
       " 'flat',\n",
       " 'flatten',\n",
       " 'getfield',\n",
       " 'imag',\n",
       " 'item',\n",
       " 'itemset',\n",
       " 'itemsize',\n",
       " 'max',\n",
       " 'mean',\n",
       " 'min',\n",
       " 'nbytes',\n",
       " 'ndim',\n",
       " 'newbyteorder',\n",
       " 'nonzero',\n",
       " 'partition',\n",
       " 'prod',\n",
       " 'ptp',\n",
       " 'put',\n",
       " 'ravel',\n",
       " 'real',\n",
       " 'repeat',\n",
       " 'reshape',\n",
       " 'resize',\n",
       " 'round',\n",
       " 'searchsorted',\n",
       " 'setfield',\n",
       " 'setflags',\n",
       " 'shape',\n",
       " 'size',\n",
       " 'sort',\n",
       " 'squeeze',\n",
       " 'std',\n",
       " 'strides',\n",
       " 'sum',\n",
       " 'swapaxes',\n",
       " 'take',\n",
       " 'tobytes',\n",
       " 'tofile',\n",
       " 'tolist',\n",
       " 'tostring',\n",
       " 'trace',\n",
       " 'transpose',\n",
       " 'var',\n",
       " 'view']"
      ]
     },
     "execution_count": 45,
     "metadata": {},
     "output_type": "execute_result"
    }
   ],
   "source": [
    "dir(A_randn)"
   ]
  },
  {
   "cell_type": "markdown",
   "metadata": {},
   "source": [
    "more information about the methods can be found at <br> https://docs.scipy.org/doc/numpy/reference/routines.html"
   ]
  },
  {
   "cell_type": "markdown",
   "metadata": {},
   "source": [
    "### Exercise"
   ]
  },
  {
   "cell_type": "markdown",
   "metadata": {},
   "source": [
    "Implement a function according to the specification:\n",
    "```python\n",
    "def my_function(A, x):\n",
    "    # parameters:\n",
    "    #   A is a 1D array\n",
    "    #   x is an integer\n",
    "    # specification:\n",
    "    #   extract the elements at even indexes in A\n",
    "    #   put the extracted elements into a new 1D array B\n",
    "    #   multiply each element in B by x\n",
    "    #   return B\n",
    "```\n",
    "\n",
    "A test case: <br>\n",
    "A = np.array([0,1,2,3,4,5,6,7,8,9,10], dtype='int64') <br>\n",
    "x = 2 <br>\n",
    "The function returns an array B which is array([0,4,8,12,16,20], dtype='int64')"
   ]
  },
  {
   "cell_type": "code",
   "execution_count": 46,
   "metadata": {},
   "outputs": [],
   "source": [
    "#write the function\n",
    "def my_function(A, x):\n",
    "    LenA=A.shape[0]\n",
    "    B=A[0:LenA:2]\n",
    "    B*=x\n",
    "    return B"
   ]
  },
  {
   "cell_type": "code",
   "execution_count": 47,
   "metadata": {},
   "outputs": [
    {
     "data": {
      "text/plain": [
       "array([ 0,  4,  8, 12, 16, 20], dtype=int64)"
      ]
     },
     "execution_count": 47,
     "metadata": {},
     "output_type": "execute_result"
    }
   ],
   "source": [
    "#test the function\n",
    "A = np.array([0,1,2,3,4,5,6,7,8,9,10], dtype='int64') \n",
    "x = 2\n",
    "B = my_function(A, x)\n",
    "B"
   ]
  },
  {
   "cell_type": "code",
   "execution_count": null,
   "metadata": {},
   "outputs": [],
   "source": []
  }
 ],
 "metadata": {
  "kernelspec": {
   "display_name": "Python 3",
   "language": "python",
   "name": "python3"
  },
  "language_info": {
   "codemirror_mode": {
    "name": "ipython",
    "version": 3
   },
   "file_extension": ".py",
   "mimetype": "text/x-python",
   "name": "python",
   "nbconvert_exporter": "python",
   "pygments_lexer": "ipython3",
   "version": "3.7.5"
  }
 },
 "nbformat": 4,
 "nbformat_minor": 2
}
