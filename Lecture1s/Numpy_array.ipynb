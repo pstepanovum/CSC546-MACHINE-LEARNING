{
 "cells": [
  {
   "cell_type": "markdown",
   "metadata": {},
   "source": [
    "## Numpy Array is Tensor"
   ]
  },
  {
   "cell_type": "code",
   "execution_count": 2,
   "metadata": {},
   "outputs": [],
   "source": [
    "import numpy as np\n",
    "import matplotlib.pyplot as plt"
   ]
  },
  {
   "cell_type": "markdown",
   "metadata": {},
   "source": [
    "### float numbers"
   ]
  },
  {
   "cell_type": "code",
   "execution_count": 2,
   "metadata": {},
   "outputs": [
    {
     "data": {
      "text/plain": [
       "1.1920929e-07"
      ]
     },
     "execution_count": 2,
     "metadata": {},
     "output_type": "execute_result"
    }
   ],
   "source": [
    "x=np.float32(1)\n",
    "np.spacing(x)"
   ]
  },
  {
   "cell_type": "code",
   "execution_count": 3,
   "metadata": {},
   "outputs": [
    {
     "data": {
      "text/plain": [
       "7.6293945e-06"
      ]
     },
     "execution_count": 3,
     "metadata": {},
     "output_type": "execute_result"
    }
   ],
   "source": [
    "x=np.float32(100)\n",
    "np.spacing(x)"
   ]
  },
  {
   "cell_type": "code",
   "execution_count": 4,
   "metadata": {},
   "outputs": [
    {
     "data": {
      "text/plain": [
       "0.0078125"
      ]
     },
     "execution_count": 4,
     "metadata": {},
     "output_type": "execute_result"
    }
   ],
   "source": [
    "x=np.float32(1e+5)\n",
    "np.spacing(x)"
   ]
  },
  {
   "cell_type": "code",
   "execution_count": 5,
   "metadata": {},
   "outputs": [
    {
     "data": {
      "text/plain": [
       "1024.0"
      ]
     },
     "execution_count": 5,
     "metadata": {},
     "output_type": "execute_result"
    }
   ],
   "source": [
    "x=np.float32(1e+10)\n",
    "np.spacing(x)"
   ]
  },
  {
   "cell_type": "code",
   "execution_count": 6,
   "metadata": {},
   "outputs": [
    {
     "data": {
      "text/plain": [
       "7.5557864e+22"
      ]
     },
     "execution_count": 6,
     "metadata": {},
     "output_type": "execute_result"
    }
   ],
   "source": [
    "x=np.float32(1e+30)\n",
    "np.spacing(x)"
   ]
  },
  {
   "cell_type": "code",
   "execution_count": 7,
   "metadata": {},
   "outputs": [
    {
     "data": {
      "text/plain": [
       "Text(0, 0.5, 'spacing')"
      ]
     },
     "execution_count": 7,
     "metadata": {},
     "output_type": "execute_result"
    },
    {
     "data": {
      "image/png": "[encoded data removed]",
      "text/plain": [
       "<Figure size 432x288 with 1 Axes>"
      ]
     },
     "metadata": {
      "needs_background": "light"
     },
     "output_type": "display_data"
    }
   ],
   "source": [
    "dList=[]\n",
    "xList=[1, 1e1, 1e2, 1e3, 1e4, 1e5, 1e6, 1e7, 1e8, 1e9, 1e10]\n",
    "for x in xList:\n",
    "    dList.append(np.spacing(x))\n",
    "plt.plot(xList, dList)\n",
    "plt.xlabel('x', fontsize=16)\n",
    "plt.ylabel('spacing', fontsize=16)"
   ]
  },
  {
   "cell_type": "code",
   "execution_count": 8,
   "metadata": {},
   "outputs": [
    {
     "data": {
      "text/plain": [
       "1e-45"
      ]
     },
     "execution_count": 8,
     "metadata": {},
     "output_type": "execute_result"
    }
   ],
   "source": [
    "#https://docs.scipy.org/doc/numpy-1.13.0/reference/generated/numpy.nextafter.html\n",
    "# nextafter(x1, x2)\n",
    "# Return the next floating-point value after x1 towards x2\n",
    "np.nextafter(0, 1, dtype='float32')"
   ]
  },
  {
   "cell_type": "code",
   "execution_count": 9,
   "metadata": {},
   "outputs": [
    {
     "data": {
      "text/plain": [
       "5e-324"
      ]
     },
     "execution_count": 9,
     "metadata": {},
     "output_type": "execute_result"
    }
   ],
   "source": [
    "np.nextafter(0, 1, dtype='float64')"
   ]
  },
  {
   "cell_type": "code",
   "execution_count": 10,
   "metadata": {},
   "outputs": [
    {
     "data": {
      "text/plain": [
       "1.0000001"
      ]
     },
     "execution_count": 10,
     "metadata": {},
     "output_type": "execute_result"
    }
   ],
   "source": [
    "np.nextafter(1, 2, dtype='float32')"
   ]
  },
  {
   "cell_type": "code",
   "execution_count": 11,
   "metadata": {},
   "outputs": [
    {
     "data": {
      "text/plain": [
       "1.0000000000000002"
      ]
     },
     "execution_count": 11,
     "metadata": {},
     "output_type": "execute_result"
    }
   ],
   "source": [
    "np.nextafter(1, 2, dtype='float64')"
   ]
  },
  {
   "cell_type": "code",
   "execution_count": 12,
   "metadata": {},
   "outputs": [
    {
     "data": {
      "text/plain": [
       "1e-45"
      ]
     },
     "execution_count": 12,
     "metadata": {},
     "output_type": "execute_result"
    }
   ],
   "source": [
    "a=np.nextafter(0, 1, dtype='float32')\n",
    "b=np.nextafter(a, 1, dtype='float32')\n",
    "b-a"
   ]
  },
  {
   "cell_type": "code",
   "execution_count": 12,
   "metadata": {},
   "outputs": [
    {
     "data": {
      "text/plain": [
       "1.0"
      ]
     },
     "execution_count": 12,
     "metadata": {},
     "output_type": "execute_result"
    }
   ],
   "source": [
    "#large number + small number\n",
    "np.float32('1')+np.float32('1e-8')"
   ]
  },
  {
   "cell_type": "markdown",
   "metadata": {},
   "source": [
    "### Create a 1D tensor from a list"
   ]
  },
  {
   "cell_type": "code",
   "execution_count": 13,
   "metadata": {},
   "outputs": [
    {
     "data": {
      "text/plain": [
       "[0, 1, 2, 3, 4, 5, 6, 7, 8, 9]"
      ]
     },
     "execution_count": 13,
     "metadata": {},
     "output_type": "execute_result"
    }
   ],
   "source": [
    "A_list = [0, 1, 2, 3, 4, 5, 6, 7, 8, 9]\n",
    "A_list"
   ]
  },
  {
   "cell_type": "code",
   "execution_count": 14,
   "metadata": {
    "scrolled": true
   },
   "outputs": [
    {
     "data": {
      "text/plain": [
       "array([0, 1, 2, 3, 4, 5, 6, 7, 8, 9])"
      ]
     },
     "execution_count": 14,
     "metadata": {},
     "output_type": "execute_result"
    }
   ],
   "source": [
    "A = np.array(A_list, dtype=np.int32)\n",
    "A"
   ]
  },
  {
   "cell_type": "markdown",
   "metadata": {},
   "source": [
    "Directly use a list as the first argument to the function np.array "
   ]
  },
  {
   "cell_type": "code",
   "execution_count": 15,
   "metadata": {},
   "outputs": [
    {
     "data": {
      "text/plain": [
       "array([0, 1, 2, 3, 4, 5, 6, 7, 8, 9])"
      ]
     },
     "execution_count": 15,
     "metadata": {},
     "output_type": "execute_result"
    }
   ],
   "source": [
    "A = np.array([0, 1, 2, 3, 4, 5, 6, 7, 8, 9], dtype=np.int32)\n",
    "A"
   ]
  },
  {
   "cell_type": "markdown",
   "metadata": {},
   "source": [
    "a numpy array is an object, so it has a type and an id"
   ]
  },
  {
   "cell_type": "code",
   "execution_count": 16,
   "metadata": {},
   "outputs": [
    {
     "data": {
      "text/plain": [
       "numpy.ndarray"
      ]
     },
     "execution_count": 16,
     "metadata": {},
     "output_type": "execute_result"
    }
   ],
   "source": [
    "type(A)"
   ]
  },
  {
   "cell_type": "code",
   "execution_count": 17,
   "metadata": {},
   "outputs": [
    {
     "data": {
      "text/plain": [
       "131562512"
      ]
     },
     "execution_count": 17,
     "metadata": {},
     "output_type": "execute_result"
    }
   ],
   "source": [
    "id(A)"
   ]
  },
  {
   "cell_type": "markdown",
   "metadata": {},
   "source": [
    "use the function `len` to get the length of the 1D tensor"
   ]
  },
  {
   "cell_type": "code",
   "execution_count": 18,
   "metadata": {},
   "outputs": [
    {
     "data": {
      "text/plain": [
       "10"
      ]
     },
     "execution_count": 18,
     "metadata": {},
     "output_type": "execute_result"
    }
   ],
   "source": [
    "len(A)"
   ]
  },
  {
   "cell_type": "markdown",
   "metadata": {},
   "source": [
    "use tensor_name.shape to get the shape of the tensor  - the preferred way"
   ]
  },
  {
   "cell_type": "code",
   "execution_count": 19,
   "metadata": {},
   "outputs": [
    {
     "data": {
      "text/plain": [
       "(10,)"
      ]
     },
     "execution_count": 19,
     "metadata": {},
     "output_type": "execute_result"
    }
   ],
   "source": [
    "A.shape"
   ]
  },
  {
   "cell_type": "code",
   "execution_count": 20,
   "metadata": {},
   "outputs": [
    {
     "data": {
      "text/plain": [
       "tuple"
      ]
     },
     "execution_count": 20,
     "metadata": {},
     "output_type": "execute_result"
    }
   ],
   "source": [
    "type(A.shape)  # it is a tuple with one element"
   ]
  },
  {
   "cell_type": "code",
   "execution_count": 21,
   "metadata": {},
   "outputs": [
    {
     "data": {
      "text/plain": [
       "10"
      ]
     },
     "execution_count": 21,
     "metadata": {},
     "output_type": "execute_result"
    }
   ],
   "source": [
    "LenA = A.shape[0] # get the first/only element in the tuple\n",
    "LenA"
   ]
  },
  {
   "cell_type": "markdown",
   "metadata": {},
   "source": [
    "### Create 0D, 1D, 2D, 3D, 4D, 5D tensors"
   ]
  },
  {
   "cell_type": "markdown",
   "metadata": {},
   "source": [
    "define a 0D tensor (rank-0 tensor)"
   ]
  },
  {
   "cell_type": "code",
   "execution_count": 22,
   "metadata": {},
   "outputs": [
    {
     "data": {
      "text/plain": [
       "array(0.1234, dtype=float32)"
      ]
     },
     "execution_count": 22,
     "metadata": {},
     "output_type": "execute_result"
    }
   ],
   "source": [
    "a=np.array(0.1234, dtype=np.float32)\n",
    "a"
   ]
  },
  {
   "cell_type": "code",
   "execution_count": 23,
   "metadata": {},
   "outputs": [
    {
     "data": {
      "text/plain": [
       "()"
      ]
     },
     "execution_count": 23,
     "metadata": {},
     "output_type": "execute_result"
    }
   ],
   "source": [
    "a.shape"
   ]
  },
  {
   "cell_type": "markdown",
   "metadata": {},
   "source": [
    "define a 1D tensor (rank-1 tensor)"
   ]
  },
  {
   "cell_type": "code",
   "execution_count": 24,
   "metadata": {},
   "outputs": [
    {
     "data": {
      "text/plain": [
       "array([0.1234], dtype=float32)"
      ]
     },
     "execution_count": 24,
     "metadata": {},
     "output_type": "execute_result"
    }
   ],
   "source": [
    "a=np.array([0.1234], dtype=np.float32)\n",
    "a"
   ]
  },
  {
   "cell_type": "code",
   "execution_count": 25,
   "metadata": {},
   "outputs": [
    {
     "data": {
      "text/plain": [
       "(1,)"
      ]
     },
     "execution_count": 25,
     "metadata": {},
     "output_type": "execute_result"
    }
   ],
   "source": [
    "a.shape"
   ]
  },
  {
   "cell_type": "code",
   "execution_count": 26,
   "metadata": {},
   "outputs": [
    {
     "data": {
      "text/plain": [
       "1"
      ]
     },
     "execution_count": 26,
     "metadata": {},
     "output_type": "execute_result"
    }
   ],
   "source": [
    "a.shape[0]"
   ]
  },
  {
   "cell_type": "markdown",
   "metadata": {},
   "source": [
    "define a 2D tensor (rank-2 tensor)"
   ]
  },
  {
   "cell_type": "code",
   "execution_count": 27,
   "metadata": {},
   "outputs": [
    {
     "data": {
      "text/plain": [
       "array([[0.1, 0.2],\n",
       "       [0.3, 0.4],\n",
       "       [0.5, 0.6]], dtype=float32)"
      ]
     },
     "execution_count": 27,
     "metadata": {},
     "output_type": "execute_result"
    }
   ],
   "source": [
    "a=np.array([[0.1, 0.2],\n",
    "            [0.3, 0.4],\n",
    "            [0.5, 0.6]], dtype=np.float32)\n",
    "a"
   ]
  },
  {
   "cell_type": "code",
   "execution_count": 28,
   "metadata": {},
   "outputs": [
    {
     "data": {
      "text/plain": [
       "(3, 2)"
      ]
     },
     "execution_count": 28,
     "metadata": {},
     "output_type": "execute_result"
    }
   ],
   "source": [
    "a.shape"
   ]
  },
  {
   "cell_type": "code",
   "execution_count": 29,
   "metadata": {},
   "outputs": [
    {
     "data": {
      "text/plain": [
       "3"
      ]
     },
     "execution_count": 29,
     "metadata": {},
     "output_type": "execute_result"
    }
   ],
   "source": [
    "a.shape[0]"
   ]
  },
  {
   "cell_type": "markdown",
   "metadata": {},
   "source": [
    "define a 3D tensor (rank-3 tensor)"
   ]
  },
  {
   "cell_type": "code",
   "execution_count": 30,
   "metadata": {},
   "outputs": [
    {
     "data": {
      "text/plain": [
       "array([[[0.56453086, 0.89481254, 0.50554776, 0.45692319, 0.88009144,\n",
       "         0.32918832, 0.94155515, 0.55692766],\n",
       "        [0.42256851, 0.12224021, 0.74270532, 0.34004848, 0.88156648,\n",
       "         0.2505259 , 0.63125896, 0.35011753],\n",
       "        [0.67183087, 0.35858837, 0.33798747, 0.6851742 , 0.41586252,\n",
       "         0.28913175, 0.90155329, 0.88412644],\n",
       "        [0.24662273, 0.84450258, 0.61507977, 0.17937406, 0.49610749,\n",
       "         0.42757228, 0.36834925, 0.21918532],\n",
       "        [0.41962377, 0.34168983, 0.02598188, 0.58665982, 0.82027619,\n",
       "         0.88307106, 0.36865841, 0.44532182],\n",
       "        [0.06634159, 0.67234221, 0.71101564, 0.45357669, 0.67604974,\n",
       "         0.91071161, 0.63939195, 0.029637  ],\n",
       "        [0.93616752, 0.99462447, 0.73638884, 0.85473306, 0.11177663,\n",
       "         0.3267319 , 0.39957783, 0.7922977 ],\n",
       "        [0.98564107, 0.2192756 , 0.20100929, 0.986655  , 0.07747158,\n",
       "         0.2221483 , 0.2596505 , 0.84129564],\n",
       "        [0.32525885, 0.17257629, 0.0895855 , 0.94767526, 0.93108269,\n",
       "         0.58609317, 0.28297551, 0.45619088]],\n",
       "\n",
       "       [[0.5358756 , 0.60308719, 0.344758  , 0.57303785, 0.13187249,\n",
       "         0.87376979, 0.82207279, 0.39696985],\n",
       "        [0.71788673, 0.53916165, 0.13148859, 0.96171267, 0.98084871,\n",
       "         0.374093  , 0.05276982, 0.46416491],\n",
       "        [0.25984806, 0.20237103, 0.36228239, 0.98612063, 0.34602484,\n",
       "         0.03789412, 0.70248482, 0.38902951],\n",
       "        [0.5106243 , 0.61902677, 0.95886848, 0.5178084 , 0.06456126,\n",
       "         0.30270067, 0.4759033 , 0.07897475],\n",
       "        [0.94221138, 0.65700393, 0.17012833, 0.37943122, 0.61189058,\n",
       "         0.18560341, 0.74831206, 0.18605934],\n",
       "        [0.13326318, 0.95645612, 0.42408714, 0.79334223, 0.59114966,\n",
       "         0.19607411, 0.60688026, 0.95126943],\n",
       "        [0.49505078, 0.31452562, 0.71986854, 0.33031229, 0.50356526,\n",
       "         0.21342492, 0.3106162 , 0.73483716],\n",
       "        [0.59364431, 0.74799231, 0.54337958, 0.22955689, 0.9084091 ,\n",
       "         0.85009591, 0.34783992, 0.44058817],\n",
       "        [0.84074712, 0.34382687, 0.51082602, 0.59275675, 0.26315355,\n",
       "         0.5364421 , 0.8518964 , 0.23789755]],\n",
       "\n",
       "       [[0.33440772, 0.06494205, 0.65727738, 0.42919752, 0.71496913,\n",
       "         0.77112329, 0.97636094, 0.1427309 ],\n",
       "        [0.1872312 , 0.3770543 , 0.02316593, 0.79155575, 0.36369669,\n",
       "         0.28511155, 0.8955069 , 0.34772239],\n",
       "        [0.47462626, 0.9139804 , 0.64945435, 0.31177062, 0.14134686,\n",
       "         0.15267408, 0.6606068 , 0.05305974],\n",
       "        [0.98233414, 0.81590113, 0.93268245, 0.60468494, 0.57134811,\n",
       "         0.03269152, 0.01478224, 0.07907297],\n",
       "        [0.70042601, 0.78636138, 0.87076091, 0.95061298, 0.50347378,\n",
       "         0.97031478, 0.1493806 , 0.74625297],\n",
       "        [0.01271545, 0.286467  , 0.95071896, 0.83727975, 0.86675001,\n",
       "         0.5057716 , 0.31878017, 0.81898332],\n",
       "        [0.55798024, 0.89903392, 0.86613304, 0.89841407, 0.17114709,\n",
       "         0.32570715, 0.86731014, 0.51442703],\n",
       "        [0.57183123, 0.12475266, 0.48235073, 0.6275179 , 0.95891013,\n",
       "         0.46878483, 0.21694704, 0.46737419],\n",
       "        [0.95621967, 0.63914722, 0.88342242, 0.45441798, 0.20834437,\n",
       "         0.31694933, 0.78263706, 0.36321384]],\n",
       "\n",
       "       [[0.42198639, 0.59132021, 0.29202958, 0.61762269, 0.69346954,\n",
       "         0.24473012, 0.38969501, 0.21705306],\n",
       "        [0.06457764, 0.9636231 , 0.01457911, 0.97026815, 0.59716233,\n",
       "         0.67936397, 0.50956171, 0.06875449],\n",
       "        [0.45812179, 0.04602237, 0.57243658, 0.7025432 , 0.14148305,\n",
       "         0.55780623, 0.82951334, 0.25671287],\n",
       "        [0.10855177, 0.83028579, 0.88170468, 0.11396896, 0.53199474,\n",
       "         0.51874626, 0.64041202, 0.8292322 ],\n",
       "        [0.3876572 , 0.24485659, 0.79119809, 0.18684449, 0.85328732,\n",
       "         0.7058795 , 0.38240553, 0.36996111],\n",
       "        [0.41546854, 0.37902385, 0.04821916, 0.3854217 , 0.96359172,\n",
       "         0.47930255, 0.67342548, 0.11810628],\n",
       "        [0.55485587, 0.07080732, 0.52884559, 0.24230495, 0.69941358,\n",
       "         0.03354685, 0.91835469, 0.53598361],\n",
       "        [0.3449046 , 0.52208886, 0.41165894, 0.82628836, 0.88203572,\n",
       "         0.57458049, 0.14626591, 0.88392272],\n",
       "        [0.54534546, 0.2231016 , 0.8791512 , 0.04640599, 0.37448279,\n",
       "         0.1596163 , 0.13809358, 0.11270264]],\n",
       "\n",
       "       [[0.64430569, 0.95382549, 0.48309944, 0.6395524 , 0.42569989,\n",
       "         0.91098685, 0.51302422, 0.2531312 ],\n",
       "        [0.53472927, 0.14916065, 0.9801113 , 0.83062564, 0.32783596,\n",
       "         0.21230704, 0.28363419, 0.52830303],\n",
       "        [0.85301172, 0.88100786, 0.18485454, 0.42571131, 0.19583722,\n",
       "         0.09744331, 0.4919213 , 0.03904708],\n",
       "        [0.78131294, 0.92622426, 0.50820115, 0.12345388, 0.72275493,\n",
       "         0.11214825, 0.88595062, 0.74725411],\n",
       "        [0.342374  , 0.82859143, 0.73318661, 0.22878924, 0.19499627,\n",
       "         0.00899991, 0.1036958 , 0.8698636 ],\n",
       "        [0.0656733 , 0.72350385, 0.26765757, 0.4289627 , 0.7233855 ,\n",
       "         0.32450752, 0.9692758 , 0.43645471],\n",
       "        [0.2640159 , 0.39569499, 0.21613139, 0.26988951, 0.1264758 ,\n",
       "         0.2532291 , 0.59013233, 0.99775714],\n",
       "        [0.10972857, 0.84193379, 0.31782307, 0.35396133, 0.872218  ,\n",
       "         0.32349345, 0.50363926, 0.20143456],\n",
       "        [0.97605835, 0.34418173, 0.80432672, 0.05558441, 0.62459113,\n",
       "         0.91936778, 0.06459565, 0.93683486]],\n",
       "\n",
       "       [[0.54512791, 0.54391744, 0.33067391, 0.01455112, 0.83434426,\n",
       "         0.43181647, 0.78783036, 0.99653568],\n",
       "        [0.17532324, 0.57403571, 0.9067027 , 0.98530494, 0.22800398,\n",
       "         0.17510661, 0.13291206, 0.89332463],\n",
       "        [0.70296921, 0.19982973, 0.22636654, 0.89059504, 0.36176422,\n",
       "         0.88671353, 0.7848553 , 0.15691713],\n",
       "        [0.74945549, 0.89769198, 0.7913236 , 0.70549993, 0.13282165,\n",
       "         0.45889198, 0.8035362 , 0.83221213],\n",
       "        [0.24999832, 0.7115999 , 0.40861387, 0.87959124, 0.68991483,\n",
       "         0.76740589, 0.67523905, 0.95659235],\n",
       "        [0.61959467, 0.66817429, 0.87501957, 0.33450181, 0.02549654,\n",
       "         0.35582292, 0.69836363, 0.72026411],\n",
       "        [0.93916625, 0.28814265, 0.79121026, 0.85255871, 0.93375044,\n",
       "         0.04567905, 0.12784312, 0.04205099],\n",
       "        [0.18157701, 0.10475578, 0.72197286, 0.53863538, 0.47458274,\n",
       "         0.90257824, 0.47399883, 0.31572328],\n",
       "        [0.7950419 , 0.15419582, 0.90067788, 0.92739144, 0.2202034 ,\n",
       "         0.56562568, 0.43112219, 0.79920708]],\n",
       "\n",
       "       [[0.23355085, 0.12751009, 0.03388409, 0.27829784, 0.29634444,\n",
       "         0.78377928, 0.46596021, 0.8309813 ],\n",
       "        [0.80919726, 0.78470108, 0.55133417, 0.88029258, 0.3483382 ,\n",
       "         0.87183811, 0.27827042, 0.93502229],\n",
       "        [0.14308546, 0.38568215, 0.9317393 , 0.27599366, 0.20177613,\n",
       "         0.06099555, 0.32854994, 0.60484398],\n",
       "        [0.73325336, 0.28213818, 0.28886498, 0.72239348, 0.8588064 ,\n",
       "         0.82012139, 0.57364971, 0.66265239],\n",
       "        [0.5924156 , 0.75978406, 0.47351183, 0.6406351 , 0.95776127,\n",
       "         0.43443427, 0.49980658, 0.81265968],\n",
       "        [0.26588384, 0.82491582, 0.9001609 , 0.14740099, 0.86867049,\n",
       "         0.76953868, 0.92186486, 0.00633381],\n",
       "        [0.84643347, 0.92353752, 0.96117944, 0.41431676, 0.30067912,\n",
       "         0.69138666, 0.2426234 , 0.35978329],\n",
       "        [0.51630651, 0.79032856, 0.46871145, 0.48748326, 0.52278228,\n",
       "         0.20786317, 0.21255993, 0.27512283],\n",
       "        [0.86657109, 0.98567421, 0.31561475, 0.35930026, 0.30546691,\n",
       "         0.41405904, 0.01960743, 0.43166143]],\n",
       "\n",
       "       [[0.82848873, 0.80478127, 0.26306761, 0.29805831, 0.77845159,\n",
       "         0.10959343, 0.86784947, 0.5343783 ],\n",
       "        [0.72589637, 0.18525081, 0.13552693, 0.00121031, 0.53588497,\n",
       "         0.84397009, 0.09252667, 0.68160208],\n",
       "        [0.67256869, 0.93525923, 0.25968624, 0.51754359, 0.69451871,\n",
       "         0.39851213, 0.81486269, 0.67933582],\n",
       "        [0.09007877, 0.25427431, 0.54686627, 0.31974528, 0.68280619,\n",
       "         0.38541733, 0.89568876, 0.28963582],\n",
       "        [0.21270875, 0.41503398, 0.46324225, 0.87416476, 0.1975829 ,\n",
       "         0.24101853, 0.76659236, 0.47889206],\n",
       "        [0.23821851, 0.31476774, 0.21292101, 0.4928756 , 0.43459503,\n",
       "         0.72606557, 0.24057815, 0.55880661],\n",
       "        [0.83716771, 0.52697002, 0.27728359, 0.72839079, 0.29852762,\n",
       "         0.65326671, 0.58223609, 0.62619197],\n",
       "        [0.9477578 , 0.91415752, 0.80635577, 0.77665393, 0.79257507,\n",
       "         0.79078273, 0.2143536 , 0.98344939],\n",
       "        [0.35610817, 0.1413098 , 0.79919815, 0.24768347, 0.94360853,\n",
       "         0.66172172, 0.52289979, 0.46467989]],\n",
       "\n",
       "       [[0.26733181, 0.58428859, 0.49217357, 0.49541573, 0.15326901,\n",
       "         0.54907731, 0.96132047, 0.47187374],\n",
       "        [0.64532534, 0.89649936, 0.42189531, 0.17824863, 0.61970129,\n",
       "         0.42152974, 0.12806864, 0.13347922],\n",
       "        [0.70730874, 0.73187739, 0.87324931, 0.48925993, 0.50201167,\n",
       "         0.23947422, 0.04687675, 0.77095536],\n",
       "        [0.14186635, 0.25277059, 0.88087057, 0.82489332, 0.50239855,\n",
       "         0.1610475 , 0.46840194, 0.70002267],\n",
       "        [0.10918555, 0.91148899, 0.28865632, 0.68467548, 0.17195058,\n",
       "         0.48574181, 0.81202837, 0.797825  ],\n",
       "        [0.25415197, 0.8144255 , 0.23309936, 0.35656393, 0.27778135,\n",
       "         0.68367447, 0.41016052, 0.72910322],\n",
       "        [0.13136767, 0.91745033, 0.14890614, 0.62542579, 0.6870206 ,\n",
       "         0.65632606, 0.69248064, 0.65032326],\n",
       "        [0.3379388 , 0.05200122, 0.47022762, 0.55227591, 0.42301929,\n",
       "         0.96550759, 0.39302302, 0.44497653],\n",
       "        [0.49931802, 0.18366328, 0.16933736, 0.82649298, 0.92962828,\n",
       "         0.12311225, 0.71777513, 0.8264771 ]],\n",
       "\n",
       "       [[0.40803829, 0.70764031, 0.47211447, 0.52638986, 0.30753167,\n",
       "         0.16030432, 0.51711878, 0.19078526],\n",
       "        [0.59416865, 0.43201746, 0.79615197, 0.03565239, 0.25385896,\n",
       "         0.78241752, 0.96953383, 0.08449726],\n",
       "        [0.32531147, 0.29496639, 0.66545987, 0.79431124, 0.13399549,\n",
       "         0.20424355, 0.55477637, 0.7996658 ],\n",
       "        [0.02776755, 0.05560401, 0.40849847, 0.90857068, 0.39934875,\n",
       "         0.44015448, 0.11962166, 0.07562607],\n",
       "        [0.49333497, 0.75360855, 0.73801834, 0.34455231, 0.42341304,\n",
       "         0.57182526, 0.19658244, 0.54979618],\n",
       "        [0.7766001 , 0.14977834, 0.72928913, 0.67991013, 0.47195489,\n",
       "         0.70373741, 0.91231581, 0.97896331],\n",
       "        [0.40158767, 0.18678028, 0.0088909 , 0.12430455, 0.14697822,\n",
       "         0.51171108, 0.76083527, 0.25021081],\n",
       "        [0.87648331, 0.57313565, 0.22163255, 0.54434874, 0.52237352,\n",
       "         0.40585563, 0.71619736, 0.08155999],\n",
       "        [0.6117494 , 0.47410457, 0.95848299, 0.90251777, 0.61504558,\n",
       "         0.95576972, 0.37899012, 0.02243636]]])"
      ]
     },
     "execution_count": 30,
     "metadata": {},
     "output_type": "execute_result"
    }
   ],
   "source": [
    "a = np.random.rand(10,9,8)\n",
    "a"
   ]
  },
  {
   "cell_type": "code",
   "execution_count": 31,
   "metadata": {},
   "outputs": [
    {
     "data": {
      "text/plain": [
       "(10, 9, 8)"
      ]
     },
     "execution_count": 31,
     "metadata": {},
     "output_type": "execute_result"
    }
   ],
   "source": [
    "a.shape"
   ]
  },
  {
   "cell_type": "code",
   "execution_count": 32,
   "metadata": {},
   "outputs": [
    {
     "data": {
      "text/plain": [
       "10"
      ]
     },
     "execution_count": 32,
     "metadata": {},
     "output_type": "execute_result"
    }
   ],
   "source": [
    "a.shape[0]"
   ]
  },
  {
   "cell_type": "markdown",
   "metadata": {},
   "source": [
    "define a 4D tensor (rank-4 tensor)"
   ]
  },
  {
   "cell_type": "code",
   "execution_count": 33,
   "metadata": {},
   "outputs": [],
   "source": [
    "a = np.zeros((10,128,128,3), dtype=np.float32)"
   ]
  },
  {
   "cell_type": "code",
   "execution_count": 34,
   "metadata": {},
   "outputs": [
    {
     "data": {
      "text/plain": [
       "(10, 128, 128, 3)"
      ]
     },
     "execution_count": 34,
     "metadata": {},
     "output_type": "execute_result"
    }
   ],
   "source": [
    "a.shape"
   ]
  },
  {
   "cell_type": "markdown",
   "metadata": {},
   "source": [
    "define a 5D tensor (rank-5 tensor)"
   ]
  },
  {
   "cell_type": "code",
   "execution_count": 35,
   "metadata": {},
   "outputs": [],
   "source": [
    "a = np.ones((10,3,128,128,128), dtype=np.float32)"
   ]
  },
  {
   "cell_type": "code",
   "execution_count": 36,
   "metadata": {},
   "outputs": [
    {
     "data": {
      "text/plain": [
       "(10, 3, 128, 128, 128)"
      ]
     },
     "execution_count": 36,
     "metadata": {},
     "output_type": "execute_result"
    }
   ],
   "source": [
    "a.shape"
   ]
  },
  {
   "cell_type": "markdown",
   "metadata": {},
   "source": [
    "### Create Special Tensors"
   ]
  },
  {
   "cell_type": "code",
   "execution_count": 37,
   "metadata": {},
   "outputs": [
    {
     "data": {
      "text/plain": [
       "array([0., 0., 0., 0., 0., 0., 0., 0., 0., 0.], dtype=float32)"
      ]
     },
     "execution_count": 37,
     "metadata": {},
     "output_type": "execute_result"
    }
   ],
   "source": [
    "A0 = np.zeros(10, dtype='float32')\n",
    "A0"
   ]
  },
  {
   "cell_type": "code",
   "execution_count": 38,
   "metadata": {},
   "outputs": [
    {
     "data": {
      "text/plain": [
       "array([1., 1., 1., 1., 1., 1., 1., 1., 1., 1.], dtype=float32)"
      ]
     },
     "execution_count": 38,
     "metadata": {},
     "output_type": "execute_result"
    }
   ],
   "source": [
    "A1 = np.ones(10, dtype='float32')\n",
    "A1"
   ]
  },
  {
   "cell_type": "code",
   "execution_count": 39,
   "metadata": {},
   "outputs": [
    {
     "data": {
      "text/plain": [
       "array([ 57.08363634,  82.99299605, 108.90235576, 134.81171548,\n",
       "       160.72107519, 186.6304349 , 212.53979461, 238.44915433,\n",
       "       264.35851404, 260.64      ])"
      ]
     },
     "execution_count": 39,
     "metadata": {},
     "output_type": "execute_result"
    }
   ],
   "source": [
    "# create an empty tensory with a predefined length\n",
    "# we do not care about the initial values of the elements\n",
    "A2 = np.empty(10)\n",
    "A2"
   ]
  },
  {
   "cell_type": "code",
   "execution_count": 40,
   "metadata": {},
   "outputs": [
    {
     "data": {
      "text/plain": [
       "array([0.57563076, 0.54799939, 0.21390488, 0.83790268, 0.32779241,\n",
       "       0.28666025, 0.39036459, 0.72222988, 0.20162724, 0.51947661])"
      ]
     },
     "execution_count": 40,
     "metadata": {},
     "output_type": "execute_result"
    }
   ],
   "source": [
    "A_rand = np.random.rand(10) # uniform distribution in 0~1 \n",
    "A_rand"
   ]
  },
  {
   "cell_type": "code",
   "execution_count": 41,
   "metadata": {},
   "outputs": [
    {
     "data": {
      "text/plain": [
       "array([ 3.32177548e-01, -1.15450664e+00,  5.03053147e-01, -1.53098713e-01,\n",
       "       -4.04843762e-01, -2.64366131e-01,  8.28119263e-01, -6.65574950e-01,\n",
       "       -1.95563110e+00, -1.22187435e+00, -2.45071998e-01,  7.50684837e-02,\n",
       "        1.18805083e+00,  1.12770504e+00,  1.18625584e-01, -1.24157774e+00,\n",
       "       -1.16664700e-01,  6.09196676e-01, -9.20802085e-01, -1.31702286e+00,\n",
       "       -8.15935933e-01, -1.31271387e+00, -1.00014963e+00, -9.19242590e-01,\n",
       "       -5.75645248e-01, -1.14846244e+00,  6.51747794e-01, -1.57554974e+00,\n",
       "       -1.03090680e+00,  1.21897236e+00, -1.00353846e-01,  4.05803438e-01,\n",
       "       -1.47883311e-01,  6.78833451e-01, -4.07990582e-01, -9.25583332e-01,\n",
       "        1.33167664e+00, -1.38415172e+00, -5.86274292e-01, -3.65675563e-01,\n",
       "       -1.40046581e+00, -4.89085199e-02,  1.47248673e+00,  2.03574023e+00,\n",
       "       -1.20295054e+00, -2.45029426e-01,  1.60812734e+00, -1.38319843e+00,\n",
       "        1.15094136e+00,  2.57938553e-01,  1.49652739e+00,  6.75385873e-01,\n",
       "        3.27687964e-01, -8.89403729e-02,  1.67462938e+00, -1.23755513e-01,\n",
       "       -1.79503323e-02, -8.16737125e-01, -1.56855216e-01, -1.26068469e+00,\n",
       "       -6.75277205e-02, -4.50125786e-01,  2.51408259e-01, -3.92752556e-01,\n",
       "        1.60961685e+00, -2.23441978e-01,  8.01284593e-01,  1.38636658e+00,\n",
       "       -5.97307391e-01, -9.81809247e-01,  1.22075416e+00,  4.51095504e-01,\n",
       "        1.71806648e+00, -2.03958344e+00,  5.23713464e-01, -4.82936079e-01,\n",
       "       -1.93410122e+00,  1.79161238e+00,  5.85390607e-01,  1.11984171e+00,\n",
       "       -9.60822886e-01, -2.80841604e-01, -1.04996635e+00,  2.65497561e+00,\n",
       "       -1.16675428e+00, -1.49010021e+00, -1.04876122e+00, -1.07330988e-01,\n",
       "        1.94412137e-01,  8.67615994e-01, -6.08726859e-01, -2.87228858e-01,\n",
       "        1.08105991e+00,  1.64909653e-01,  3.58709888e-01, -3.28868767e-01,\n",
       "       -5.40005978e-02,  8.06378173e-01, -2.82343330e-01,  1.02494332e+00,\n",
       "        6.05026992e-01,  1.80705345e+00, -4.92300291e-02, -6.11823203e-01,\n",
       "       -2.88353977e-01,  5.99041125e-01, -5.23012608e-01,  1.02821766e+00,\n",
       "        6.62292174e-01,  2.88684041e-01,  1.70743170e+00,  1.56677797e+00,\n",
       "        2.33632117e-01,  6.27696167e-01,  1.19352136e+00, -7.37530269e-03,\n",
       "        3.44585254e-01,  1.97122026e+00,  4.70449378e-01, -5.96992672e-02,\n",
       "        2.64710589e-01, -4.15653138e-01, -2.27382165e-01,  9.40177811e-01,\n",
       "       -8.67159411e-01, -2.10961507e-01, -1.22977418e+00, -3.45013514e-01,\n",
       "       -8.22202004e-02,  9.33932872e-01, -9.41616836e-01, -1.97052018e-02,\n",
       "        2.09976062e-01, -2.73232883e-01, -7.22296324e-01, -7.68763514e-01,\n",
       "       -1.32233989e+00,  1.67425905e+00, -9.15350875e-01,  2.52355595e-01,\n",
       "        1.38782750e-01, -6.07146601e-01,  5.07009771e-01, -2.33049335e-01,\n",
       "        1.22323015e-01,  1.30653317e-01,  1.26596768e+00, -2.68319287e-01,\n",
       "       -2.48830759e-01,  6.36711334e-01, -2.64395367e-01, -1.31334520e+00,\n",
       "       -1.35808425e+00,  6.68674973e-01,  3.96217198e-01,  1.64151709e+00,\n",
       "        1.48495720e+00,  5.29180073e-01, -7.35260174e-01,  6.59340618e-01,\n",
       "        5.52280501e-01, -2.29469441e+00,  5.86357425e-01,  6.08434965e-02,\n",
       "       -1.33049152e+00, -1.42321426e-01, -1.23270528e+00, -1.63259268e+00,\n",
       "       -1.37895816e+00,  7.64733261e-01, -2.85111264e-01, -2.91445457e-01,\n",
       "       -3.42797838e-01,  1.56835654e+00, -1.32597933e+00, -3.97021141e-01,\n",
       "       -3.78633320e-01, -1.63001680e-01,  4.13926150e-01, -3.42920280e-01,\n",
       "        2.19307976e-01,  1.84219463e-01,  1.09467531e+00,  1.22128283e-02,\n",
       "       -1.49116821e+00,  1.88979673e+00, -1.33041793e+00, -2.40478724e-01,\n",
       "        9.01142050e-01, -7.80413086e-01,  1.27713842e+00,  6.96029398e-01,\n",
       "        9.73404975e-01, -3.30590781e-01,  3.58368686e-01, -7.66225767e-01,\n",
       "        1.11739563e+00,  7.12064453e-01, -3.66478446e-01, -1.56896818e-01,\n",
       "       -5.54487391e-01,  1.03745267e+00,  3.04585899e-01,  1.00788968e-01,\n",
       "        8.53467533e-01, -4.16935021e-01, -8.39108940e-01, -3.11740398e-01,\n",
       "       -7.43928172e-01,  9.52330307e-01,  6.69693752e-01, -5.70895421e-01,\n",
       "       -6.49480928e-01, -5.96037452e-01, -1.16548820e-01,  1.05952682e+00,\n",
       "       -7.52326904e-02, -1.42125123e+00, -3.52499139e-01,  6.54676292e-01,\n",
       "        1.36078786e+00,  9.65659531e-02, -2.89579658e-02,  4.47252733e-02,\n",
       "       -1.45928398e+00,  1.48308236e+00,  1.17296465e+00,  4.66111758e-01,\n",
       "       -3.96250759e-01, -9.64837184e-01,  1.99393158e+00, -9.93786295e-02,\n",
       "        1.95454434e-01, -3.18191924e-01, -9.07750128e-01, -4.75280920e-01,\n",
       "       -6.19196074e-01, -1.95514917e+00, -6.46428252e-01, -3.48547446e-01,\n",
       "       -5.82692987e-01,  3.37179325e-01,  6.52542739e-01,  6.92653092e-01,\n",
       "        7.13135821e-01, -9.42594350e-03,  7.70209962e-01, -1.56511604e-01,\n",
       "       -2.94006019e+00, -1.40522470e+00, -6.61283959e-01,  4.34133129e-01,\n",
       "       -1.03229835e+00,  4.21922024e-02, -6.32333397e-01,  9.30123283e-01,\n",
       "       -2.22478106e-01,  1.67000170e+00,  7.95928080e-01,  1.34534181e+00,\n",
       "       -1.11908478e-01,  5.77470668e-01, -3.36493562e-01,  4.37522597e-01,\n",
       "        1.49570870e+00, -8.31133606e-01, -1.00005839e-01,  2.55687106e-01,\n",
       "        1.85546244e+00, -1.96201506e-01,  1.85233826e-01,  2.20296922e-01,\n",
       "       -7.77356030e-01,  5.32617017e-01, -8.31988689e-01,  6.32666808e-01,\n",
       "       -1.53207584e+00, -8.13173827e-01,  1.45652726e-01, -3.46116640e-01,\n",
       "        8.85094073e-01,  1.48196340e+00,  4.71020156e-01, -6.98421575e-01,\n",
       "       -7.27087668e-01,  1.27379878e+00, -1.08764843e+00,  5.84700623e-02,\n",
       "       -1.70763738e+00,  4.29311502e-01, -1.25222811e+00,  1.17927849e+00,\n",
       "       -7.38986255e-01,  3.47116070e-01, -2.26305657e-01, -2.86038312e-01,\n",
       "        3.51906430e-02,  4.08690167e-01,  7.67332793e-01,  2.52972032e-01,\n",
       "       -3.48256756e-01, -4.28407982e-01, -3.23548493e-01, -7.25546346e-01,\n",
       "        4.66907956e-02, -1.01899210e+00,  7.56665950e-01, -1.28492375e-01,\n",
       "        1.11486301e+00,  1.66256040e+00,  7.74349047e-01, -1.15626911e+00,\n",
       "       -1.14714727e+00, -8.32379109e-01, -2.83253646e-02, -5.85322190e-01,\n",
       "       -3.01328118e-01,  5.00463429e-01,  5.24864581e-01,  1.55774472e+00,\n",
       "       -5.96022014e-01, -1.04593002e+00, -4.94862172e-02,  5.60456635e-01,\n",
       "       -4.61131947e-01, -1.36277401e+00,  1.12973806e-01, -2.55511500e-01,\n",
       "        1.24800214e+00, -6.18871213e-01,  7.93172948e-02,  8.89576288e-01,\n",
       "       -8.27604813e-01,  8.58019106e-01, -1.16668822e+00, -1.09014780e+00,\n",
       "        1.10841448e+00, -1.83387528e+00, -3.32018411e-01, -2.89079061e-01,\n",
       "        3.53365464e-01,  1.70925768e+00, -1.59115257e+00, -7.07922717e-01,\n",
       "        8.86392030e-01,  3.42162104e-02,  2.33568895e-01, -2.21473691e+00,\n",
       "        1.12827589e+00,  3.23129978e-01,  4.15169838e-02,  2.37099081e-01,\n",
       "        8.49517351e-02,  2.19923615e-01, -1.82269573e-01,  3.99944877e-01,\n",
       "        5.29203836e-01, -3.31992713e-01, -1.28990429e+00,  1.38677813e-02,\n",
       "        2.67634018e-01,  9.87697168e-01, -9.25835693e-01,  2.71971970e-01,\n",
       "        1.06875680e+00,  1.33466865e+00, -8.10211844e-01,  1.34723616e+00,\n",
       "       -5.73124550e-01,  1.08888337e+00,  9.45588760e-01, -3.19508993e-01,\n",
       "        1.40998119e+00,  4.97331774e-01, -1.22456897e+00, -6.75533435e-01,\n",
       "        1.10357631e+00, -7.10912817e-02, -9.08922397e-01, -1.80768061e+00,\n",
       "        2.60326725e-01, -6.24930823e-01,  5.68034750e-01, -1.14059993e+00,\n",
       "       -2.80923704e-01,  8.50802004e-02,  1.10443047e+00,  1.31576399e+00,\n",
       "       -1.40981086e+00, -3.62982161e-01, -6.55103783e-01, -3.00747878e-01,\n",
       "       -2.28104684e-01, -1.14750370e+00,  4.76482152e-01, -7.97479686e-01,\n",
       "       -1.40480529e-01, -1.44142734e+00, -3.52931625e-01, -1.43071712e+00,\n",
       "        9.17820587e-02,  1.54914313e+00, -5.57866903e-03, -5.17182232e-01,\n",
       "       -1.31325751e+00,  2.68684073e+00, -3.90202395e-01, -5.06370214e-01,\n",
       "       -1.21841966e+00, -4.91861199e-01, -2.07450735e-01,  4.15574736e-01,\n",
       "        9.33085472e-02, -1.10329593e+00, -8.35681060e-01,  1.07690058e+00,\n",
       "       -3.91219790e-01, -1.07103855e+00, -2.57219042e+00,  5.35847485e-01,\n",
       "        4.33749009e-01,  5.24493442e-01, -2.38511192e-01,  9.28460202e-01,\n",
       "       -2.93762561e+00, -2.38334610e-01, -7.01165325e-01, -1.99001254e-01,\n",
       "        3.11238224e-01, -5.03058759e-01,  2.36521214e+00, -1.31934246e+00,\n",
       "       -2.92251501e-01, -1.10368509e+00,  8.48596988e-01,  8.41152753e-01,\n",
       "        7.91645337e-01,  5.37297466e-01, -7.98665556e-01, -6.18061889e-01,\n",
       "       -7.89866784e-01, -5.69381891e-02, -3.12575749e+00,  1.36380788e+00,\n",
       "       -1.36787755e+00,  1.25921301e+00,  5.53719955e-01,  2.02609381e+00,\n",
       "       -9.37604602e-01, -1.62222971e-02,  1.43856164e+00, -1.70684134e+00,\n",
       "        7.34687786e-01, -1.83781324e-01, -3.70461732e-01, -4.68373667e-01,\n",
       "        1.33585103e+00, -3.65858572e-01,  5.56277283e-01, -4.89154806e-01,\n",
       "        6.85874159e-01, -1.18252071e+00,  1.80202833e+00,  4.59090030e-02,\n",
       "        7.57511508e-01, -6.82005617e-01, -7.95638955e-01, -8.70716317e-01,\n",
       "        1.93495754e+00, -1.31984523e-01,  2.05518546e+00, -6.38531175e-01,\n",
       "        3.51125224e-01, -1.13795247e+00,  1.08618072e+00,  1.41440430e+00,\n",
       "       -1.23286041e+00,  1.30795412e-01,  7.08437418e-01, -3.44161309e-01,\n",
       "        9.95117834e-01,  4.34027697e-01, -1.03153934e+00,  4.07625811e-01,\n",
       "       -4.21594037e-01,  2.71824376e+00,  1.17366148e-01, -4.20461827e-01,\n",
       "       -6.15303543e-02, -1.76939265e-01,  6.45264482e-01,  6.97317980e-01,\n",
       "        1.40299423e+00, -4.52771611e-02,  7.02357590e-01, -2.27763913e+00,\n",
       "        8.05558277e-01, -1.46003643e+00,  7.99535239e-01, -2.79063606e-01,\n",
       "       -7.36461812e-01, -9.00103438e-03,  1.03426988e+00,  2.81800272e-02,\n",
       "        2.39814452e+00,  1.77674924e+00,  3.29308424e-01, -1.41550348e+00,\n",
       "        4.79953885e-01, -1.69009136e-01,  9.85659010e-01,  8.07700151e-01,\n",
       "       -1.37457302e+00, -7.73697348e-01,  7.36585255e-01, -7.87726586e-01,\n",
       "       -8.86714611e-04, -2.10590392e+00,  1.07612696e+00,  2.04888079e+00,\n",
       "        4.07705881e-02, -1.12087141e+00, -1.51306704e+00,  9.75497867e-01,\n",
       "        5.18595519e-01, -1.87866100e+00, -4.88895050e-01,  4.52582658e-01,\n",
       "       -8.48488789e-01,  6.74815277e-01,  1.21260757e+00,  6.86116242e-01,\n",
       "       -1.01509626e+00,  7.42204999e-02, -8.53774892e-02,  4.47112421e-01,\n",
       "       -1.21213261e+00,  7.11280197e-01,  3.23866911e-01,  7.13249165e-01,\n",
       "        1.74013493e-01,  5.95935324e-01,  8.54951974e-01, -1.56853093e+00,\n",
       "       -8.05902945e-02,  9.54927117e-01,  4.33343478e-02, -1.01275501e+00,\n",
       "        1.12111910e+00,  8.09942910e-01, -4.54512374e-02,  1.12234721e+00,\n",
       "       -7.28333735e-01, -3.43567610e-01,  1.38888570e-01, -1.82563679e+00,\n",
       "        1.67727303e+00,  1.96306895e-01,  1.87580973e+00, -3.99278676e-01,\n",
       "        1.95199368e+00,  4.09715278e-02, -6.18006740e-01,  1.69385163e-01,\n",
       "        5.97408731e-01, -1.65193377e+00, -1.47740514e-01,  1.29895612e+00,\n",
       "       -2.55954821e+00, -1.00974785e+00,  1.95011727e-01, -1.46207463e+00,\n",
       "       -1.31662704e+00,  1.07871304e+00,  6.16528862e-01, -5.11921302e-01,\n",
       "        1.63942805e+00,  1.30189555e-01,  9.69819763e-02,  9.94121908e-01,\n",
       "       -1.92806939e-01,  1.10391099e+00, -1.24813948e+00, -2.83236724e+00,\n",
       "        1.74041424e+00,  7.87148501e-01, -6.16645214e-01,  5.82774754e-01,\n",
       "       -2.00423625e+00, -1.30874889e-01, -3.84944138e-01,  1.37229973e+00,\n",
       "        1.98659918e+00,  3.20858856e-01, -2.46470298e+00, -6.88236144e-01,\n",
       "        3.00230152e-01,  3.85146258e-01,  7.49250239e-01, -5.86890198e-01,\n",
       "       -5.42099319e-01,  1.13132018e-01,  1.01164379e+00, -1.12037547e+00,\n",
       "        1.14994151e+00, -1.60854667e-01,  7.62493024e-01, -1.23090858e+00,\n",
       "        1.58352805e-01, -1.24634130e+00, -2.78045611e-01,  6.28864526e-01,\n",
       "        8.56824317e-02,  7.06711071e-01, -6.45253630e-01,  6.46298431e-01,\n",
       "        1.79336138e-01, -5.30417530e-01,  5.99518582e-01,  6.24128088e-01,\n",
       "       -9.04404565e-01, -8.31641758e-01, -4.55169277e-01,  6.99271522e-01,\n",
       "       -2.79839953e-01, -4.03661479e-01,  1.69723404e-01, -1.57651602e+00,\n",
       "       -1.46771910e-01, -1.30253837e+00, -1.34814786e+00, -4.36746940e-02,\n",
       "        8.38092267e-01, -2.33557806e-01,  1.07049076e-02,  6.97127940e-01,\n",
       "        2.74038309e+00, -1.33488750e+00, -8.37159408e-03, -1.37807045e+00,\n",
       "       -3.76270848e-01,  1.49478436e+00, -3.67754363e-01,  1.89637322e+00,\n",
       "       -2.39129794e+00,  3.10895843e-01,  9.96806649e-01, -5.83984353e-01,\n",
       "        4.10453433e-01,  9.71496821e-01,  3.44816209e-01, -3.75845751e-01,\n",
       "       -6.92681266e-01, -1.14792579e+00, -1.30682853e+00,  6.33669986e-01,\n",
       "       -4.87984181e-01, -1.06239067e+00,  9.82193957e-01,  1.60700234e+00,\n",
       "       -2.60128557e-01, -1.44882326e+00, -8.06122333e-01, -7.81201962e-01,\n",
       "        1.30694751e-01, -1.78165079e-01, -8.99608042e-01, -9.52769450e-01,\n",
       "       -3.19055152e-01, -3.11480617e-01,  7.37726480e-01,  4.11382332e-01,\n",
       "        6.31604700e-01,  3.16730845e-01, -9.81772083e-01, -1.23202596e-01,\n",
       "       -1.61187834e-01, -1.44999593e-01, -1.95002270e-01, -2.16563234e-01,\n",
       "       -6.87323030e-01,  3.14317155e-01,  2.01936115e+00,  4.13138318e-01,\n",
       "       -1.39563667e+00,  1.06488165e-01, -5.13755747e-01, -7.60553442e-02,\n",
       "       -9.36659854e-01, -3.02281905e+00,  9.02897093e-01, -5.24648022e-01,\n",
       "       -1.58451076e+00, -1.11784248e+00, -1.55814766e+00,  3.27436040e-01,\n",
       "       -3.65942141e-01, -6.03488167e-01,  1.79938046e+00, -5.00248031e-01,\n",
       "        1.35346254e+00, -8.94034345e-01,  8.94394263e-02, -1.19476095e-01,\n",
       "        1.71726447e+00, -1.84831632e-02, -1.17219392e+00,  1.23327636e-01,\n",
       "        2.22501608e-01,  3.13813674e-01, -3.00222420e-01,  1.94390344e+00,\n",
       "        1.07211265e+00,  1.06813932e+00,  3.87874844e-01, -1.87928756e-01,\n",
       "       -1.24479365e+00, -6.00990174e-01, -4.62412902e-01,  3.26373173e-01,\n",
       "        1.50627884e+00, -3.44653349e-01,  4.77627928e-01,  8.51371228e-01,\n",
       "       -8.32972078e-01, -1.19458324e+00,  9.11833284e-01, -5.81671487e-01,\n",
       "       -7.13001892e-01, -1.50006596e+00,  5.24427723e-01, -1.64071025e-01,\n",
       "       -1.02423250e+00,  1.71053462e+00,  3.87561950e-01, -1.04222111e+00,\n",
       "        1.15149295e+00,  1.04620842e+00,  2.47085152e+00,  2.86740335e-01,\n",
       "        4.60175709e-01, -1.09478019e+00,  9.84247339e-01,  1.18397196e+00,\n",
       "       -3.29988441e-01, -3.40551921e-01, -5.94748367e-01,  8.93377941e-01,\n",
       "        9.17008144e-01,  9.09290638e-01,  1.71861977e+00, -7.35221305e-01,\n",
       "       -1.58787766e+00,  3.74824462e+00, -6.87586224e-01, -1.52239289e+00,\n",
       "       -7.36210838e-01, -1.33609960e-01, -1.03756610e+00,  7.55470007e-01,\n",
       "        1.24698319e+00, -1.15099561e+00,  1.34810009e+00, -4.51533550e-01,\n",
       "        3.04416444e-01, -1.39245534e+00,  8.55748687e-01,  2.07155488e-01,\n",
       "        3.05409392e-01,  1.14533862e+00,  1.30607221e-01, -3.08867348e-01,\n",
       "        2.14434822e+00, -1.06883255e+00, -9.41146083e-01, -1.03673035e+00,\n",
       "        1.12556564e+00,  2.50269409e-01, -1.85405750e+00, -5.18448422e-01,\n",
       "       -5.61744292e-01, -6.97734857e-01,  8.20779049e-01,  1.64242232e+00,\n",
       "       -4.25683874e-01, -1.83036566e+00,  9.98641168e-01, -5.06578605e-01,\n",
       "       -5.37664073e-01, -1.06268797e-01, -1.24695817e+00,  3.27876068e-01,\n",
       "       -8.52926528e-01, -5.75309411e-01, -6.41846602e-01,  1.37366753e+00,\n",
       "       -2.91464991e-01,  1.60221962e+00, -5.66432528e-01, -1.02961684e+00,\n",
       "        1.40689520e-02, -1.68926190e+00, -1.31427563e+00, -4.92432266e-01,\n",
       "        2.80360740e-01,  1.52468440e-02,  2.45111890e-01,  7.27270379e-01,\n",
       "        9.46413199e-01, -4.95924744e-01,  7.32021382e-01,  5.12496383e-01,\n",
       "        1.30765379e+00, -1.68518534e+00,  1.27278178e+00,  5.19435407e-01,\n",
       "       -2.83140956e-01, -2.61986611e-01, -1.39558699e+00, -1.83613588e-01,\n",
       "       -7.83394458e-01,  1.57908130e+00,  1.04413184e+00,  1.59752334e-01,\n",
       "       -2.55412866e-02, -3.17194823e-02, -1.72739532e-01, -9.37879518e-01,\n",
       "        2.88883735e-01, -1.80023335e+00,  8.97052143e-01,  8.13112961e-01,\n",
       "       -1.18479677e+00, -6.12164407e-01,  3.11639338e-01,  1.70363456e-01,\n",
       "        4.89956905e-01,  1.87310844e+00, -1.45329256e+00,  1.56843707e+00,\n",
       "        6.39248003e-01,  9.25849552e-02, -3.90455817e-01, -6.53371121e-01,\n",
       "       -2.66862206e-01, -2.95799238e-01,  1.28600262e+00,  1.96967409e+00,\n",
       "        2.87698106e-02,  8.35383947e-01, -6.65336449e-01,  1.20319016e+00,\n",
       "       -4.65862676e-01, -6.07109579e-01, -2.10807778e+00, -1.27413693e+00,\n",
       "       -2.50541697e-02, -1.25126307e+00, -4.60053992e-01,  8.55772391e-02,\n",
       "        6.98472300e-01,  5.30210039e-02,  8.93659449e-01, -8.48088062e-01,\n",
       "       -3.34161941e-01, -6.22875020e-01,  1.96503138e-01, -7.83095605e-01,\n",
       "        3.75686027e-01,  5.93508748e-01,  9.83724660e-01,  1.94443873e+00,\n",
       "       -1.91043368e+00, -6.19659188e-01,  4.44564892e-01, -4.50154989e-01,\n",
       "        1.53346104e+00, -3.04361048e-01, -1.24913780e+00,  6.99246736e-01,\n",
       "        8.90579181e-02,  1.01263250e+00,  3.40979656e-01, -6.20072910e-01,\n",
       "        2.65560174e-01, -2.35676290e+00, -5.14588360e-01, -6.81648509e-01,\n",
       "       -5.25002466e-01,  6.75486163e-01,  3.98047338e-01,  1.09028208e+00,\n",
       "        2.91917139e-01, -6.61208884e-01, -1.44180199e+00,  2.33311437e-01,\n",
       "        1.72291742e+00,  2.45213963e-01,  1.07505240e+00,  5.57192937e-01,\n",
       "        1.37315685e+00, -5.72049061e-01, -1.21405017e+00,  2.41827389e+00,\n",
       "       -8.48998707e-01,  1.37101027e+00,  2.75085298e+00,  1.24050327e+00,\n",
       "       -2.23649713e+00,  8.23349121e-01,  1.14382150e-01,  4.22590700e-01,\n",
       "       -1.36751574e+00, -1.52526802e+00, -6.28262232e-01, -3.19908450e-02,\n",
       "       -5.90644471e-02, -1.02298289e+00, -1.93791454e+00, -4.53709332e-01,\n",
       "        7.84380072e-01,  4.35796545e-02, -4.08393419e-01,  1.38185011e+00,\n",
       "        8.07335339e-01,  8.39127735e-01, -1.40434534e+00, -1.12142463e-01,\n",
       "       -1.50019550e+00,  2.21263221e-01, -4.04580876e-01,  1.00587284e+00,\n",
       "        3.64876570e-01, -9.10664571e-01, -4.55758256e-02, -1.46612538e+00,\n",
       "        9.77386891e-01, -8.78220368e-02,  5.19483886e-01, -5.22376195e-01,\n",
       "       -3.24689701e-01, -6.80323494e-01, -1.61613038e+00,  1.80613354e+00,\n",
       "       -1.45582759e+00,  1.58977174e+00, -1.26541692e+00, -9.15136015e-01,\n",
       "       -8.09938058e-02,  1.11055435e+00,  5.51949300e-01,  8.71633387e-01,\n",
       "       -3.98372733e-01, -1.04551815e+00, -5.18071627e-01, -6.33163374e-01,\n",
       "       -1.06049494e+00, -1.46478215e+00,  1.37667814e+00,  1.67085385e+00,\n",
       "       -2.33558474e-01,  1.13484103e+00, -1.15899492e+00, -1.66468048e-01,\n",
       "        1.02056518e-01,  5.91171840e-01,  1.48712210e-01,  8.75817380e-01,\n",
       "        7.24807425e-03,  1.11457340e-01,  7.77261185e-01,  6.36587647e-01,\n",
       "       -1.20727840e+00,  1.23248409e+00,  3.95054547e-01, -5.70402113e-01,\n",
       "        2.32243659e-01, -7.70258636e-02,  9.74049796e-01, -5.79213147e-02,\n",
       "       -1.33297317e+00,  5.16895235e-01, -8.51347814e-01,  1.35964096e+00,\n",
       "        1.51258854e+00, -3.81721890e-01, -4.02756475e-01, -3.09307793e-02,\n",
       "       -3.78252538e-01, -8.98287401e-01,  8.58025902e-01, -4.39916764e-01,\n",
       "       -2.72539441e-01, -7.92685390e-01, -1.43524235e+00, -9.82630875e-01,\n",
       "       -8.83487896e-01, -1.77956741e+00,  8.52938444e-01, -1.56971775e+00])"
      ]
     },
     "execution_count": 41,
     "metadata": {},
     "output_type": "execute_result"
    }
   ],
   "source": [
    "A_randn = np.random.randn(1000) # normal distribution with mean=0, std=1 \n",
    "A_randn"
   ]
  },
  {
   "cell_type": "code",
   "execution_count": 42,
   "metadata": {},
   "outputs": [
    {
     "data": {
      "text/plain": [
       "array([0, 2, 4, 6, 8])"
      ]
     },
     "execution_count": 42,
     "metadata": {},
     "output_type": "execute_result"
    }
   ],
   "source": [
    "A0 = np.arange(0, 10, 2, dtype='int32')\n",
    "A0"
   ]
  },
  {
   "cell_type": "code",
   "execution_count": 43,
   "metadata": {},
   "outputs": [
    {
     "data": {
      "text/plain": [
       "array([0.  , 0.25, 0.5 , 0.75, 1.  ])"
      ]
     },
     "execution_count": 43,
     "metadata": {},
     "output_type": "execute_result"
    }
   ],
   "source": [
    "A1 = np.linspace (0, 1, 5)\n",
    "A1"
   ]
  },
  {
   "cell_type": "markdown",
   "metadata": {},
   "source": [
    "### Reshape a tensor: change the 'shape' of a tensor and keep the order of the elements\n",
    "after `B=A.reshape()`, B and A share the same data in computer memory `in most cases`"
   ]
  },
  {
   "cell_type": "code",
   "execution_count": 44,
   "metadata": {},
   "outputs": [
    {
     "data": {
      "text/plain": [
       "(2, 4)"
      ]
     },
     "execution_count": 44,
     "metadata": {},
     "output_type": "execute_result"
    }
   ],
   "source": [
    "A = np.array([[0, 1, 2, 3], \n",
    "              [4, 5, 6, 7] ])\n",
    "A.shape"
   ]
  },
  {
   "cell_type": "code",
   "execution_count": 45,
   "metadata": {},
   "outputs": [
    {
     "data": {
      "text/plain": [
       "array([[0, 1, 2, 3, 4, 5, 6, 7]])"
      ]
     },
     "execution_count": 45,
     "metadata": {},
     "output_type": "execute_result"
    }
   ],
   "source": [
    "B1 = A.reshape(1,8)\n",
    "B1"
   ]
  },
  {
   "cell_type": "code",
   "execution_count": 46,
   "metadata": {},
   "outputs": [
    {
     "data": {
      "text/plain": [
       "(1, 8)"
      ]
     },
     "execution_count": 46,
     "metadata": {},
     "output_type": "execute_result"
    }
   ],
   "source": [
    "B1.shape"
   ]
  },
  {
   "cell_type": "code",
   "execution_count": 47,
   "metadata": {},
   "outputs": [
    {
     "data": {
      "text/plain": [
       "array([0, 1, 2, 3, 4, 5, 6, 7])"
      ]
     },
     "execution_count": 47,
     "metadata": {},
     "output_type": "execute_result"
    }
   ],
   "source": [
    "B2 = A.reshape(8)\n",
    "B2"
   ]
  },
  {
   "cell_type": "code",
   "execution_count": 48,
   "metadata": {},
   "outputs": [
    {
     "data": {
      "text/plain": [
       "(8,)"
      ]
     },
     "execution_count": 48,
     "metadata": {},
     "output_type": "execute_result"
    }
   ],
   "source": [
    "B2.shape"
   ]
  },
  {
   "cell_type": "code",
   "execution_count": 49,
   "metadata": {},
   "outputs": [
    {
     "data": {
      "text/plain": [
       "array([[100, 100, 100, 100],\n",
       "       [100, 100, 100, 100]])"
      ]
     },
     "execution_count": 49,
     "metadata": {},
     "output_type": "execute_result"
    }
   ],
   "source": [
    "A = np.array([[0, 1,  2, 3], \n",
    "              [4, 5, 6, 7] ])\n",
    "B1 = A.reshape(1,8)\n",
    "B1[0]=100 # is it the first element in B ?\n",
    "A"
   ]
  },
  {
   "cell_type": "code",
   "execution_count": 50,
   "metadata": {},
   "outputs": [
    {
     "data": {
      "text/plain": [
       "array([[100,   1,   2,   3],\n",
       "       [  4,   5,   6,   7]])"
      ]
     },
     "execution_count": 50,
     "metadata": {},
     "output_type": "execute_result"
    }
   ],
   "source": [
    "A = np.array([[0, 1,  2, 3], \n",
    "              [4, 5, 6, 7] ])\n",
    "B1 = A.reshape(1,8)\n",
    "B1[0,0]=100\n",
    "A"
   ]
  },
  {
   "cell_type": "markdown",
   "metadata": {},
   "source": [
    "### Repeat elements of a tensor\n",
    "see the solution of homework 1 part 2 task 1"
   ]
  },
  {
   "cell_type": "code",
   "execution_count": 51,
   "metadata": {},
   "outputs": [
    {
     "data": {
      "text/plain": [
       "(1, 4)"
      ]
     },
     "execution_count": 51,
     "metadata": {},
     "output_type": "execute_result"
    }
   ],
   "source": [
    "A = np.array([[0, 1,  2, 3]])\n",
    "A.shape"
   ]
  },
  {
   "cell_type": "code",
   "execution_count": 52,
   "metadata": {},
   "outputs": [
    {
     "data": {
      "text/plain": [
       "array([[0, 1, 2, 3],\n",
       "       [0, 1, 2, 3]])"
      ]
     },
     "execution_count": 52,
     "metadata": {},
     "output_type": "execute_result"
    }
   ],
   "source": [
    "B=A.repeat(2, axis=0)\n",
    "B"
   ]
  },
  {
   "cell_type": "code",
   "execution_count": 53,
   "metadata": {},
   "outputs": [
    {
     "data": {
      "text/plain": [
       "array([[0, 0, 1, 1, 2, 2, 3, 3]])"
      ]
     },
     "execution_count": 53,
     "metadata": {},
     "output_type": "execute_result"
    }
   ],
   "source": [
    "B=A.repeat(2, axis=1)\n",
    "B"
   ]
  },
  {
   "cell_type": "code",
   "execution_count": 54,
   "metadata": {},
   "outputs": [
    {
     "data": {
      "text/plain": [
       "array([[0, 1, 2, 3],\n",
       "       [0, 1, 2, 3],\n",
       "       [0, 1, 2, 3],\n",
       "       [0, 1, 2, 3]])"
      ]
     },
     "execution_count": 54,
     "metadata": {},
     "output_type": "execute_result"
    }
   ],
   "source": [
    "B=A[[0,0,0,0],:]\n",
    "B"
   ]
  },
  {
   "cell_type": "code",
   "execution_count": 55,
   "metadata": {},
   "outputs": [
    {
     "data": {
      "text/plain": [
       "(4, 4)"
      ]
     },
     "execution_count": 55,
     "metadata": {},
     "output_type": "execute_result"
    }
   ],
   "source": [
    "B.shape"
   ]
  },
  {
   "cell_type": "markdown",
   "metadata": {},
   "source": [
    "### Swap axes/dimensions"
   ]
  },
  {
   "cell_type": "code",
   "execution_count": 56,
   "metadata": {},
   "outputs": [
    {
     "data": {
      "text/plain": [
       "array([[0, 4],\n",
       "       [1, 5],\n",
       "       [2, 6],\n",
       "       [3, 7]])"
      ]
     },
     "execution_count": 56,
     "metadata": {},
     "output_type": "execute_result"
    }
   ],
   "source": [
    "A = np.array([[0, 1,  2, 3], \n",
    "              [4, 5, 6, 7] ])\n",
    "B=A.transpose(1,0)\n",
    "B"
   ]
  },
  {
   "cell_type": "code",
   "execution_count": 57,
   "metadata": {},
   "outputs": [
    {
     "data": {
      "text/plain": [
       "array([[100,   1,   2,   3],\n",
       "       [  4,   5,   6,   7]])"
      ]
     },
     "execution_count": 57,
     "metadata": {},
     "output_type": "execute_result"
    }
   ],
   "source": [
    "A = np.array([[0, 1,  2, 3], \n",
    "              [4, 5, 6, 7] ])\n",
    "B=A.transpose(1,0)\n",
    "B[0,0]=100\n",
    "A"
   ]
  },
  {
   "cell_type": "code",
   "execution_count": 58,
   "metadata": {},
   "outputs": [
    {
     "data": {
      "text/plain": [
       "array([[0, 1, 2, 3],\n",
       "       [4, 5, 6, 7]])"
      ]
     },
     "execution_count": 58,
     "metadata": {},
     "output_type": "execute_result"
    }
   ],
   "source": [
    "A = np.array([[0, 1,  2, 3], \n",
    "              [4, 5, 6, 7] ])\n",
    "B=A.transpose(0,1)\n",
    "B"
   ]
  },
  {
   "cell_type": "code",
   "execution_count": 59,
   "metadata": {},
   "outputs": [
    {
     "data": {
      "text/plain": [
       "array([[[ 0,  1],\n",
       "        [ 2,  3]],\n",
       "\n",
       "       [[ 4,  5],\n",
       "        [ 6,  7]],\n",
       "\n",
       "       [[ 8,  9],\n",
       "        [10, 11]]])"
      ]
     },
     "execution_count": 59,
     "metadata": {},
     "output_type": "execute_result"
    }
   ],
   "source": [
    "A = np.array([[[0, 1], [2, 3]], \n",
    "              [[4, 5], [6, 7]],\n",
    "              [[8, 9], [10, 11]]])\n",
    "A"
   ]
  },
  {
   "cell_type": "code",
   "execution_count": 60,
   "metadata": {},
   "outputs": [
    {
     "data": {
      "text/plain": [
       "(3, 2, 2)"
      ]
     },
     "execution_count": 60,
     "metadata": {},
     "output_type": "execute_result"
    }
   ],
   "source": [
    "A.shape"
   ]
  },
  {
   "cell_type": "code",
   "execution_count": 61,
   "metadata": {},
   "outputs": [
    {
     "data": {
      "text/plain": [
       "array([[[ 0,  2],\n",
       "        [ 1,  3]],\n",
       "\n",
       "       [[ 4,  6],\n",
       "        [ 5,  7]],\n",
       "\n",
       "       [[ 8, 10],\n",
       "        [ 9, 11]]])"
      ]
     },
     "execution_count": 61,
     "metadata": {},
     "output_type": "execute_result"
    }
   ],
   "source": [
    "B=A.transpose(0,2,1)\n",
    "B"
   ]
  },
  {
   "cell_type": "code",
   "execution_count": 62,
   "metadata": {},
   "outputs": [
    {
     "data": {
      "text/plain": [
       "array([[[ 0,  1],\n",
       "        [ 4,  5],\n",
       "        [ 8,  9]],\n",
       "\n",
       "       [[ 2,  3],\n",
       "        [ 6,  7],\n",
       "        [10, 11]]])"
      ]
     },
     "execution_count": 62,
     "metadata": {},
     "output_type": "execute_result"
    }
   ],
   "source": [
    "B=A.transpose(1,0,2)\n",
    "B"
   ]
  },
  {
   "cell_type": "code",
   "execution_count": 63,
   "metadata": {},
   "outputs": [
    {
     "data": {
      "text/plain": [
       "array([[[ 0,  4,  8],\n",
       "        [ 2,  6, 10]],\n",
       "\n",
       "       [[ 1,  5,  9],\n",
       "        [ 3,  7, 11]]])"
      ]
     },
     "execution_count": 63,
     "metadata": {},
     "output_type": "execute_result"
    }
   ],
   "source": [
    "B=A.transpose(2,1,0) # B[k,j,i] is A[i,j,k]\n",
    "B"
   ]
  },
  {
   "cell_type": "code",
   "execution_count": 64,
   "metadata": {},
   "outputs": [
    {
     "name": "stdout",
     "output_type": "stream",
     "text": [
      "0 0\n",
      "1 1\n",
      "2 2\n",
      "3 3\n",
      "4 4\n",
      "5 5\n",
      "6 6\n",
      "7 7\n",
      "8 8\n",
      "9 9\n",
      "10 10\n",
      "11 11\n"
     ]
    }
   ],
   "source": [
    "B=A.transpose(2,1,0) # B[k,j,i] is A[i,j,k]\n",
    "for i in range(0, A.shape[0]):\n",
    "    for j in range(0, A.shape[1]):\n",
    "        for k in range(0, A.shape[2]):\n",
    "            print(A[i,j,k], B[k,j,i])"
   ]
  },
  {
   "cell_type": "code",
   "execution_count": 65,
   "metadata": {},
   "outputs": [
    {
     "data": {
      "text/plain": [
       "array([[[100,   1],\n",
       "        [  2,   3]],\n",
       "\n",
       "       [[  4,   5],\n",
       "        [  6,   7]],\n",
       "\n",
       "       [[  8,   9],\n",
       "        [ 10,  11]]])"
      ]
     },
     "execution_count": 65,
     "metadata": {},
     "output_type": "execute_result"
    }
   ],
   "source": [
    "A = np.array([[[0, 1], [2, 3]], \n",
    "              [[4, 5], [6, 7]],\n",
    "              [[8, 9], [10, 11]]])\n",
    "B=A.transpose(2,1,0) # B[k,j,i] is A[i,j,k]\n",
    "# a 'view' of A is returned whenever possible.\n",
    "B[0,0,0]=100\n",
    "A"
   ]
  },
  {
   "cell_type": "markdown",
   "metadata": {},
   "source": [
    "### Element indexing"
   ]
  },
  {
   "cell_type": "markdown",
   "metadata": {},
   "source": [
    "get an element of a tensor using tensor_name[element_index]"
   ]
  },
  {
   "cell_type": "code",
   "execution_count": 66,
   "metadata": {},
   "outputs": [
    {
     "data": {
      "text/plain": [
       "array([0, 1, 2, 3, 4, 5, 6, 7, 8, 9])"
      ]
     },
     "execution_count": 66,
     "metadata": {},
     "output_type": "execute_result"
    }
   ],
   "source": [
    "A = np.array([0, 1, 2, 3, 4, 5, 6, 7, 8, 9], dtype='int32')\n",
    "A"
   ]
  },
  {
   "cell_type": "code",
   "execution_count": 67,
   "metadata": {},
   "outputs": [
    {
     "data": {
      "text/plain": [
       "0"
      ]
     },
     "execution_count": 67,
     "metadata": {},
     "output_type": "execute_result"
    }
   ],
   "source": [
    "A[0] # the first element"
   ]
  },
  {
   "cell_type": "code",
   "execution_count": 68,
   "metadata": {
    "scrolled": true
   },
   "outputs": [
    {
     "data": {
      "text/plain": [
       "1"
      ]
     },
     "execution_count": 68,
     "metadata": {},
     "output_type": "execute_result"
    }
   ],
   "source": [
    "A[1] # the second element"
   ]
  },
  {
   "cell_type": "code",
   "execution_count": 69,
   "metadata": {},
   "outputs": [
    {
     "data": {
      "text/plain": [
       "9"
      ]
     },
     "execution_count": 69,
     "metadata": {},
     "output_type": "execute_result"
    }
   ],
   "source": [
    "A[A.shape[0]-1] # the last element"
   ]
  },
  {
   "cell_type": "code",
   "execution_count": 70,
   "metadata": {},
   "outputs": [
    {
     "data": {
      "text/plain": [
       "9"
      ]
     },
     "execution_count": 70,
     "metadata": {},
     "output_type": "execute_result"
    }
   ],
   "source": [
    "A[-1] # the last element, A[LenA-1] => A[(LenA-1)-LenA], LenA=A.shape[0]"
   ]
  },
  {
   "cell_type": "code",
   "execution_count": 71,
   "metadata": {},
   "outputs": [
    {
     "data": {
      "text/plain": [
       "1"
      ]
     },
     "execution_count": 71,
     "metadata": {},
     "output_type": "execute_result"
    }
   ],
   "source": [
    "A[-9] # A[1] => A[1-LenA]"
   ]
  },
  {
   "cell_type": "code",
   "execution_count": 72,
   "metadata": {},
   "outputs": [
    {
     "data": {
      "text/plain": [
       "0"
      ]
     },
     "execution_count": 72,
     "metadata": {},
     "output_type": "execute_result"
    }
   ],
   "source": [
    "A[-A.shape[0]] # A[0] => A[0-LenA]"
   ]
  },
  {
   "cell_type": "markdown",
   "metadata": {},
   "source": [
    "### Slicing a tesor to get a sub-tensor"
   ]
  },
  {
   "cell_type": "markdown",
   "metadata": {},
   "source": [
    "get a sub-tensor using the notation tensor_name[start: end], <br>"
   ]
  },
  {
   "cell_type": "code",
   "execution_count": 73,
   "metadata": {},
   "outputs": [
    {
     "data": {
      "text/plain": [
       "array([0, 1, 2, 3, 4, 5, 6, 7, 8, 9])"
      ]
     },
     "execution_count": 73,
     "metadata": {},
     "output_type": "execute_result"
    }
   ],
   "source": [
    "A = np.array([0, 1, 2, 3, 4, 5, 6, 7, 8, 9], dtype='int32')\n",
    "A"
   ]
  },
  {
   "cell_type": "code",
   "execution_count": 74,
   "metadata": {},
   "outputs": [
    {
     "data": {
      "text/plain": [
       "array([0, 1, 2])"
      ]
     },
     "execution_count": 74,
     "metadata": {},
     "output_type": "execute_result"
    }
   ],
   "source": [
    "A = np.array([0, 1, 2, 3, 4, 5, 6, 7, 8, 9], dtype='int32')\n",
    "A[0:3] # start from A[0], then A[1], A[2], up to but not inluding A[3]"
   ]
  },
  {
   "cell_type": "code",
   "execution_count": 75,
   "metadata": {},
   "outputs": [
    {
     "data": {
      "text/plain": [
       "array([1, 2, 3, 4, 5, 6, 7, 8, 9])"
      ]
     },
     "execution_count": 75,
     "metadata": {},
     "output_type": "execute_result"
    }
   ],
   "source": [
    "A = np.array([0, 1, 2, 3, 4, 5, 6, 7, 8, 9], dtype='int32')\n",
    "A[1:A.shape[0]] # get elements from A[1] to A[LenA-1], LenA is A.shape[0]"
   ]
  },
  {
   "cell_type": "code",
   "execution_count": 76,
   "metadata": {},
   "outputs": [
    {
     "data": {
      "text/plain": [
       "array([1, 2, 3, 4, 5, 6, 7, 8, 9])"
      ]
     },
     "execution_count": 76,
     "metadata": {},
     "output_type": "execute_result"
    }
   ],
   "source": [
    "A = np.array([0, 1, 2, 3, 4, 5, 6, 7, 8, 9], dtype='int32')\n",
    "A[1:] # omit end, we get elements from A[1] to A[LenA-1]"
   ]
  },
  {
   "cell_type": "code",
   "execution_count": 77,
   "metadata": {},
   "outputs": [
    {
     "data": {
      "text/plain": [
       "array([], dtype=int32)"
      ]
     },
     "execution_count": 77,
     "metadata": {},
     "output_type": "execute_result"
    }
   ],
   "source": [
    "A = np.array([0, 1, 2, 3, 4, 5, 6, 7, 8, 9], dtype='int32')\n",
    "A[0:0] # start == end"
   ]
  },
  {
   "cell_type": "code",
   "execution_count": 78,
   "metadata": {},
   "outputs": [
    {
     "data": {
      "text/plain": [
       "array([], dtype=int32)"
      ]
     },
     "execution_count": 78,
     "metadata": {},
     "output_type": "execute_result"
    }
   ],
   "source": [
    "A = np.array([0, 1, 2, 3, 4, 5, 6, 7, 8, 9], dtype='int32')\n",
    "A[3:0] # start < end"
   ]
  },
  {
   "cell_type": "code",
   "execution_count": 79,
   "metadata": {},
   "outputs": [],
   "source": [
    "A = np.array([0, 1, 2, 3, 4, 5, 6, 7, 8, 9], dtype='int32')\n",
    "#A[0:3:0] # error, step is 0"
   ]
  },
  {
   "cell_type": "code",
   "execution_count": 80,
   "metadata": {},
   "outputs": [
    {
     "data": {
      "text/plain": [
       "array([0, 1, 2])"
      ]
     },
     "execution_count": 80,
     "metadata": {},
     "output_type": "execute_result"
    }
   ],
   "source": [
    "A = np.array([0, 1, 2, 3, 4, 5, 6, 7, 8, 9], dtype='int32')\n",
    "A[0:3:1] # step is 1, this is the same as A[0:3]"
   ]
  },
  {
   "cell_type": "code",
   "execution_count": 81,
   "metadata": {},
   "outputs": [
    {
     "data": {
      "text/plain": [
       "array([0, 2])"
      ]
     },
     "execution_count": 81,
     "metadata": {},
     "output_type": "execute_result"
    }
   ],
   "source": [
    "A = np.array([0, 1, 2, 3, 4, 5, 6, 7, 8, 9], dtype='int32')\n",
    "A[0:3:2] # step is 2, A[0], A[2], A[4](not included, 4 > 3 in 0:3:2)"
   ]
  },
  {
   "cell_type": "code",
   "execution_count": 82,
   "metadata": {},
   "outputs": [
    {
     "data": {
      "text/plain": [
       "array([0])"
      ]
     },
     "execution_count": 82,
     "metadata": {},
     "output_type": "execute_result"
    }
   ],
   "source": [
    "A = np.array([0, 1, 2, 3, 4, 5, 6, 7, 8, 9], dtype='int32')\n",
    "A[0:3:10] # step is 10, A[0], A[10](not exist)"
   ]
  },
  {
   "cell_type": "code",
   "execution_count": 83,
   "metadata": {},
   "outputs": [
    {
     "data": {
      "text/plain": [
       "array([3, 2, 1])"
      ]
     },
     "execution_count": 83,
     "metadata": {},
     "output_type": "execute_result"
    }
   ],
   "source": [
    "A = np.array([0, 1, 2, 3, 4, 5, 6, 7, 8, 9], dtype='int32')\n",
    "A[3:0:-1] # start is 3, end is 0, step is -1"
   ]
  },
  {
   "cell_type": "code",
   "execution_count": 84,
   "metadata": {},
   "outputs": [
    {
     "data": {
      "text/plain": [
       "array([1, 2, 3, 4, 5, 6, 7, 8])"
      ]
     },
     "execution_count": 84,
     "metadata": {},
     "output_type": "execute_result"
    }
   ],
   "source": [
    "A = np.array([0, 1, 2, 3, 4, 5, 6, 7, 8, 9], dtype='int32')\n",
    "A[-9:-1] # get elements: A[-9],A[-8],A[-7],A[-6],\n",
    "         #               A[-5],A[-4],A[-3],A[-2]\n",
    "         # up to but not including A[-1]"
   ]
  },
  {
   "cell_type": "code",
   "execution_count": 85,
   "metadata": {},
   "outputs": [
    {
     "data": {
      "text/plain": [
       "array([1, 2, 3, 4, 5, 6, 7, 8, 9])"
      ]
     },
     "execution_count": 85,
     "metadata": {},
     "output_type": "execute_result"
    }
   ],
   "source": [
    "A = np.array([0, 1, 2, 3, 4, 5, 6, 7, 8, 9], dtype='int32')\n",
    "A[-9:] # omit end, now the last element is included in the sub-array "
   ]
  },
  {
   "cell_type": "code",
   "execution_count": 86,
   "metadata": {},
   "outputs": [
    {
     "data": {
      "text/plain": [
       "array([1, 2, 3, 4, 5, 6, 7, 8, 9])"
      ]
     },
     "execution_count": 86,
     "metadata": {},
     "output_type": "execute_result"
    }
   ],
   "source": [
    "A = np.array([0, 1, 2, 3, 4, 5, 6, 7, 8, 9], dtype='int32')\n",
    "A[1:]"
   ]
  },
  {
   "cell_type": "code",
   "execution_count": 87,
   "metadata": {},
   "outputs": [
    {
     "data": {
      "text/plain": [
       "array([1, 4, 7])"
      ]
     },
     "execution_count": 87,
     "metadata": {},
     "output_type": "execute_result"
    }
   ],
   "source": [
    "A = np.array([0, 1, 2, 3, 4, 5, 6, 7, 8, 9], dtype='int32')\n",
    "A[-9:-1:3] # start is -9, end is -1, step is 3\n",
    "           # A[-9], A[-6], A[-3], A[0](not included) "
   ]
  },
  {
   "cell_type": "code",
   "execution_count": 88,
   "metadata": {},
   "outputs": [
    {
     "data": {
      "text/plain": [
       "array([9, 6, 3])"
      ]
     },
     "execution_count": 88,
     "metadata": {},
     "output_type": "execute_result"
    }
   ],
   "source": [
    "A = np.array([0, 1, 2, 3, 4, 5, 6, 7, 8, 9], dtype='int32')\n",
    "A[-1:-9:-3]# start is -1, end is -9, step is -3\n",
    "           # A[-1], A[-4], A[-7], A[-10](not exist)"
   ]
  },
  {
   "cell_type": "markdown",
   "metadata": {},
   "source": [
    "### Get a sub-tensor of a tensor using slicing or indexlists"
   ]
  },
  {
   "cell_type": "code",
   "execution_count": 89,
   "metadata": {},
   "outputs": [
    {
     "data": {
      "text/plain": [
       "array([0], dtype=int64)"
      ]
     },
     "execution_count": 89,
     "metadata": {},
     "output_type": "execute_result"
    }
   ],
   "source": [
    "A = np.array([0, 1, 2, 3, 4, 5], dtype='int64')\n",
    "B=A[0:1] # slicing\n",
    "B"
   ]
  },
  {
   "cell_type": "code",
   "execution_count": 90,
   "metadata": {},
   "outputs": [
    {
     "data": {
      "text/plain": [
       "array([100,   1,   2,   3,   4,   5], dtype=int64)"
      ]
     },
     "execution_count": 90,
     "metadata": {},
     "output_type": "execute_result"
    }
   ],
   "source": [
    "B[0]=100\n",
    "A"
   ]
  },
  {
   "cell_type": "code",
   "execution_count": 91,
   "metadata": {},
   "outputs": [],
   "source": [
    "A = np.array([0, 1, 2, 3, 4, 5], dtype='int64')\n",
    "IndexList=[0]\n",
    "B = A[IndexList]"
   ]
  },
  {
   "cell_type": "code",
   "execution_count": 92,
   "metadata": {},
   "outputs": [
    {
     "data": {
      "text/plain": [
       "array([0, 1, 2, 3, 4, 5], dtype=int64)"
      ]
     },
     "execution_count": 92,
     "metadata": {},
     "output_type": "execute_result"
    }
   ],
   "source": [
    "B[0] = 100\n",
    "A"
   ]
  },
  {
   "cell_type": "markdown",
   "metadata": {},
   "source": [
    "### Concatenate more than two tensors into one tensor"
   ]
  },
  {
   "cell_type": "code",
   "execution_count": 93,
   "metadata": {},
   "outputs": [
    {
     "data": {
      "text/plain": [
       "array([[ 1,  2,  3,  4],\n",
       "       [ 3,  4,  5,  6],\n",
       "       [ 5,  6,  7,  8],\n",
       "       [ 7,  8,  9, 10],\n",
       "       [ 8,  9, 10, 11]])"
      ]
     },
     "execution_count": 93,
     "metadata": {},
     "output_type": "execute_result"
    }
   ],
   "source": [
    "x1 = np.array([ [1, 2,  3, 4], \n",
    "                [3, 4, 5, 6] ])\n",
    "x2 = np.array([ [5, 6, 7, 8],  \n",
    "                [7, 8, 9, 10],\n",
    "                [8, 9, 10, 11] ])\n",
    "x3=np.concatenate([x1,x2], axis=0)\n",
    "x3"
   ]
  },
  {
   "cell_type": "code",
   "execution_count": 94,
   "metadata": {},
   "outputs": [
    {
     "data": {
      "text/plain": [
       "array([[ 1,  2,  3,  4],\n",
       "       [ 3,  4,  5,  6],\n",
       "       [ 5,  6,  7,  8],\n",
       "       [ 7,  8,  9, 10],\n",
       "       [ 8,  9, 10, 11],\n",
       "       [ 1,  2,  3,  4],\n",
       "       [ 3,  4,  5,  6],\n",
       "       [ 5,  6,  7,  8],\n",
       "       [ 7,  8,  9, 10],\n",
       "       [ 8,  9, 10, 11]])"
      ]
     },
     "execution_count": 94,
     "metadata": {},
     "output_type": "execute_result"
    }
   ],
   "source": [
    "x4=np.concatenate([x1,x2,x3], axis=0)\n",
    "x4"
   ]
  },
  {
   "cell_type": "markdown",
   "metadata": {},
   "source": [
    "### Aggregation functions"
   ]
  },
  {
   "cell_type": "code",
   "execution_count": 95,
   "metadata": {
    "scrolled": false
   },
   "outputs": [],
   "source": [
    "A1 = np.random.randn(1000)"
   ]
  },
  {
   "cell_type": "code",
   "execution_count": 96,
   "metadata": {},
   "outputs": [
    {
     "data": {
      "text/plain": [
       "0.024460097100026668"
      ]
     },
     "execution_count": 96,
     "metadata": {},
     "output_type": "execute_result"
    }
   ],
   "source": [
    "A1.mean()"
   ]
  },
  {
   "cell_type": "code",
   "execution_count": 97,
   "metadata": {},
   "outputs": [
    {
     "data": {
      "text/plain": [
       "1.043079859108461"
      ]
     },
     "execution_count": 97,
     "metadata": {},
     "output_type": "execute_result"
    }
   ],
   "source": [
    "A1.std()"
   ]
  },
  {
   "cell_type": "code",
   "execution_count": 98,
   "metadata": {},
   "outputs": [
    {
     "data": {
      "text/plain": [
       "24.46009710002667"
      ]
     },
     "execution_count": 98,
     "metadata": {},
     "output_type": "execute_result"
    }
   ],
   "source": [
    "A1.sum()"
   ]
  },
  {
   "cell_type": "code",
   "execution_count": 99,
   "metadata": {},
   "outputs": [
    {
     "data": {
      "text/plain": [
       "array([[0.15256262, 0.62855697],\n",
       "       [0.78833643, 0.76083212],\n",
       "       [0.62929193, 0.45724506],\n",
       "       [0.02228608, 0.85704838],\n",
       "       [0.54820414, 0.6046921 ],\n",
       "       [0.0669048 , 0.94526612],\n",
       "       [0.12771791, 0.99174122],\n",
       "       [0.1350068 , 0.72381019],\n",
       "       [0.18527458, 0.51072915],\n",
       "       [0.56235501, 0.86847362]])"
      ]
     },
     "execution_count": 99,
     "metadata": {},
     "output_type": "execute_result"
    }
   ],
   "source": [
    "A2 = np.random.rand(10, 2)\n",
    "A2"
   ]
  },
  {
   "cell_type": "code",
   "execution_count": 100,
   "metadata": {},
   "outputs": [
    {
     "data": {
      "text/plain": [
       "array([3.2179403 , 7.34839493])"
      ]
     },
     "execution_count": 100,
     "metadata": {},
     "output_type": "execute_result"
    }
   ],
   "source": [
    "A2.sum(axis=0)"
   ]
  },
  {
   "cell_type": "code",
   "execution_count": 101,
   "metadata": {},
   "outputs": [
    {
     "data": {
      "text/plain": [
       "array([0.78111959, 1.54916855, 1.086537  , 0.87933445, 1.15289624,\n",
       "       1.01217092, 1.11945912, 0.85881698, 0.69600374, 1.43082863])"
      ]
     },
     "execution_count": 101,
     "metadata": {},
     "output_type": "execute_result"
    }
   ],
   "source": [
    "A2.sum(axis=1)"
   ]
  },
  {
   "cell_type": "code",
   "execution_count": 102,
   "metadata": {},
   "outputs": [
    {
     "data": {
      "text/plain": [
       "array([0.02228608, 0.45724506])"
      ]
     },
     "execution_count": 102,
     "metadata": {},
     "output_type": "execute_result"
    }
   ],
   "source": [
    "A2.min(axis=0)"
   ]
  },
  {
   "cell_type": "code",
   "execution_count": 103,
   "metadata": {},
   "outputs": [
    {
     "data": {
      "text/plain": [
       "array([0.78833643, 0.99174122])"
      ]
     },
     "execution_count": 103,
     "metadata": {},
     "output_type": "execute_result"
    }
   ],
   "source": [
    "A2.max(axis=0)"
   ]
  },
  {
   "cell_type": "markdown",
   "metadata": {},
   "source": [
    "what is A.sum(axis=m) ?"
   ]
  },
  {
   "cell_type": "code",
   "execution_count": 4,
   "metadata": {},
   "outputs": [
    {
     "data": {
      "text/plain": [
       "(4, 3, 2)"
      ]
     },
     "execution_count": 4,
     "metadata": {},
     "output_type": "execute_result"
    }
   ],
   "source": [
    "A=np.random.rand(4,3,2)\n",
    "A.shape"
   ]
  },
  {
   "cell_type": "code",
   "execution_count": 12,
   "metadata": {},
   "outputs": [
    {
     "data": {
      "text/plain": [
       "array([[[0.2577545 , 0.6775452 ],\n",
       "        [0.82944366, 0.41433448],\n",
       "        [0.40195405, 0.56211843]],\n",
       "\n",
       "       [[0.3827123 , 0.73247428],\n",
       "        [0.71064589, 0.91077745],\n",
       "        [0.98860965, 0.50062854]],\n",
       "\n",
       "       [[0.3100307 , 0.60454791],\n",
       "        [0.5164631 , 0.11461095],\n",
       "        [0.10330168, 0.73710976]],\n",
       "\n",
       "       [[0.06672872, 0.23378279],\n",
       "        [0.78733318, 0.48678932],\n",
       "        [0.79291931, 0.07358404]]])"
      ]
     },
     "execution_count": 12,
     "metadata": {},
     "output_type": "execute_result"
    }
   ],
   "source": [
    "A"
   ]
  },
  {
   "cell_type": "code",
   "execution_count": 6,
   "metadata": {},
   "outputs": [
    {
     "data": {
      "text/plain": [
       "(4, 3)"
      ]
     },
     "execution_count": 6,
     "metadata": {},
     "output_type": "execute_result"
    }
   ],
   "source": [
    "A0=A[:,:,0]\n",
    "A0.shape"
   ]
  },
  {
   "cell_type": "code",
   "execution_count": 7,
   "metadata": {},
   "outputs": [
    {
     "data": {
      "text/plain": [
       "(4, 3)"
      ]
     },
     "execution_count": 7,
     "metadata": {},
     "output_type": "execute_result"
    }
   ],
   "source": [
    "A1=A[:,:,1]\n",
    "A1.shape"
   ]
  },
  {
   "cell_type": "code",
   "execution_count": 11,
   "metadata": {},
   "outputs": [
    {
     "data": {
      "text/plain": [
       "array([[0.93529969, 1.24377814, 0.96407248],\n",
       "       [1.11518658, 1.62142335, 1.48923818],\n",
       "       [0.91457861, 0.63107406, 0.84041144],\n",
       "       [0.30051152, 1.2741225 , 0.86650336]])"
      ]
     },
     "execution_count": 11,
     "metadata": {},
     "output_type": "execute_result"
    }
   ],
   "source": [
    "A0+A1"
   ]
  },
  {
   "cell_type": "code",
   "execution_count": 10,
   "metadata": {},
   "outputs": [
    {
     "data": {
      "text/plain": [
       "array([[0.93529969, 1.24377814, 0.96407248],\n",
       "       [1.11518658, 1.62142335, 1.48923818],\n",
       "       [0.91457861, 0.63107406, 0.84041144],\n",
       "       [0.30051152, 1.2741225 , 0.86650336]])"
      ]
     },
     "execution_count": 10,
     "metadata": {},
     "output_type": "execute_result"
    }
   ],
   "source": [
    "B=A.sum(axis=2)\n",
    "B"
   ]
  },
  {
   "cell_type": "code",
   "execution_count": 14,
   "metadata": {},
   "outputs": [
    {
     "data": {
      "text/plain": [
       "array([[[0.10990821, 0.9564406 ],\n",
       "        [1.83171861, 0.67761678],\n",
       "        [1.66174763, 2.1739255 ],\n",
       "        [1.99197754, 1.59737959]],\n",
       "\n",
       "       [[1.04457036, 0.37310588],\n",
       "        [1.36428384, 0.84837124],\n",
       "        [2.10757713, 1.40686382],\n",
       "        [1.49144364, 0.52020307]],\n",
       "\n",
       "       [[2.19610034, 1.59821925],\n",
       "        [1.86032926, 0.62209634],\n",
       "        [0.80530882, 1.29792643],\n",
       "        [1.50469686, 0.85136183]],\n",
       "\n",
       "       [[1.56749584, 1.28622807],\n",
       "        [2.54104803, 1.75864876],\n",
       "        [2.23429904, 1.37144789],\n",
       "        [1.00290811, 1.59738086]],\n",
       "\n",
       "       [[1.35532336, 1.77883428],\n",
       "        [0.69710288, 1.76804955],\n",
       "        [2.17529211, 2.39599074],\n",
       "        [1.33279103, 1.53098648]]])"
      ]
     },
     "execution_count": 14,
     "metadata": {},
     "output_type": "execute_result"
    }
   ],
   "source": [
    "n0=5; n1=4; n2=3; n3=2\n",
    "A = np.random.rand(5, 4, 3, 2)\n",
    "A.sum(axis=2) "
   ]
  },
  {
   "cell_type": "code",
   "execution_count": 15,
   "metadata": {},
   "outputs": [
    {
     "data": {
      "text/plain": [
       "array([[[0.10990821, 0.9564406 ],\n",
       "        [1.83171861, 0.67761678],\n",
       "        [1.66174763, 2.1739255 ],\n",
       "        [1.99197754, 1.59737959]],\n",
       "\n",
       "       [[1.04457036, 0.37310588],\n",
       "        [1.36428384, 0.84837124],\n",
       "        [2.10757713, 1.40686382],\n",
       "        [1.49144364, 0.52020307]],\n",
       "\n",
       "       [[2.19610034, 1.59821925],\n",
       "        [1.86032926, 0.62209634],\n",
       "        [0.80530882, 1.29792643],\n",
       "        [1.50469686, 0.85136183]],\n",
       "\n",
       "       [[1.56749584, 1.28622807],\n",
       "        [2.54104803, 1.75864876],\n",
       "        [2.23429904, 1.37144789],\n",
       "        [1.00290811, 1.59738086]],\n",
       "\n",
       "       [[1.35532336, 1.77883428],\n",
       "        [0.69710288, 1.76804955],\n",
       "        [2.17529211, 2.39599074],\n",
       "        [1.33279103, 1.53098648]]])"
      ]
     },
     "execution_count": 15,
     "metadata": {},
     "output_type": "execute_result"
    }
   ],
   "source": [
    "B=np.zeros((n0, n1,n3))\n",
    "for m in range(0, n2):\n",
    "     B+=A[:, :, m]\n",
    "B"
   ]
  },
  {
   "cell_type": "markdown",
   "metadata": {},
   "source": [
    "### Basic Math Operations (+ - * ** /)"
   ]
  },
  {
   "cell_type": "code",
   "execution_count": 104,
   "metadata": {},
   "outputs": [
    {
     "data": {
      "text/plain": [
       "array([[10., 11., 12.],\n",
       "       [13., 14., 15.]], dtype=float32)"
      ]
     },
     "execution_count": 104,
     "metadata": {},
     "output_type": "execute_result"
    }
   ],
   "source": [
    "A = np.array([[0, 1, 2], \n",
    "              [3, 4, 5]], dtype='float32')\n",
    "B=A+10\n",
    "B"
   ]
  },
  {
   "cell_type": "code",
   "execution_count": 105,
   "metadata": {},
   "outputs": [
    {
     "data": {
      "text/plain": [
       "array([[ 0., 10., 20.],\n",
       "       [30., 40., 50.]], dtype=float32)"
      ]
     },
     "execution_count": 105,
     "metadata": {},
     "output_type": "execute_result"
    }
   ],
   "source": [
    "A = np.array([[0, 1, 2], \n",
    "              [3, 4, 5]], dtype='float32')\n",
    "B=A*10\n",
    "B"
   ]
  },
  {
   "cell_type": "code",
   "execution_count": 106,
   "metadata": {},
   "outputs": [
    {
     "data": {
      "text/plain": [
       "array([[0. , 0.1, 0.2],\n",
       "       [0.3, 0.4, 0.5]], dtype=float32)"
      ]
     },
     "execution_count": 106,
     "metadata": {},
     "output_type": "execute_result"
    }
   ],
   "source": [
    "A = np.array([[0, 1, 2], \n",
    "              [3, 4, 5]], dtype='float32')\n",
    "B=A/10\n",
    "B"
   ]
  },
  {
   "cell_type": "code",
   "execution_count": 107,
   "metadata": {},
   "outputs": [
    {
     "data": {
      "text/plain": [
       "array([[1., 2., 3.],\n",
       "       [5., 6., 7.]])"
      ]
     },
     "execution_count": 107,
     "metadata": {},
     "output_type": "execute_result"
    }
   ],
   "source": [
    "A = np.array([[0, 1, 2], \n",
    "              [3, 4, 5]], dtype='float32')\n",
    "B = np.array([[1, 1, 1], \n",
    "              [2, 2, 2]], dtype='int64')\n",
    "C=A+B\n",
    "C"
   ]
  },
  {
   "cell_type": "code",
   "execution_count": 108,
   "metadata": {},
   "outputs": [
    {
     "data": {
      "text/plain": [
       "dtype('float64')"
      ]
     },
     "execution_count": 108,
     "metadata": {},
     "output_type": "execute_result"
    }
   ],
   "source": [
    "C.dtype"
   ]
  },
  {
   "cell_type": "code",
   "execution_count": 109,
   "metadata": {},
   "outputs": [
    {
     "data": {
      "text/plain": [
       "array([[-1.,  0.,  1.],\n",
       "       [ 1.,  2.,  3.]], dtype=float32)"
      ]
     },
     "execution_count": 109,
     "metadata": {},
     "output_type": "execute_result"
    }
   ],
   "source": [
    "A = np.array([[0, 1, 2], \n",
    "              [3, 4, 5]], dtype='float32')\n",
    "B = np.array([[1, 1, 1], \n",
    "              [2, 2, 2]], dtype='float32')\n",
    "A-B"
   ]
  },
  {
   "cell_type": "code",
   "execution_count": 110,
   "metadata": {},
   "outputs": [
    {
     "data": {
      "text/plain": [
       "array([[ 0.,  1.,  2.],\n",
       "       [ 6.,  8., 10.]], dtype=float32)"
      ]
     },
     "execution_count": 110,
     "metadata": {},
     "output_type": "execute_result"
    }
   ],
   "source": [
    "A = np.array([[0, 1, 2], \n",
    "              [3, 4, 5]], dtype='float32')\n",
    "B = np.array([[1, 1, 1], \n",
    "              [2, 2, 2]], dtype='float32')\n",
    "A*B"
   ]
  },
  {
   "cell_type": "markdown",
   "metadata": {},
   "source": [
    "matrix multiplication"
   ]
  },
  {
   "cell_type": "code",
   "execution_count": 111,
   "metadata": {},
   "outputs": [],
   "source": [
    "A=np.random.rand(3,10)\n",
    "B=np.random.rand(10,3)\n",
    "#C=A*B"
   ]
  },
  {
   "cell_type": "code",
   "execution_count": 112,
   "metadata": {},
   "outputs": [
    {
     "data": {
      "text/plain": [
       "array([[1.93532563, 3.70058815, 3.18056971],\n",
       "       [1.15452827, 1.94178877, 1.56252871],\n",
       "       [1.44062307, 2.05237856, 2.36868755]])"
      ]
     },
     "execution_count": 112,
     "metadata": {},
     "output_type": "execute_result"
    }
   ],
   "source": [
    "A=np.random.rand(3,10)\n",
    "B=np.random.rand(10,3)\n",
    "C=np.matmul(A, B) # or C=np.dot(A,B)\n",
    "C"
   ]
  },
  {
   "cell_type": "markdown",
   "metadata": {},
   "source": [
    "matrix inverse"
   ]
  },
  {
   "cell_type": "code",
   "execution_count": 13,
   "metadata": {},
   "outputs": [
    {
     "data": {
      "text/plain": [
       "array([[ 1.        , -2.        ,  1.        ],\n",
       "       [-2.        ,  1.33333333, -0.33333333],\n",
       "       [ 1.        ,  0.33333333, -0.33333333]])"
      ]
     },
     "execution_count": 13,
     "metadata": {},
     "output_type": "execute_result"
    }
   ],
   "source": [
    "A = np.array([[1, 1, 2], \n",
    "              [3, 4, 5],\n",
    "              [6, 7, 8]], dtype='float64')\n",
    "B = np.linalg.inv(A)\n",
    "B"
   ]
  },
  {
   "cell_type": "markdown",
   "metadata": {},
   "source": [
    "### Broadcasting"
   ]
  },
  {
   "cell_type": "code",
   "execution_count": 113,
   "metadata": {},
   "outputs": [
    {
     "data": {
      "text/plain": [
       "array([1, 2, 3, 4])"
      ]
     },
     "execution_count": 113,
     "metadata": {},
     "output_type": "execute_result"
    }
   ],
   "source": [
    "A=np.array([0, 1,2,3])\n",
    "B=1\n",
    "A+B"
   ]
  },
  {
   "cell_type": "code",
   "execution_count": 114,
   "metadata": {},
   "outputs": [
    {
     "data": {
      "text/plain": [
       "array([[ 0,  1,  2],\n",
       "       [10, 11, 12],\n",
       "       [30, 31, 32]])"
      ]
     },
     "execution_count": 114,
     "metadata": {},
     "output_type": "execute_result"
    }
   ],
   "source": [
    "A = np.array([ [0,   0,   0], \n",
    "               [10, 10, 10],\n",
    "               [30, 30, 30]])\n",
    "B = np.array([[0, 1, 2]])\n",
    "C = A + B\n",
    "C"
   ]
  },
  {
   "cell_type": "code",
   "execution_count": 115,
   "metadata": {},
   "outputs": [
    {
     "data": {
      "text/plain": [
       "(3, 3)"
      ]
     },
     "execution_count": 115,
     "metadata": {},
     "output_type": "execute_result"
    }
   ],
   "source": [
    "A.shape"
   ]
  },
  {
   "cell_type": "code",
   "execution_count": 116,
   "metadata": {},
   "outputs": [
    {
     "data": {
      "text/plain": [
       "(1, 3)"
      ]
     },
     "execution_count": 116,
     "metadata": {},
     "output_type": "execute_result"
    }
   ],
   "source": [
    "B.shape"
   ]
  },
  {
   "cell_type": "markdown",
   "metadata": {},
   "source": [
    "### save a tensor to hard drive, and load a tensor from hard drive"
   ]
  },
  {
   "cell_type": "code",
   "execution_count": 117,
   "metadata": {},
   "outputs": [],
   "source": [
    "A = np.array([0, 1, 2, 3, 4, 5, 6, 7, 8, 9], dtype='int32')\n",
    "np.save('array_A.npy',A)"
   ]
  },
  {
   "cell_type": "markdown",
   "metadata": {},
   "source": [
    "load the tensor A from hard drive"
   ]
  },
  {
   "cell_type": "code",
   "execution_count": 118,
   "metadata": {},
   "outputs": [
    {
     "data": {
      "text/plain": [
       "array([0, 1, 2, 3, 4, 5, 6, 7, 8, 9])"
      ]
     },
     "execution_count": 118,
     "metadata": {},
     "output_type": "execute_result"
    }
   ],
   "source": [
    "A1 = np.load('array_A.npy')\n",
    "A1"
   ]
  },
  {
   "cell_type": "markdown",
   "metadata": {},
   "source": [
    "### Example: calculate the distances between points in array A and a single point B in 3D space"
   ]
  },
  {
   "cell_type": "code",
   "execution_count": 119,
   "metadata": {},
   "outputs": [],
   "source": [
    "A = np.array([[0, 0, 0],\n",
    "              [1, 0, 0],\n",
    "              [0, 1, 0],\n",
    "              [1, 1, 0],\n",
    "              [0, 0, 1],\n",
    "              [1, 0, 1],\n",
    "              [0, 1, 1],\n",
    "              [1, 1, 1]],\n",
    "dtype='float64')\n",
    "B = np.array([2, 2, 2], dtype='float64')"
   ]
  },
  {
   "cell_type": "code",
   "execution_count": 120,
   "metadata": {},
   "outputs": [
    {
     "data": {
      "text/plain": [
       "array([3.46410162, 3.        , 3.        , 2.44948974, 3.        ,\n",
       "       2.44948974, 2.44948974, 1.73205081])"
      ]
     },
     "execution_count": 120,
     "metadata": {},
     "output_type": "execute_result"
    }
   ],
   "source": [
    "#use a for loop\n",
    "dist = np.zeros(8, dtype='float64')\n",
    "for n in range(0, 8):\n",
    "    d = A[n,:] - B # displacement\n",
    "    dist[n] = np.sqrt(np.sum(d**2))\n",
    "dist"
   ]
  },
  {
   "cell_type": "code",
   "execution_count": 121,
   "metadata": {},
   "outputs": [
    {
     "data": {
      "text/plain": [
       "array([3.46410162, 3.        , 3.        , 2.44948974, 3.        ,\n",
       "       2.44948974, 2.44948974, 1.73205081])"
      ]
     },
     "execution_count": 121,
     "metadata": {},
     "output_type": "execute_result"
    }
   ],
   "source": [
    "#two lines of code\n",
    "D = A - B\n",
    "dist = np.sqrt(np.sum(D**2, axis=1))\n",
    "dist"
   ]
  },
  {
   "cell_type": "markdown",
   "metadata": {},
   "source": [
    "### get a list of methods using the function dir"
   ]
  },
  {
   "cell_type": "code",
   "execution_count": 122,
   "metadata": {},
   "outputs": [
    {
     "data": {
      "text/plain": [
       "['T',\n",
       " '__abs__',\n",
       " '__add__',\n",
       " '__and__',\n",
       " '__array__',\n",
       " '__array_finalize__',\n",
       " '__array_interface__',\n",
       " '__array_prepare__',\n",
       " '__array_priority__',\n",
       " '__array_struct__',\n",
       " '__array_ufunc__',\n",
       " '__array_wrap__',\n",
       " '__bool__',\n",
       " '__class__',\n",
       " '__complex__',\n",
       " '__contains__',\n",
       " '__copy__',\n",
       " '__deepcopy__',\n",
       " '__delattr__',\n",
       " '__delitem__',\n",
       " '__dir__',\n",
       " '__divmod__',\n",
       " '__doc__',\n",
       " '__eq__',\n",
       " '__float__',\n",
       " '__floordiv__',\n",
       " '__format__',\n",
       " '__ge__',\n",
       " '__getattribute__',\n",
       " '__getitem__',\n",
       " '__gt__',\n",
       " '__hash__',\n",
       " '__iadd__',\n",
       " '__iand__',\n",
       " '__ifloordiv__',\n",
       " '__ilshift__',\n",
       " '__imatmul__',\n",
       " '__imod__',\n",
       " '__imul__',\n",
       " '__index__',\n",
       " '__init__',\n",
       " '__init_subclass__',\n",
       " '__int__',\n",
       " '__invert__',\n",
       " '__ior__',\n",
       " '__ipow__',\n",
       " '__irshift__',\n",
       " '__isub__',\n",
       " '__iter__',\n",
       " '__itruediv__',\n",
       " '__ixor__',\n",
       " '__le__',\n",
       " '__len__',\n",
       " '__lshift__',\n",
       " '__lt__',\n",
       " '__matmul__',\n",
       " '__mod__',\n",
       " '__mul__',\n",
       " '__ne__',\n",
       " '__neg__',\n",
       " '__new__',\n",
       " '__or__',\n",
       " '__pos__',\n",
       " '__pow__',\n",
       " '__radd__',\n",
       " '__rand__',\n",
       " '__rdivmod__',\n",
       " '__reduce__',\n",
       " '__reduce_ex__',\n",
       " '__repr__',\n",
       " '__rfloordiv__',\n",
       " '__rlshift__',\n",
       " '__rmatmul__',\n",
       " '__rmod__',\n",
       " '__rmul__',\n",
       " '__ror__',\n",
       " '__rpow__',\n",
       " '__rrshift__',\n",
       " '__rshift__',\n",
       " '__rsub__',\n",
       " '__rtruediv__',\n",
       " '__rxor__',\n",
       " '__setattr__',\n",
       " '__setitem__',\n",
       " '__setstate__',\n",
       " '__sizeof__',\n",
       " '__str__',\n",
       " '__sub__',\n",
       " '__subclasshook__',\n",
       " '__truediv__',\n",
       " '__xor__',\n",
       " 'all',\n",
       " 'any',\n",
       " 'argmax',\n",
       " 'argmin',\n",
       " 'argpartition',\n",
       " 'argsort',\n",
       " 'astype',\n",
       " 'base',\n",
       " 'byteswap',\n",
       " 'choose',\n",
       " 'clip',\n",
       " 'compress',\n",
       " 'conj',\n",
       " 'conjugate',\n",
       " 'copy',\n",
       " 'ctypes',\n",
       " 'cumprod',\n",
       " 'cumsum',\n",
       " 'data',\n",
       " 'diagonal',\n",
       " 'dot',\n",
       " 'dtype',\n",
       " 'dump',\n",
       " 'dumps',\n",
       " 'fill',\n",
       " 'flags',\n",
       " 'flat',\n",
       " 'flatten',\n",
       " 'getfield',\n",
       " 'imag',\n",
       " 'item',\n",
       " 'itemset',\n",
       " 'itemsize',\n",
       " 'max',\n",
       " 'mean',\n",
       " 'min',\n",
       " 'nbytes',\n",
       " 'ndim',\n",
       " 'newbyteorder',\n",
       " 'nonzero',\n",
       " 'partition',\n",
       " 'prod',\n",
       " 'ptp',\n",
       " 'put',\n",
       " 'ravel',\n",
       " 'real',\n",
       " 'repeat',\n",
       " 'reshape',\n",
       " 'resize',\n",
       " 'round',\n",
       " 'searchsorted',\n",
       " 'setfield',\n",
       " 'setflags',\n",
       " 'shape',\n",
       " 'size',\n",
       " 'sort',\n",
       " 'squeeze',\n",
       " 'std',\n",
       " 'strides',\n",
       " 'sum',\n",
       " 'swapaxes',\n",
       " 'take',\n",
       " 'tobytes',\n",
       " 'tofile',\n",
       " 'tolist',\n",
       " 'tostring',\n",
       " 'trace',\n",
       " 'transpose',\n",
       " 'var',\n",
       " 'view']"
      ]
     },
     "execution_count": 122,
     "metadata": {},
     "output_type": "execute_result"
    }
   ],
   "source": [
    "dir(A)"
   ]
  },
  {
   "cell_type": "markdown",
   "metadata": {},
   "source": [
    "more information about the methods can be found at <br> https://docs.scipy.org/doc/numpy/reference/routines.html"
   ]
  },
  {
   "cell_type": "markdown",
   "metadata": {},
   "source": [
    "### Exercise-1"
   ]
  },
  {
   "cell_type": "markdown",
   "metadata": {},
   "source": [
    "Implement a function according to the specification:\n",
    "```python\n",
    "def my_function(x, w, b):\n",
    "    # parameters:\n",
    "    #   x is a 1D tensor, and the number of elements is an even number\n",
    "    #   w is a 1D tensor, w.shape[0] is x.shape[0]/2\n",
    "    #   b is a scalar\n",
    "    # specification:\n",
    "    #   extract the elements in x at even indexes (0, 2, 4, ...) \n",
    "    #   put the extracted elements into a new tensor x1\n",
    "    #   perform element-wise multiplication between x1 and w, and we get a new tensor x2\n",
    "    #   add b to every element of the tensor x2, and then we get a new tensor x3\n",
    "    #   return x3\n",
    "```\n",
    "\n",
    "A test case: <br>\n",
    "x = np.array([0,1,2,3,4,5,6,7,8,9], dtype='float32') <br>\n",
    "w = np.array([0,1,2,3,4], dtype='float32')  <br>\n",
    "b = 10  <br>\n",
    "y = my_function(x, w, b)  <br>\n",
    "y is array([10., 12., 18., 28., 42.], dtype=float32) <br>"
   ]
  },
  {
   "cell_type": "code",
   "execution_count": 132,
   "metadata": {},
   "outputs": [],
   "source": [
    "#write the function using loop\n",
    "def my_function(x, w, b):    \n",
    "    x1 = []\n",
    "    for n in range(0, x.shape[0], 2):\n",
    "        x1.append(x[n])\n",
    "    x1=np.array(x1, dtype=x.dtype)\n",
    "    x2=np.zeros(x1.shape, dtype=x.dtype)\n",
    "    for n in range(0, x1.shape[0]):\n",
    "        x2[n]=x1[n]*w[n]\n",
    "    x3=np.zeros(x2.shape, dtype=x.dtype)\n",
    "    for n in range(0, x2.shape[0]):\n",
    "        x3[n]=x2[n]+b    \n",
    "    return x3"
   ]
  },
  {
   "cell_type": "code",
   "execution_count": null,
   "metadata": {},
   "outputs": [],
   "source": [
    "#write the function using vectorized operations\n",
    "def my_function(x, w, b):    \n",
    "    x1 = x[0:x.shape[0]:2]\n",
    "    x2 = x1*w\n",
    "    x3 = x2+b\n",
    "    return x3"
   ]
  },
  {
   "cell_type": "code",
   "execution_count": 133,
   "metadata": {},
   "outputs": [
    {
     "data": {
      "text/plain": [
       "array([10., 12., 18., 28., 42.], dtype=float32)"
      ]
     },
     "execution_count": 133,
     "metadata": {},
     "output_type": "execute_result"
    }
   ],
   "source": [
    "#test the function\n",
    "x = np.array([0,1,2,3,4,5,6,7,8,9], dtype='float32') \n",
    "w = np.array([0,1,2,3,4], dtype='float32') \n",
    "b = 10\n",
    "y = my_function(x, w, b)\n",
    "y"
   ]
  },
  {
   "cell_type": "markdown",
   "metadata": {},
   "source": [
    "### Exercise-2"
   ]
  },
  {
   "cell_type": "markdown",
   "metadata": {},
   "source": [
    "We have a data matrix `X`. Each row of `X` is a data point <br>\n",
    "Then we need to do some pre-precessing <br>\n",
    "(1) compute the sample mean `x_mean`, which can be done using the aggregation function `mean` <br>\n",
    "(2) subtract the sample mean from each data sample/point, which can be done using Broadcasting"
   ]
  },
  {
   "cell_type": "code",
   "execution_count": 3,
   "metadata": {},
   "outputs": [
    {
     "data": {
      "text/plain": [
       "dtype('float64')"
      ]
     },
     "execution_count": 3,
     "metadata": {},
     "output_type": "execute_result"
    }
   ],
   "source": [
    "X=np.random.rand(100,2)\n",
    "X.dtype"
   ]
  },
  {
   "cell_type": "code",
   "execution_count": 4,
   "metadata": {},
   "outputs": [
    {
     "data": {
      "text/plain": [
       "array([0.51916921, 0.45188632])"
      ]
     },
     "execution_count": 4,
     "metadata": {},
     "output_type": "execute_result"
    }
   ],
   "source": [
    "# use a loop to get x_mean\n",
    "x_mean=np.zeros(2)\n",
    "for n in range(0, X.shape[0]):\n",
    "    x_mean+=X[n]\n",
    "x_mean/= X.shape[0]   \n",
    "x_mean"
   ]
  },
  {
   "cell_type": "code",
   "execution_count": 5,
   "metadata": {},
   "outputs": [
    {
     "data": {
      "text/plain": [
       "array([0.51916921, 0.45188632])"
      ]
     },
     "execution_count": 5,
     "metadata": {},
     "output_type": "execute_result"
    }
   ],
   "source": [
    "x_mean=X.mean(axis=0)\n",
    "x_mean"
   ]
  },
  {
   "cell_type": "code",
   "execution_count": 128,
   "metadata": {},
   "outputs": [
    {
     "data": {
      "text/plain": [
       "(2,)"
      ]
     },
     "execution_count": 128,
     "metadata": {},
     "output_type": "execute_result"
    }
   ],
   "source": [
    "x_mean.shape"
   ]
  },
  {
   "cell_type": "code",
   "execution_count": 8,
   "metadata": {},
   "outputs": [],
   "source": [
    "# use a loop to subtract the sample mean from each data sample\n",
    "Xnew=np.zeros((100,2))\n",
    "for n in range(0, X.shape[0]):\n",
    "    Xnew[n]=X[n]-x_mean"
   ]
  },
  {
   "cell_type": "code",
   "execution_count": 9,
   "metadata": {
    "scrolled": true
   },
   "outputs": [
    {
     "data": {
      "text/plain": [
       "array([[-0.03637546, -0.09349182],\n",
       "       [-0.49851561, -0.19059958],\n",
       "       [-0.1050614 ,  0.33787874],\n",
       "       [-0.05744641, -0.12909054],\n",
       "       [-0.11730627, -0.04618642],\n",
       "       [-0.04385928, -0.34036383],\n",
       "       [-0.02184157,  0.49953818],\n",
       "       [ 0.41718346, -0.40505436],\n",
       "       [-0.00196589,  0.25260943],\n",
       "       [ 0.14834006,  0.18473643],\n",
       "       [-0.09822371,  0.4652261 ],\n",
       "       [ 0.40468536, -0.41210976],\n",
       "       [-0.40725373,  0.21536563],\n",
       "       [ 0.44684288, -0.28552443],\n",
       "       [-0.33097827, -0.07505861],\n",
       "       [-0.11726467, -0.07181762],\n",
       "       [-0.17679923,  0.25547174],\n",
       "       [ 0.05064533, -0.33721562],\n",
       "       [ 0.1765935 ,  0.12408092],\n",
       "       [ 0.18124029, -0.11028713],\n",
       "       [-0.1890061 , -0.13249106],\n",
       "       [-0.05311119, -0.35554805],\n",
       "       [-0.20731589, -0.34630876],\n",
       "       [-0.4234858 ,  0.38175862],\n",
       "       [-0.50984596,  0.23080925],\n",
       "       [-0.20599188,  0.12093412],\n",
       "       [-0.16914825, -0.33927613],\n",
       "       [-0.17942687,  0.0801232 ],\n",
       "       [-0.48268236, -0.33961465],\n",
       "       [-0.35396093, -0.08587248],\n",
       "       [ 0.37569338,  0.37382157],\n",
       "       [-0.40465604,  0.24071648],\n",
       "       [ 0.32996315, -0.02773824],\n",
       "       [ 0.40108063, -0.43310541],\n",
       "       [ 0.22537479, -0.29674567],\n",
       "       [-0.50109712, -0.2560033 ],\n",
       "       [ 0.02986639,  0.12255131],\n",
       "       [-0.15083652,  0.03391658],\n",
       "       [ 0.06843614, -0.43879272],\n",
       "       [ 0.36750245, -0.25267445],\n",
       "       [ 0.03118843,  0.09130649],\n",
       "       [-0.14441457, -0.24568767],\n",
       "       [ 0.20717576,  0.03996301],\n",
       "       [-0.18907947,  0.24484127],\n",
       "       [-0.48110492, -0.29761047],\n",
       "       [ 0.42926247, -0.22957198],\n",
       "       [ 0.16849155,  0.46841158],\n",
       "       [-0.1822707 , -0.3072415 ],\n",
       "       [-0.1910818 , -0.311755  ],\n",
       "       [-0.04918711, -0.30979259],\n",
       "       [ 0.3331778 , -0.0448752 ],\n",
       "       [ 0.43488015,  0.29386963],\n",
       "       [-0.37953779,  0.47315686],\n",
       "       [-0.12986083,  0.01195971],\n",
       "       [-0.37046462, -0.39684415],\n",
       "       [-0.12309509, -0.34483075],\n",
       "       [ 0.40554216, -0.03553786],\n",
       "       [-0.02995921,  0.44506068],\n",
       "       [ 0.0733614 ,  0.13509662],\n",
       "       [ 0.44018672, -0.03328529],\n",
       "       [ 0.182814  ,  0.19201372],\n",
       "       [ 0.26765105,  0.37151602],\n",
       "       [-0.36447392,  0.25928674],\n",
       "       [ 0.299196  ,  0.21571708],\n",
       "       [-0.12179008,  0.32249769],\n",
       "       [ 0.11449784,  0.3954373 ],\n",
       "       [ 0.00747545, -0.07276057],\n",
       "       [ 0.45812958, -0.38873408],\n",
       "       [-0.09590307,  0.0426187 ],\n",
       "       [ 0.12968026,  0.08367082],\n",
       "       [ 0.35260318, -0.09619692],\n",
       "       [-0.01982146, -0.13675445],\n",
       "       [ 0.45650311, -0.27125392],\n",
       "       [ 0.33301964, -0.33401328],\n",
       "       [-0.13191711, -0.15966099],\n",
       "       [ 0.00522608, -0.3248039 ],\n",
       "       [-0.09628286,  0.13253837],\n",
       "       [ 0.07134774,  0.11121645],\n",
       "       [-0.34012418,  0.52079083],\n",
       "       [ 0.47101923, -0.28812901],\n",
       "       [ 0.1405294 ,  0.50517218],\n",
       "       [-0.16748805,  0.1473571 ],\n",
       "       [ 0.13195414,  0.3014132 ],\n",
       "       [-0.44075041,  0.09142394],\n",
       "       [ 0.26554148,  0.49226785],\n",
       "       [ 0.42561965,  0.50746954],\n",
       "       [-0.32600858,  0.17429978],\n",
       "       [-0.46803568, -0.33635979],\n",
       "       [-0.18015795, -0.32530729],\n",
       "       [ 0.25089981,  0.18095491],\n",
       "       [ 0.10043173, -0.17991575],\n",
       "       [-0.04673845,  0.38967294],\n",
       "       [ 0.08233231, -0.18227929],\n",
       "       [-0.09998749,  0.3269857 ],\n",
       "       [ 0.10547571, -0.34891971],\n",
       "       [-0.29024697,  0.09279025],\n",
       "       [-0.22241644, -0.0407262 ],\n",
       "       [ 0.39953384,  0.26340573],\n",
       "       [-0.02674298, -0.38909525],\n",
       "       [ 0.35420271, -0.01080751]])"
      ]
     },
     "execution_count": 9,
     "metadata": {},
     "output_type": "execute_result"
    }
   ],
   "source": [
    "Xnew"
   ]
  },
  {
   "cell_type": "code",
   "execution_count": 10,
   "metadata": {},
   "outputs": [
    {
     "data": {
      "text/plain": [
       "(100, 2)"
      ]
     },
     "execution_count": 10,
     "metadata": {},
     "output_type": "execute_result"
    }
   ],
   "source": [
    "Xnew=X-x_mean\n",
    "Xnew.shape"
   ]
  },
  {
   "cell_type": "code",
   "execution_count": 11,
   "metadata": {},
   "outputs": [
    {
     "data": {
      "text/plain": [
       "array([[-0.03637546, -0.09349182],\n",
       "       [-0.49851561, -0.19059958],\n",
       "       [-0.1050614 ,  0.33787874],\n",
       "       [-0.05744641, -0.12909054],\n",
       "       [-0.11730627, -0.04618642],\n",
       "       [-0.04385928, -0.34036383],\n",
       "       [-0.02184157,  0.49953818],\n",
       "       [ 0.41718346, -0.40505436],\n",
       "       [-0.00196589,  0.25260943],\n",
       "       [ 0.14834006,  0.18473643],\n",
       "       [-0.09822371,  0.4652261 ],\n",
       "       [ 0.40468536, -0.41210976],\n",
       "       [-0.40725373,  0.21536563],\n",
       "       [ 0.44684288, -0.28552443],\n",
       "       [-0.33097827, -0.07505861],\n",
       "       [-0.11726467, -0.07181762],\n",
       "       [-0.17679923,  0.25547174],\n",
       "       [ 0.05064533, -0.33721562],\n",
       "       [ 0.1765935 ,  0.12408092],\n",
       "       [ 0.18124029, -0.11028713],\n",
       "       [-0.1890061 , -0.13249106],\n",
       "       [-0.05311119, -0.35554805],\n",
       "       [-0.20731589, -0.34630876],\n",
       "       [-0.4234858 ,  0.38175862],\n",
       "       [-0.50984596,  0.23080925],\n",
       "       [-0.20599188,  0.12093412],\n",
       "       [-0.16914825, -0.33927613],\n",
       "       [-0.17942687,  0.0801232 ],\n",
       "       [-0.48268236, -0.33961465],\n",
       "       [-0.35396093, -0.08587248],\n",
       "       [ 0.37569338,  0.37382157],\n",
       "       [-0.40465604,  0.24071648],\n",
       "       [ 0.32996315, -0.02773824],\n",
       "       [ 0.40108063, -0.43310541],\n",
       "       [ 0.22537479, -0.29674567],\n",
       "       [-0.50109712, -0.2560033 ],\n",
       "       [ 0.02986639,  0.12255131],\n",
       "       [-0.15083652,  0.03391658],\n",
       "       [ 0.06843614, -0.43879272],\n",
       "       [ 0.36750245, -0.25267445],\n",
       "       [ 0.03118843,  0.09130649],\n",
       "       [-0.14441457, -0.24568767],\n",
       "       [ 0.20717576,  0.03996301],\n",
       "       [-0.18907947,  0.24484127],\n",
       "       [-0.48110492, -0.29761047],\n",
       "       [ 0.42926247, -0.22957198],\n",
       "       [ 0.16849155,  0.46841158],\n",
       "       [-0.1822707 , -0.3072415 ],\n",
       "       [-0.1910818 , -0.311755  ],\n",
       "       [-0.04918711, -0.30979259],\n",
       "       [ 0.3331778 , -0.0448752 ],\n",
       "       [ 0.43488015,  0.29386963],\n",
       "       [-0.37953779,  0.47315686],\n",
       "       [-0.12986083,  0.01195971],\n",
       "       [-0.37046462, -0.39684415],\n",
       "       [-0.12309509, -0.34483075],\n",
       "       [ 0.40554216, -0.03553786],\n",
       "       [-0.02995921,  0.44506068],\n",
       "       [ 0.0733614 ,  0.13509662],\n",
       "       [ 0.44018672, -0.03328529],\n",
       "       [ 0.182814  ,  0.19201372],\n",
       "       [ 0.26765105,  0.37151602],\n",
       "       [-0.36447392,  0.25928674],\n",
       "       [ 0.299196  ,  0.21571708],\n",
       "       [-0.12179008,  0.32249769],\n",
       "       [ 0.11449784,  0.3954373 ],\n",
       "       [ 0.00747545, -0.07276057],\n",
       "       [ 0.45812958, -0.38873408],\n",
       "       [-0.09590307,  0.0426187 ],\n",
       "       [ 0.12968026,  0.08367082],\n",
       "       [ 0.35260318, -0.09619692],\n",
       "       [-0.01982146, -0.13675445],\n",
       "       [ 0.45650311, -0.27125392],\n",
       "       [ 0.33301964, -0.33401328],\n",
       "       [-0.13191711, -0.15966099],\n",
       "       [ 0.00522608, -0.3248039 ],\n",
       "       [-0.09628286,  0.13253837],\n",
       "       [ 0.07134774,  0.11121645],\n",
       "       [-0.34012418,  0.52079083],\n",
       "       [ 0.47101923, -0.28812901],\n",
       "       [ 0.1405294 ,  0.50517218],\n",
       "       [-0.16748805,  0.1473571 ],\n",
       "       [ 0.13195414,  0.3014132 ],\n",
       "       [-0.44075041,  0.09142394],\n",
       "       [ 0.26554148,  0.49226785],\n",
       "       [ 0.42561965,  0.50746954],\n",
       "       [-0.32600858,  0.17429978],\n",
       "       [-0.46803568, -0.33635979],\n",
       "       [-0.18015795, -0.32530729],\n",
       "       [ 0.25089981,  0.18095491],\n",
       "       [ 0.10043173, -0.17991575],\n",
       "       [-0.04673845,  0.38967294],\n",
       "       [ 0.08233231, -0.18227929],\n",
       "       [-0.09998749,  0.3269857 ],\n",
       "       [ 0.10547571, -0.34891971],\n",
       "       [-0.29024697,  0.09279025],\n",
       "       [-0.22241644, -0.0407262 ],\n",
       "       [ 0.39953384,  0.26340573],\n",
       "       [-0.02674298, -0.38909525],\n",
       "       [ 0.35420271, -0.01080751]])"
      ]
     },
     "execution_count": 11,
     "metadata": {},
     "output_type": "execute_result"
    }
   ],
   "source": [
    "Xnew"
   ]
  }
 ],
 "metadata": {
  "kernelspec": {
   "display_name": "Python 3",
   "language": "python",
   "name": "python3"
  },
  "language_info": {
   "codemirror_mode": {
    "name": "ipython",
    "version": 3
   },
   "file_extension": ".py",
   "mimetype": "text/x-python",
   "name": "python",
   "nbconvert_exporter": "python",
   "pygments_lexer": "ipython3",
   "version": "3.7.5"
  }
 },
 "nbformat": 4,
 "nbformat_minor": 2
}
